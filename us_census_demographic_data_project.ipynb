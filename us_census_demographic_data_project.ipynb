{
  "nbformat": 4,
  "nbformat_minor": 0,
  "metadata": {
    "colab": {
      "name": "us_census_demographic_data_project.ipynb",
      "version": "0.3.2",
      "provenance": [],
      "collapsed_sections": []
    },
    "kernelspec": {
      "name": "python3",
      "display_name": "Python 3"
    }
  },
  "cells": [
    {
      "cell_type": "markdown",
      "metadata": {
        "id": "t7dXtkkj39Jf",
        "colab_type": "text"
      },
      "source": [
        "# ABD NÜFUS SAYIMI VERİ KÜMESİNDEN GELİR TAHMİNİ"
      ]
    },
    {
      "cell_type": "markdown",
      "metadata": {
        "id": "OVJCiexx4M33",
        "colab_type": "text"
      },
      "source": [
        "ABD nufüs sayım bürosu tarafından toplanmış 2015 yılına ait verilerdir. Verinin içerisinde 37 sütun, 74 000 satır mevcuttur. Verinin öznitelikleri; eyalet bilgisi, ilçe, toplam nüfus, erkek sayı, kadın sayı, koyu esmer, beyaz, siyahi, yerli, asya, pasifik, vatandaş sayısı, hanehalki geliri, kişi başına düşen gelir, yoksulluk seviyesi, iş sektör bilgisi, çalışma/ çalışmama durumu gibi bilgiler bulunmaktadır. \n",
        "\n",
        "Bu veri üzerinde çalışma amacı ise;\n",
        "Devlet (sınıflandırma) veya hane halkı geliri (regresyon) gibi şeyleri tahmin edebilir miyiz? Verilerde ne tür kümeler bulabiliriz?  gibi sorulardır. \n"
      ]
    },
    {
      "cell_type": "markdown",
      "metadata": {
        "id": "fZBPs5zqUhwA",
        "colab_type": "text"
      },
      "source": [
        "-----------------------------------------------------------------------------------------------------------------------------------------\n",
        "# **İçindekiler**\n",
        "## 1- Kullanılacak kütüphanelerin projeye dahil edilmesi\n",
        "## 2- Veri kümesinin yüklenmesi (Colab için)\n",
        "### 2.1- Veri kümesinin boyutu\n",
        "## 3- Veri Ön İşleme\n",
        "### 3.1 - Eksik verilerin ve index değerlerinin temizlenmesi\n",
        "### 3.2 - Dönüşüm işlemlerinin gerçekleştirilmesi\n",
        "### 3.3 - Verinin kullanılma ihtimaline karşın yüzdelik dilimlere dönüştürülmesi\n",
        "### 3.4 - En fazla nüfusa sahip 4 şehrin farklı veri setine ayrılması\n",
        "#### 3.4.1 - En fazla nüfusa sahip 4 şehrin ırklara göre gruplandırılması\n",
        "#### 3.4.2 - En fazla nüfusa sahip 4 şehrin cinsiyete göre gruplandırılması\n",
        "#### 3.4.4 - En fazla nüfusa sahip 4 şehrin gelire göre gruplandırılması\n",
        "### 3.5 - Korelasyon Analizi\n",
        "## 4 - Veri Kümesinin Görselleştirilmesi\n",
        "### 4.1 - Irklara göre nufus dağılımı\n",
        "### 4.2 - Toplam nüfusa göre 4 büyük şehirde çalışma sektörü dağılımı\n",
        "### 4.3 -  Toplam nüfusa göre 4 büyük şehirde cinsiyet dağılımı\n",
        "### 4.4 - Toplam nüfusa göre 4 büyük şehirde ırk dağılımı\n",
        "### 4.5 - Cinsiyet ve ırka göre gelir dağılımı\n",
        "### 4.6 - Sektörlere göre çocuk fakirliği dağılımı\n",
        "### 4.7 - Çalışma durumuna göre dağılım\n",
        "### 4.8 - Çalışma/ Çalışmama durumuna göre dağılım\n",
        "## 5- Model Oluşturma\n",
        "### 5.1 - Model için Ön Hazırlık\n",
        "### 5.2 - Train ve Test setlerinin ayrılması\n",
        "### 5.3 - Modellerin Kurulması  ve Tahmin- Confusion Matrix\n",
        "#### 5.3.1 Logistic Regresyon\n",
        "#### 5.3.2 – KNN\n",
        "#### 5.3.3 - Decision Tree\n",
        "#### 5.3.4 - Random Forest\n",
        "#### 5.3.5 - Gradient Boosting\n",
        "#### 5.3.6 – XgBoost\n",
        "##### 5.3.6.1 XgBoost öznitelikleri önem sıralamasına göre grafiklendirmek\n",
        "#### 5.3.7 – CatBoost\n",
        "### 5.4 - Modellerin Değerlendirilmesi\n",
        "#### 5.4.1 - Accuracy score değerleri\n",
        "#### 5.4.2 - Model Başarısının Sınanması\n",
        "#### 5.4.3 - Model Tahmin Başarısı Değerlendirmesi\n",
        "## 6 - Sonuçların Görselleştirilmesi\n",
        "\n",
        "\n",
        "\n",
        "\n",
        "-------------------------------------------------------------------------------------------------------------------------"
      ]
    },
    {
      "cell_type": "markdown",
      "metadata": {
        "id": "2Twm69Mi5Ok5",
        "colab_type": "text"
      },
      "source": [
        "##1- Kullanılacak kütüphanelerin projeye dahil edilmesi"
      ]
    },
    {
      "cell_type": "code",
      "metadata": {
        "id": "mLGmdJfuTL-5",
        "colab_type": "code",
        "colab": {}
      },
      "source": [
        "\n",
        "import numpy as np \n",
        "import pandas as pd\n",
        "import matplotlib.pyplot as plt \n",
        "import seaborn as sns \n",
        "%matplotlib inline\n",
        "from pandas.plotting import scatter_matrix\n",
        "from sklearn import linear_model\n",
        "import statsmodels.api as sm\n",
        "\n",
        "from sklearn import model_selection\n",
        "from sklearn.model_selection import train_test_split \n",
        "from sklearn.preprocessing import StandardScaler \n",
        "from sklearn.preprocessing import LabelEncoder\n",
        "\n",
        "from sklearn.metrics import classification_report\n",
        "from sklearn.metrics import confusion_matrix\n",
        "from sklearn.metrics import accuracy_score\n",
        "\n",
        "from sklearn.linear_model import LogisticRegression\n",
        "from sklearn.tree import DecisionTreeClassifier\n",
        "from sklearn.neighbors import KNeighborsClassifier\n",
        "from sklearn.naive_bayes import GaussianNB\n",
        "from sklearn.svm import SVC\n",
        "from xgboost import XGBClassifier\n",
        "from sklearn.ensemble import RandomForestClassifier\n",
        "from sklearn.ensemble import GradientBoostingClassifier\n",
        "from catboost import CatBoostClassifier\n",
        "from sklearn.model_selection import cross_val_score\n",
        "from sklearn.model_selection import GridSearchCV\n",
        "from time import time\n",
        "from scipy.stats import randint as sp_randint\n",
        "import xgboost as xgb\n",
        "\n",
        "import warnings\n",
        "warnings.filterwarnings('ignore')"
      ],
      "execution_count": 0,
      "outputs": []
    },
    {
      "cell_type": "markdown",
      "metadata": {
        "id": "U7DhQyb55Xb7",
        "colab_type": "text"
      },
      "source": [
        "## 2- Veri kümesinin yüklenmesi (Colab için)"
      ]
    },
    {
      "cell_type": "code",
      "metadata": {
        "id": "54nKK1fnV2CC",
        "colab_type": "code",
        "outputId": "e970f1d9-b452-46d1-8d9a-1b5b13c74969",
        "colab": {
          "base_uri": "https://localhost:8080/",
          "height": 34
        }
      },
      "source": [
        "\n",
        "from google.colab import drive\n",
        "drive.mount('/content/drive/') #mount drive ı colaba sanal disk olarak eklemektir. \n",
        "#mount işlemi bir kez yapılır. "
      ],
      "execution_count": 44,
      "outputs": [
        {
          "output_type": "stream",
          "text": [
            "Drive already mounted at /content/drive/; to attempt to forcibly remount, call drive.mount(\"/content/drive/\", force_remount=True).\n"
          ],
          "name": "stdout"
        }
      ]
    },
    {
      "cell_type": "code",
      "metadata": {
        "id": "N5XlxIVAW6dC",
        "colab_type": "code",
        "outputId": "c30918c6-02ce-493f-e3da-5b3147d02195",
        "colab": {
          "base_uri": "https://localhost:8080/",
          "height": 34
        }
      },
      "source": [
        "!pwd #mevcut dizinin öğrenilmesi"
      ],
      "execution_count": 45,
      "outputs": [
        {
          "output_type": "stream",
          "text": [
            "/content/drive/My Drive/project\n"
          ],
          "name": "stdout"
        }
      ]
    },
    {
      "cell_type": "code",
      "metadata": {
        "id": "5ZfcuuuBXbpN",
        "colab_type": "code",
        "outputId": "194acd49-0fc9-4e56-a7db-45bfeddb672b",
        "colab": {
          "base_uri": "https://localhost:8080/",
          "height": 52
        }
      },
      "source": [
        "%cd \"/content/drive/My Drive/project\" # verinin bulunduğu dizine ulaşmak"
      ],
      "execution_count": 43,
      "outputs": [
        {
          "output_type": "stream",
          "text": [
            "[Errno 2] No such file or directory: '/content/drive/My Drive/project # verinin bulunduğu dizine ulaşmak'\n",
            "/content/drive/My Drive/project\n"
          ],
          "name": "stdout"
        }
      ]
    },
    {
      "cell_type": "code",
      "metadata": {
        "id": "Wk1ZmANWX2T9",
        "colab_type": "code",
        "outputId": "f54f74ea-89b1-412d-929c-cbccf1856485",
        "colab": {
          "base_uri": "https://localhost:8080/",
          "height": 33
        }
      },
      "source": [
        "!ls #dizindeki mevcut dosyaların görüntülenmesi"
      ],
      "execution_count": 0,
      "outputs": [
        {
          "output_type": "stream",
          "text": [
            "acs2015_census_tract_data.csv\n"
          ],
          "name": "stdout"
        }
      ]
    },
    {
      "cell_type": "code",
      "metadata": {
        "id": "KcHKpOR0NshA",
        "colab_type": "code",
        "colab": {}
      },
      "source": [
        "acs2015_census = pd.read_csv(\"acs2015_census_tract_data.csv\")  #Verinin yüklenmesi"
      ],
      "execution_count": 0,
      "outputs": []
    },
    {
      "cell_type": "markdown",
      "metadata": {
        "id": "99xYO3AQ6XQI",
        "colab_type": "text"
      },
      "source": [
        "### 2.1- Veri kümesinin boyutu"
      ]
    },
    {
      "cell_type": "code",
      "metadata": {
        "id": "Gnt-Ae8EOF8M",
        "colab_type": "code",
        "outputId": "096986ae-7510-4b0c-f57a-654eea822db6",
        "colab": {
          "base_uri": "https://localhost:8080/",
          "height": 34
        }
      },
      "source": [
        "acs2015_census.shape "
      ],
      "execution_count": 47,
      "outputs": [
        {
          "output_type": "execute_result",
          "data": {
            "text/plain": [
              "(74001, 37)"
            ]
          },
          "metadata": {
            "tags": []
          },
          "execution_count": 47
        }
      ]
    },
    {
      "cell_type": "markdown",
      "metadata": {
        "id": "D7djVMLD6h2I",
        "colab_type": "text"
      },
      "source": [
        "## 3- Veri Ön İşleme\n",
        "\n",
        "\n"
      ]
    },
    {
      "cell_type": "markdown",
      "metadata": {
        "id": "xtNALU5s617v",
        "colab_type": "text"
      },
      "source": [
        "### 3.1 - Eksik verilerin ve index değerlerinin temizlenmesi"
      ]
    },
    {
      "cell_type": "code",
      "metadata": {
        "id": "p05ypz4bOK6d",
        "colab_type": "code",
        "colab": {}
      },
      "source": [
        "acs2015_census = acs2015_census.dropna()\n",
        "acs2015_census = acs2015_census.reset_index(drop = True)"
      ],
      "execution_count": 0,
      "outputs": []
    },
    {
      "cell_type": "markdown",
      "metadata": {
        "id": "kBpVKEKO7C1t",
        "colab_type": "text"
      },
      "source": [
        "### 3.2 - Dönüşüm işlemlerinin gerçekleştirilmesi"
      ]
    },
    {
      "cell_type": "code",
      "metadata": {
        "id": "Oxcfkwg6OK-X",
        "colab_type": "code",
        "colab": {}
      },
      "source": [
        "percentages = ['Hispanic', 'White', 'Black', 'Native', 'Asian', 'Pacific','Poverty', 'ChildPoverty', 'Professional', 'Service', 'Office','Construction','Production','Drive','Carpool','Transit','Walk','OtherTransp','WorkAtHome', 'PrivateWork', 'PublicWork', 'SelfEmployed', 'FamilyWork', 'Unemployment']\n",
        "for i in percentages:\n",
        "    acs2015_census[i] = round(acs2015_census['TotalPop'] * acs2015_census[i] / 100) "
      ],
      "execution_count": 0,
      "outputs": []
    },
    {
      "cell_type": "code",
      "metadata": {
        "id": "JvFYdnR0OLHb",
        "colab_type": "code",
        "outputId": "fb95773a-6664-44eb-a406-45a70b4892b0",
        "colab": {
          "base_uri": "https://localhost:8080/",
          "height": 217
        }
      },
      "source": [
        "acs2015_census.head() # verinin genel görünümünün incelenmesi"
      ],
      "execution_count": 67,
      "outputs": [
        {
          "output_type": "execute_result",
          "data": {
            "text/html": [
              "<div>\n",
              "<style scoped>\n",
              "    .dataframe tbody tr th:only-of-type {\n",
              "        vertical-align: middle;\n",
              "    }\n",
              "\n",
              "    .dataframe tbody tr th {\n",
              "        vertical-align: top;\n",
              "    }\n",
              "\n",
              "    .dataframe thead th {\n",
              "        text-align: right;\n",
              "    }\n",
              "</style>\n",
              "<table border=\"1\" class=\"dataframe\">\n",
              "  <thead>\n",
              "    <tr style=\"text-align: right;\">\n",
              "      <th></th>\n",
              "      <th>CensusTract</th>\n",
              "      <th>State</th>\n",
              "      <th>County</th>\n",
              "      <th>TotalPop</th>\n",
              "      <th>Men</th>\n",
              "      <th>Women</th>\n",
              "      <th>Hispanic</th>\n",
              "      <th>White</th>\n",
              "      <th>Black</th>\n",
              "      <th>Native</th>\n",
              "      <th>Asian</th>\n",
              "      <th>Pacific</th>\n",
              "      <th>Citizen</th>\n",
              "      <th>Income</th>\n",
              "      <th>IncomeErr</th>\n",
              "      <th>IncomePerCap</th>\n",
              "      <th>IncomePerCapErr</th>\n",
              "      <th>Poverty</th>\n",
              "      <th>ChildPoverty</th>\n",
              "      <th>Professional</th>\n",
              "      <th>Service</th>\n",
              "      <th>Office</th>\n",
              "      <th>Construction</th>\n",
              "      <th>Production</th>\n",
              "      <th>Drive</th>\n",
              "      <th>Carpool</th>\n",
              "      <th>Transit</th>\n",
              "      <th>Walk</th>\n",
              "      <th>OtherTransp</th>\n",
              "      <th>WorkAtHome</th>\n",
              "      <th>MeanCommute</th>\n",
              "      <th>Employed</th>\n",
              "      <th>PrivateWork</th>\n",
              "      <th>PublicWork</th>\n",
              "      <th>SelfEmployed</th>\n",
              "      <th>FamilyWork</th>\n",
              "      <th>Unemployment</th>\n",
              "      <th>M_share</th>\n",
              "      <th>F_share</th>\n",
              "      <th>Unemployment_Rate</th>\n",
              "      <th>White_Fraction</th>\n",
              "      <th>Black_Fraction</th>\n",
              "      <th>Asian_Fraction</th>\n",
              "      <th>Hispanic_Fraction</th>\n",
              "      <th>Native_Fraction</th>\n",
              "      <th>Pacific_Fraction</th>\n",
              "      <th>high_low_income</th>\n",
              "    </tr>\n",
              "  </thead>\n",
              "  <tbody>\n",
              "    <tr>\n",
              "      <th>0</th>\n",
              "      <td>1001020100</td>\n",
              "      <td>Alabama</td>\n",
              "      <td>Autauga</td>\n",
              "      <td>1948</td>\n",
              "      <td>940</td>\n",
              "      <td>1008</td>\n",
              "      <td>18.0</td>\n",
              "      <td>1703.0</td>\n",
              "      <td>150.0</td>\n",
              "      <td>6.0</td>\n",
              "      <td>12.0</td>\n",
              "      <td>0.0</td>\n",
              "      <td>1503</td>\n",
              "      <td>61838</td>\n",
              "      <td>11900.0</td>\n",
              "      <td>25713.0</td>\n",
              "      <td>4548.0</td>\n",
              "      <td>158.0</td>\n",
              "      <td>164.0</td>\n",
              "      <td>676.0</td>\n",
              "      <td>331.0</td>\n",
              "      <td>415.0</td>\n",
              "      <td>232.0</td>\n",
              "      <td>296.0</td>\n",
              "      <td>1757.0</td>\n",
              "      <td>94.0</td>\n",
              "      <td>0.0</td>\n",
              "      <td>10.0</td>\n",
              "      <td>45.0</td>\n",
              "      <td>41.0</td>\n",
              "      <td>25.0</td>\n",
              "      <td>943</td>\n",
              "      <td>1502.0</td>\n",
              "      <td>356.0</td>\n",
              "      <td>90.0</td>\n",
              "      <td>0.0</td>\n",
              "      <td>105.0</td>\n",
              "      <td>0.482546</td>\n",
              "      <td>0.517454</td>\n",
              "      <td>0.053901</td>\n",
              "      <td>0.874230</td>\n",
              "      <td>0.077002</td>\n",
              "      <td>0.006160</td>\n",
              "      <td>0.009240</td>\n",
              "      <td>0.003080</td>\n",
              "      <td>0.006160</td>\n",
              "      <td>Mid</td>\n",
              "    </tr>\n",
              "    <tr>\n",
              "      <th>1</th>\n",
              "      <td>1001020200</td>\n",
              "      <td>Alabama</td>\n",
              "      <td>Autauga</td>\n",
              "      <td>2156</td>\n",
              "      <td>1059</td>\n",
              "      <td>1097</td>\n",
              "      <td>17.0</td>\n",
              "      <td>871.0</td>\n",
              "      <td>1149.0</td>\n",
              "      <td>0.0</td>\n",
              "      <td>50.0</td>\n",
              "      <td>0.0</td>\n",
              "      <td>1662</td>\n",
              "      <td>32303</td>\n",
              "      <td>13538.0</td>\n",
              "      <td>18021.0</td>\n",
              "      <td>2474.0</td>\n",
              "      <td>550.0</td>\n",
              "      <td>869.0</td>\n",
              "      <td>481.0</td>\n",
              "      <td>533.0</td>\n",
              "      <td>464.0</td>\n",
              "      <td>203.0</td>\n",
              "      <td>474.0</td>\n",
              "      <td>1861.0</td>\n",
              "      <td>282.0</td>\n",
              "      <td>0.0</td>\n",
              "      <td>0.0</td>\n",
              "      <td>15.0</td>\n",
              "      <td>0.0</td>\n",
              "      <td>23.4</td>\n",
              "      <td>753</td>\n",
              "      <td>1660.0</td>\n",
              "      <td>364.0</td>\n",
              "      <td>132.0</td>\n",
              "      <td>0.0</td>\n",
              "      <td>287.0</td>\n",
              "      <td>0.491187</td>\n",
              "      <td>0.508813</td>\n",
              "      <td>0.133117</td>\n",
              "      <td>0.403989</td>\n",
              "      <td>0.532931</td>\n",
              "      <td>0.023191</td>\n",
              "      <td>0.007885</td>\n",
              "      <td>0.000000</td>\n",
              "      <td>0.023191</td>\n",
              "      <td>Mid</td>\n",
              "    </tr>\n",
              "    <tr>\n",
              "      <th>2</th>\n",
              "      <td>1001020300</td>\n",
              "      <td>Alabama</td>\n",
              "      <td>Autauga</td>\n",
              "      <td>2968</td>\n",
              "      <td>1364</td>\n",
              "      <td>1604</td>\n",
              "      <td>0.0</td>\n",
              "      <td>2211.0</td>\n",
              "      <td>552.0</td>\n",
              "      <td>15.0</td>\n",
              "      <td>42.0</td>\n",
              "      <td>9.0</td>\n",
              "      <td>2335</td>\n",
              "      <td>44922</td>\n",
              "      <td>5629.0</td>\n",
              "      <td>20689.0</td>\n",
              "      <td>2817.0</td>\n",
              "      <td>377.0</td>\n",
              "      <td>585.0</td>\n",
              "      <td>932.0</td>\n",
              "      <td>739.0</td>\n",
              "      <td>656.0</td>\n",
              "      <td>273.0</td>\n",
              "      <td>368.0</td>\n",
              "      <td>2814.0</td>\n",
              "      <td>83.0</td>\n",
              "      <td>0.0</td>\n",
              "      <td>0.0</td>\n",
              "      <td>0.0</td>\n",
              "      <td>74.0</td>\n",
              "      <td>19.6</td>\n",
              "      <td>1373</td>\n",
              "      <td>1902.0</td>\n",
              "      <td>700.0</td>\n",
              "      <td>365.0</td>\n",
              "      <td>0.0</td>\n",
              "      <td>184.0</td>\n",
              "      <td>0.459569</td>\n",
              "      <td>0.540431</td>\n",
              "      <td>0.061995</td>\n",
              "      <td>0.744946</td>\n",
              "      <td>0.185984</td>\n",
              "      <td>0.014151</td>\n",
              "      <td>0.000000</td>\n",
              "      <td>0.005054</td>\n",
              "      <td>0.014151</td>\n",
              "      <td>Mid</td>\n",
              "    </tr>\n",
              "    <tr>\n",
              "      <th>3</th>\n",
              "      <td>1001020400</td>\n",
              "      <td>Alabama</td>\n",
              "      <td>Autauga</td>\n",
              "      <td>4423</td>\n",
              "      <td>2172</td>\n",
              "      <td>2251</td>\n",
              "      <td>464.0</td>\n",
              "      <td>3662.0</td>\n",
              "      <td>164.0</td>\n",
              "      <td>71.0</td>\n",
              "      <td>0.0</td>\n",
              "      <td>0.0</td>\n",
              "      <td>3306</td>\n",
              "      <td>54329</td>\n",
              "      <td>7003.0</td>\n",
              "      <td>24125.0</td>\n",
              "      <td>2870.0</td>\n",
              "      <td>93.0</td>\n",
              "      <td>71.0</td>\n",
              "      <td>1194.0</td>\n",
              "      <td>920.0</td>\n",
              "      <td>1194.0</td>\n",
              "      <td>385.0</td>\n",
              "      <td>725.0</td>\n",
              "      <td>3830.0</td>\n",
              "      <td>402.0</td>\n",
              "      <td>0.0</td>\n",
              "      <td>0.0</td>\n",
              "      <td>115.0</td>\n",
              "      <td>71.0</td>\n",
              "      <td>25.3</td>\n",
              "      <td>1782</td>\n",
              "      <td>3348.0</td>\n",
              "      <td>938.0</td>\n",
              "      <td>137.0</td>\n",
              "      <td>0.0</td>\n",
              "      <td>478.0</td>\n",
              "      <td>0.491069</td>\n",
              "      <td>0.508931</td>\n",
              "      <td>0.108071</td>\n",
              "      <td>0.827945</td>\n",
              "      <td>0.037079</td>\n",
              "      <td>0.000000</td>\n",
              "      <td>0.104906</td>\n",
              "      <td>0.016052</td>\n",
              "      <td>0.000000</td>\n",
              "      <td>Mid</td>\n",
              "    </tr>\n",
              "    <tr>\n",
              "      <th>4</th>\n",
              "      <td>1001020500</td>\n",
              "      <td>Alabama</td>\n",
              "      <td>Autauga</td>\n",
              "      <td>10763</td>\n",
              "      <td>4922</td>\n",
              "      <td>5841</td>\n",
              "      <td>75.0</td>\n",
              "      <td>7373.0</td>\n",
              "      <td>2669.0</td>\n",
              "      <td>0.0</td>\n",
              "      <td>409.0</td>\n",
              "      <td>0.0</td>\n",
              "      <td>7666</td>\n",
              "      <td>51965</td>\n",
              "      <td>6935.0</td>\n",
              "      <td>27526.0</td>\n",
              "      <td>2813.0</td>\n",
              "      <td>1227.0</td>\n",
              "      <td>1884.0</td>\n",
              "      <td>5338.0</td>\n",
              "      <td>1528.0</td>\n",
              "      <td>1959.0</td>\n",
              "      <td>226.0</td>\n",
              "      <td>1701.0</td>\n",
              "      <td>9471.0</td>\n",
              "      <td>1130.0</td>\n",
              "      <td>0.0</td>\n",
              "      <td>0.0</td>\n",
              "      <td>65.0</td>\n",
              "      <td>97.0</td>\n",
              "      <td>24.8</td>\n",
              "      <td>5037</td>\n",
              "      <td>7222.0</td>\n",
              "      <td>2971.0</td>\n",
              "      <td>570.0</td>\n",
              "      <td>0.0</td>\n",
              "      <td>452.0</td>\n",
              "      <td>0.457307</td>\n",
              "      <td>0.542693</td>\n",
              "      <td>0.041996</td>\n",
              "      <td>0.685032</td>\n",
              "      <td>0.247979</td>\n",
              "      <td>0.038001</td>\n",
              "      <td>0.006968</td>\n",
              "      <td>0.000000</td>\n",
              "      <td>0.038001</td>\n",
              "      <td>Mid</td>\n",
              "    </tr>\n",
              "  </tbody>\n",
              "</table>\n",
              "</div>"
            ],
            "text/plain": [
              "   CensusTract    State  ... Pacific_Fraction  high_low_income\n",
              "0   1001020100  Alabama  ...         0.006160              Mid\n",
              "1   1001020200  Alabama  ...         0.023191              Mid\n",
              "2   1001020300  Alabama  ...         0.014151              Mid\n",
              "3   1001020400  Alabama  ...         0.000000              Mid\n",
              "4   1001020500  Alabama  ...         0.038001              Mid\n",
              "\n",
              "[5 rows x 47 columns]"
            ]
          },
          "metadata": {
            "tags": []
          },
          "execution_count": 67
        }
      ]
    },
    {
      "cell_type": "markdown",
      "metadata": {
        "id": "e_HRKEvX7PEq",
        "colab_type": "text"
      },
      "source": [
        "### 3.3 - Verinin kullanılma ihtimaline karşın yüzdelik dilimlere dönüştürülmesi"
      ]
    },
    {
      "cell_type": "code",
      "metadata": {
        "id": "6IN5XFKAOLLA",
        "colab_type": "code",
        "colab": {}
      },
      "source": [
        "acs2015_census['M_share'] = acs2015_census.Men / acs2015_census.TotalPop \n",
        "acs2015_census['F_share'] = acs2015_census.Women / acs2015_census.TotalPop \n",
        "acs2015_census['Unemployment_Rate'] = acs2015_census.Unemployment / acs2015_census.TotalPop \n",
        "acs2015_census['White_Fraction'] = acs2015_census.White / acs2015_census.TotalPop\n",
        "acs2015_census['Black_Fraction'] = acs2015_census.Black / acs2015_census.TotalPop\n",
        "acs2015_census['Asian_Fraction'] = acs2015_census.Asian / acs2015_census.TotalPop\n",
        "acs2015_census['Hispanic_Fraction'] = acs2015_census.Hispanic / acs2015_census.TotalPop\n",
        "acs2015_census['Native_Fraction'] = acs2015_census.Native / acs2015_census.TotalPop\n",
        "acs2015_census['Pacific_Fraction'] = acs2015_census.Asian / acs2015_census.TotalPop"
      ],
      "execution_count": 0,
      "outputs": []
    },
    {
      "cell_type": "code",
      "metadata": {
        "id": "l_flqBmROLQJ",
        "colab_type": "code",
        "outputId": "3774d736-599c-423e-8f33-b7beab088407",
        "colab": {
          "base_uri": "https://localhost:8080/",
          "height": 217
        }
      },
      "source": [
        "acs2015_census.head() #eklenen yeni sütunları incelemek"
      ],
      "execution_count": 0,
      "outputs": [
        {
          "output_type": "execute_result",
          "data": {
            "text/html": [
              "<div>\n",
              "<style scoped>\n",
              "    .dataframe tbody tr th:only-of-type {\n",
              "        vertical-align: middle;\n",
              "    }\n",
              "\n",
              "    .dataframe tbody tr th {\n",
              "        vertical-align: top;\n",
              "    }\n",
              "\n",
              "    .dataframe thead th {\n",
              "        text-align: right;\n",
              "    }\n",
              "</style>\n",
              "<table border=\"1\" class=\"dataframe\">\n",
              "  <thead>\n",
              "    <tr style=\"text-align: right;\">\n",
              "      <th></th>\n",
              "      <th>CensusTract</th>\n",
              "      <th>State</th>\n",
              "      <th>County</th>\n",
              "      <th>TotalPop</th>\n",
              "      <th>Men</th>\n",
              "      <th>Women</th>\n",
              "      <th>Hispanic</th>\n",
              "      <th>White</th>\n",
              "      <th>Black</th>\n",
              "      <th>Native</th>\n",
              "      <th>Asian</th>\n",
              "      <th>Pacific</th>\n",
              "      <th>Citizen</th>\n",
              "      <th>Income</th>\n",
              "      <th>IncomeErr</th>\n",
              "      <th>IncomePerCap</th>\n",
              "      <th>IncomePerCapErr</th>\n",
              "      <th>Poverty</th>\n",
              "      <th>ChildPoverty</th>\n",
              "      <th>Professional</th>\n",
              "      <th>Service</th>\n",
              "      <th>Office</th>\n",
              "      <th>Construction</th>\n",
              "      <th>Production</th>\n",
              "      <th>Drive</th>\n",
              "      <th>Carpool</th>\n",
              "      <th>Transit</th>\n",
              "      <th>Walk</th>\n",
              "      <th>OtherTransp</th>\n",
              "      <th>WorkAtHome</th>\n",
              "      <th>MeanCommute</th>\n",
              "      <th>Employed</th>\n",
              "      <th>PrivateWork</th>\n",
              "      <th>PublicWork</th>\n",
              "      <th>SelfEmployed</th>\n",
              "      <th>FamilyWork</th>\n",
              "      <th>Unemployment</th>\n",
              "      <th>M_share</th>\n",
              "      <th>F_share</th>\n",
              "      <th>Unemployment_Rate</th>\n",
              "      <th>White_Fraction</th>\n",
              "      <th>Black_Fraction</th>\n",
              "      <th>Asian_Fraction</th>\n",
              "      <th>Hispanic_Fraction</th>\n",
              "      <th>Native_Fraction</th>\n",
              "      <th>Pacific_Fraction</th>\n",
              "    </tr>\n",
              "  </thead>\n",
              "  <tbody>\n",
              "    <tr>\n",
              "      <th>0</th>\n",
              "      <td>1001020100</td>\n",
              "      <td>Alabama</td>\n",
              "      <td>Autauga</td>\n",
              "      <td>1948</td>\n",
              "      <td>940</td>\n",
              "      <td>1008</td>\n",
              "      <td>18.0</td>\n",
              "      <td>1703.0</td>\n",
              "      <td>150.0</td>\n",
              "      <td>6.0</td>\n",
              "      <td>12.0</td>\n",
              "      <td>0.0</td>\n",
              "      <td>1503</td>\n",
              "      <td>61838.0</td>\n",
              "      <td>11900.0</td>\n",
              "      <td>25713.0</td>\n",
              "      <td>4548.0</td>\n",
              "      <td>158.0</td>\n",
              "      <td>164.0</td>\n",
              "      <td>676.0</td>\n",
              "      <td>331.0</td>\n",
              "      <td>415.0</td>\n",
              "      <td>232.0</td>\n",
              "      <td>296.0</td>\n",
              "      <td>1757.0</td>\n",
              "      <td>94.0</td>\n",
              "      <td>0.0</td>\n",
              "      <td>10.0</td>\n",
              "      <td>45.0</td>\n",
              "      <td>41.0</td>\n",
              "      <td>25.0</td>\n",
              "      <td>943</td>\n",
              "      <td>1502.0</td>\n",
              "      <td>356.0</td>\n",
              "      <td>90.0</td>\n",
              "      <td>0.0</td>\n",
              "      <td>105.0</td>\n",
              "      <td>0.482546</td>\n",
              "      <td>0.517454</td>\n",
              "      <td>0.053901</td>\n",
              "      <td>0.874230</td>\n",
              "      <td>0.077002</td>\n",
              "      <td>0.006160</td>\n",
              "      <td>0.009240</td>\n",
              "      <td>0.003080</td>\n",
              "      <td>0.006160</td>\n",
              "    </tr>\n",
              "    <tr>\n",
              "      <th>1</th>\n",
              "      <td>1001020200</td>\n",
              "      <td>Alabama</td>\n",
              "      <td>Autauga</td>\n",
              "      <td>2156</td>\n",
              "      <td>1059</td>\n",
              "      <td>1097</td>\n",
              "      <td>17.0</td>\n",
              "      <td>871.0</td>\n",
              "      <td>1149.0</td>\n",
              "      <td>0.0</td>\n",
              "      <td>50.0</td>\n",
              "      <td>0.0</td>\n",
              "      <td>1662</td>\n",
              "      <td>32303.0</td>\n",
              "      <td>13538.0</td>\n",
              "      <td>18021.0</td>\n",
              "      <td>2474.0</td>\n",
              "      <td>550.0</td>\n",
              "      <td>869.0</td>\n",
              "      <td>481.0</td>\n",
              "      <td>533.0</td>\n",
              "      <td>464.0</td>\n",
              "      <td>203.0</td>\n",
              "      <td>474.0</td>\n",
              "      <td>1861.0</td>\n",
              "      <td>282.0</td>\n",
              "      <td>0.0</td>\n",
              "      <td>0.0</td>\n",
              "      <td>15.0</td>\n",
              "      <td>0.0</td>\n",
              "      <td>23.4</td>\n",
              "      <td>753</td>\n",
              "      <td>1660.0</td>\n",
              "      <td>364.0</td>\n",
              "      <td>132.0</td>\n",
              "      <td>0.0</td>\n",
              "      <td>287.0</td>\n",
              "      <td>0.491187</td>\n",
              "      <td>0.508813</td>\n",
              "      <td>0.133117</td>\n",
              "      <td>0.403989</td>\n",
              "      <td>0.532931</td>\n",
              "      <td>0.023191</td>\n",
              "      <td>0.007885</td>\n",
              "      <td>0.000000</td>\n",
              "      <td>0.023191</td>\n",
              "    </tr>\n",
              "    <tr>\n",
              "      <th>2</th>\n",
              "      <td>1001020300</td>\n",
              "      <td>Alabama</td>\n",
              "      <td>Autauga</td>\n",
              "      <td>2968</td>\n",
              "      <td>1364</td>\n",
              "      <td>1604</td>\n",
              "      <td>0.0</td>\n",
              "      <td>2211.0</td>\n",
              "      <td>552.0</td>\n",
              "      <td>15.0</td>\n",
              "      <td>42.0</td>\n",
              "      <td>9.0</td>\n",
              "      <td>2335</td>\n",
              "      <td>44922.0</td>\n",
              "      <td>5629.0</td>\n",
              "      <td>20689.0</td>\n",
              "      <td>2817.0</td>\n",
              "      <td>377.0</td>\n",
              "      <td>585.0</td>\n",
              "      <td>932.0</td>\n",
              "      <td>739.0</td>\n",
              "      <td>656.0</td>\n",
              "      <td>273.0</td>\n",
              "      <td>368.0</td>\n",
              "      <td>2814.0</td>\n",
              "      <td>83.0</td>\n",
              "      <td>0.0</td>\n",
              "      <td>0.0</td>\n",
              "      <td>0.0</td>\n",
              "      <td>74.0</td>\n",
              "      <td>19.6</td>\n",
              "      <td>1373</td>\n",
              "      <td>1902.0</td>\n",
              "      <td>700.0</td>\n",
              "      <td>365.0</td>\n",
              "      <td>0.0</td>\n",
              "      <td>184.0</td>\n",
              "      <td>0.459569</td>\n",
              "      <td>0.540431</td>\n",
              "      <td>0.061995</td>\n",
              "      <td>0.744946</td>\n",
              "      <td>0.185984</td>\n",
              "      <td>0.014151</td>\n",
              "      <td>0.000000</td>\n",
              "      <td>0.005054</td>\n",
              "      <td>0.014151</td>\n",
              "    </tr>\n",
              "    <tr>\n",
              "      <th>3</th>\n",
              "      <td>1001020400</td>\n",
              "      <td>Alabama</td>\n",
              "      <td>Autauga</td>\n",
              "      <td>4423</td>\n",
              "      <td>2172</td>\n",
              "      <td>2251</td>\n",
              "      <td>464.0</td>\n",
              "      <td>3662.0</td>\n",
              "      <td>164.0</td>\n",
              "      <td>71.0</td>\n",
              "      <td>0.0</td>\n",
              "      <td>0.0</td>\n",
              "      <td>3306</td>\n",
              "      <td>54329.0</td>\n",
              "      <td>7003.0</td>\n",
              "      <td>24125.0</td>\n",
              "      <td>2870.0</td>\n",
              "      <td>93.0</td>\n",
              "      <td>71.0</td>\n",
              "      <td>1194.0</td>\n",
              "      <td>920.0</td>\n",
              "      <td>1194.0</td>\n",
              "      <td>385.0</td>\n",
              "      <td>725.0</td>\n",
              "      <td>3830.0</td>\n",
              "      <td>402.0</td>\n",
              "      <td>0.0</td>\n",
              "      <td>0.0</td>\n",
              "      <td>115.0</td>\n",
              "      <td>71.0</td>\n",
              "      <td>25.3</td>\n",
              "      <td>1782</td>\n",
              "      <td>3348.0</td>\n",
              "      <td>938.0</td>\n",
              "      <td>137.0</td>\n",
              "      <td>0.0</td>\n",
              "      <td>478.0</td>\n",
              "      <td>0.491069</td>\n",
              "      <td>0.508931</td>\n",
              "      <td>0.108071</td>\n",
              "      <td>0.827945</td>\n",
              "      <td>0.037079</td>\n",
              "      <td>0.000000</td>\n",
              "      <td>0.104906</td>\n",
              "      <td>0.016052</td>\n",
              "      <td>0.000000</td>\n",
              "    </tr>\n",
              "    <tr>\n",
              "      <th>4</th>\n",
              "      <td>1001020500</td>\n",
              "      <td>Alabama</td>\n",
              "      <td>Autauga</td>\n",
              "      <td>10763</td>\n",
              "      <td>4922</td>\n",
              "      <td>5841</td>\n",
              "      <td>75.0</td>\n",
              "      <td>7373.0</td>\n",
              "      <td>2669.0</td>\n",
              "      <td>0.0</td>\n",
              "      <td>409.0</td>\n",
              "      <td>0.0</td>\n",
              "      <td>7666</td>\n",
              "      <td>51965.0</td>\n",
              "      <td>6935.0</td>\n",
              "      <td>27526.0</td>\n",
              "      <td>2813.0</td>\n",
              "      <td>1227.0</td>\n",
              "      <td>1884.0</td>\n",
              "      <td>5338.0</td>\n",
              "      <td>1528.0</td>\n",
              "      <td>1959.0</td>\n",
              "      <td>226.0</td>\n",
              "      <td>1701.0</td>\n",
              "      <td>9471.0</td>\n",
              "      <td>1130.0</td>\n",
              "      <td>0.0</td>\n",
              "      <td>0.0</td>\n",
              "      <td>65.0</td>\n",
              "      <td>97.0</td>\n",
              "      <td>24.8</td>\n",
              "      <td>5037</td>\n",
              "      <td>7222.0</td>\n",
              "      <td>2971.0</td>\n",
              "      <td>570.0</td>\n",
              "      <td>0.0</td>\n",
              "      <td>452.0</td>\n",
              "      <td>0.457307</td>\n",
              "      <td>0.542693</td>\n",
              "      <td>0.041996</td>\n",
              "      <td>0.685032</td>\n",
              "      <td>0.247979</td>\n",
              "      <td>0.038001</td>\n",
              "      <td>0.006968</td>\n",
              "      <td>0.000000</td>\n",
              "      <td>0.038001</td>\n",
              "    </tr>\n",
              "  </tbody>\n",
              "</table>\n",
              "</div>"
            ],
            "text/plain": [
              "   CensusTract    State  ... Native_Fraction  Pacific_Fraction\n",
              "0   1001020100  Alabama  ...        0.003080          0.006160\n",
              "1   1001020200  Alabama  ...        0.000000          0.023191\n",
              "2   1001020300  Alabama  ...        0.005054          0.014151\n",
              "3   1001020400  Alabama  ...        0.016052          0.000000\n",
              "4   1001020500  Alabama  ...        0.000000          0.038001\n",
              "\n",
              "[5 rows x 46 columns]"
            ]
          },
          "metadata": {
            "tags": []
          },
          "execution_count": 12
        }
      ]
    },
    {
      "cell_type": "code",
      "metadata": {
        "id": "ek_0W-VA8_I0",
        "colab_type": "code",
        "outputId": "f07b4c3d-f97d-47bc-8f41-0647841a6157",
        "colab": {
          "base_uri": "https://localhost:8080/",
          "height": 976
        }
      },
      "source": [
        "#en fazla nüfusa sahip 4 şehrin belirlenmesi\n",
        "acs2015_census.groupby(\"State\").TotalPop.sum()"
      ],
      "execution_count": 51,
      "outputs": [
        {
          "output_type": "execute_result",
          "data": {
            "text/plain": [
              "State\n",
              "Alabama                  4821879\n",
              "Alaska                    729562\n",
              "Arizona                  6531748\n",
              "Arkansas                 2956316\n",
              "California              38221472\n",
              "Colorado                 5244194\n",
              "Connecticut              3555917\n",
              "Delaware                  924235\n",
              "District of Columbia      634444\n",
              "Florida                 19509409\n",
              "Georgia                  9988480\n",
              "Hawaii                   1404139\n",
              "Idaho                    1616524\n",
              "Illinois                12850493\n",
              "Indiana                  6547728\n",
              "Iowa                     3087394\n",
              "Kansas                   2892983\n",
              "Kentucky                 4386973\n",
              "Louisiana                4623227\n",
              "Maine                    1329100\n",
              "Maryland                 5890432\n",
              "Massachusetts            6680803\n",
              "Michigan                 9855909\n",
              "Minnesota                5415423\n",
              "Mississippi              2983152\n",
              "Missouri                 6041445\n",
              "Montana                  1014088\n",
              "Nebraska                 1861738\n",
              "Nevada                   2778084\n",
              "New Hampshire            1324201\n",
              "New Jersey               8857622\n",
              "New Mexico               2084117\n",
              "New York                19562033\n",
              "North Carolina           9825251\n",
              "North Dakota              721640\n",
              "Ohio                    11532805\n",
              "Oklahoma                 3840607\n",
              "Oregon                   3939233\n",
              "Pennsylvania            12731388\n",
              "Puerto Rico              3560113\n",
              "Rhode Island             1053661\n",
              "South Carolina           4746374\n",
              "South Dakota              843190\n",
              "Tennessee                6482982\n",
              "Texas                   26456798\n",
              "Utah                     2900198\n",
              "Vermont                   626604\n",
              "Virginia                 8202003\n",
              "Washington               6977372\n",
              "West Virginia            1851420\n",
              "Wisconsin                5726162\n",
              "Wyoming                   579679\n",
              "Name: TotalPop, dtype: int64"
            ]
          },
          "metadata": {
            "tags": []
          },
          "execution_count": 51
        }
      ]
    },
    {
      "cell_type": "markdown",
      "metadata": {
        "id": "7mAgDx0x9pjB",
        "colab_type": "text"
      },
      "source": [
        "### 3.4 - En fazla nüfusa sahip 4 şehrin farklı veri setine ayrılması"
      ]
    },
    {
      "cell_type": "code",
      "metadata": {
        "id": "591caQMy8ugI",
        "colab_type": "code",
        "colab": {}
      },
      "source": [
        "state_top4 = acs2015_census[(acs2015_census['State'] == 'California') |\n",
        "                            (acs2015_census['State'] == 'Florida') |\n",
        "                            (acs2015_census['State'] == 'New York') | \n",
        "                            (acs2015_census['State'] == 'Texas')]"
      ],
      "execution_count": 0,
      "outputs": []
    },
    {
      "cell_type": "code",
      "metadata": {
        "id": "lZO8bp4U909v",
        "colab_type": "code",
        "outputId": "a87a4ab9-986f-4927-ce5c-a3ed1e14edaf",
        "colab": {
          "base_uri": "https://localhost:8080/",
          "height": 217
        }
      },
      "source": [
        "#Oluşturulan veri kümesine genel bakış\n",
        "state_top4.head()"
      ],
      "execution_count": 0,
      "outputs": [
        {
          "output_type": "execute_result",
          "data": {
            "text/html": [
              "<div>\n",
              "<style scoped>\n",
              "    .dataframe tbody tr th:only-of-type {\n",
              "        vertical-align: middle;\n",
              "    }\n",
              "\n",
              "    .dataframe tbody tr th {\n",
              "        vertical-align: top;\n",
              "    }\n",
              "\n",
              "    .dataframe thead th {\n",
              "        text-align: right;\n",
              "    }\n",
              "</style>\n",
              "<table border=\"1\" class=\"dataframe\">\n",
              "  <thead>\n",
              "    <tr style=\"text-align: right;\">\n",
              "      <th></th>\n",
              "      <th>CensusTract</th>\n",
              "      <th>State</th>\n",
              "      <th>County</th>\n",
              "      <th>TotalPop</th>\n",
              "      <th>Men</th>\n",
              "      <th>Women</th>\n",
              "      <th>Hispanic</th>\n",
              "      <th>White</th>\n",
              "      <th>Black</th>\n",
              "      <th>Native</th>\n",
              "      <th>Asian</th>\n",
              "      <th>Pacific</th>\n",
              "      <th>Citizen</th>\n",
              "      <th>Income</th>\n",
              "      <th>IncomeErr</th>\n",
              "      <th>IncomePerCap</th>\n",
              "      <th>IncomePerCapErr</th>\n",
              "      <th>Poverty</th>\n",
              "      <th>ChildPoverty</th>\n",
              "      <th>Professional</th>\n",
              "      <th>Service</th>\n",
              "      <th>Office</th>\n",
              "      <th>Construction</th>\n",
              "      <th>Production</th>\n",
              "      <th>Drive</th>\n",
              "      <th>Carpool</th>\n",
              "      <th>Transit</th>\n",
              "      <th>Walk</th>\n",
              "      <th>OtherTransp</th>\n",
              "      <th>WorkAtHome</th>\n",
              "      <th>MeanCommute</th>\n",
              "      <th>Employed</th>\n",
              "      <th>PrivateWork</th>\n",
              "      <th>PublicWork</th>\n",
              "      <th>SelfEmployed</th>\n",
              "      <th>FamilyWork</th>\n",
              "      <th>Unemployment</th>\n",
              "      <th>M_share</th>\n",
              "      <th>F_share</th>\n",
              "      <th>Unemployment_Rate</th>\n",
              "      <th>White_Fraction</th>\n",
              "      <th>Black_Fraction</th>\n",
              "      <th>Asian_Fraction</th>\n",
              "      <th>Hispanic_Fraction</th>\n",
              "      <th>Native_Fraction</th>\n",
              "      <th>Pacific_Fraction</th>\n",
              "    </tr>\n",
              "  </thead>\n",
              "  <tbody>\n",
              "    <tr>\n",
              "      <th>3499</th>\n",
              "      <td>6001400100</td>\n",
              "      <td>California</td>\n",
              "      <td>Alameda</td>\n",
              "      <td>2952</td>\n",
              "      <td>1454</td>\n",
              "      <td>1498</td>\n",
              "      <td>100.0</td>\n",
              "      <td>2087.0</td>\n",
              "      <td>106.0</td>\n",
              "      <td>0.0</td>\n",
              "      <td>466.0</td>\n",
              "      <td>0.0</td>\n",
              "      <td>2399</td>\n",
              "      <td>174113.0</td>\n",
              "      <td>37080.0</td>\n",
              "      <td>104852.0</td>\n",
              "      <td>16267.0</td>\n",
              "      <td>103.0</td>\n",
              "      <td>204.0</td>\n",
              "      <td>2252.0</td>\n",
              "      <td>115.0</td>\n",
              "      <td>428.0</td>\n",
              "      <td>53.0</td>\n",
              "      <td>100.0</td>\n",
              "      <td>1724.0</td>\n",
              "      <td>331.0</td>\n",
              "      <td>304.0</td>\n",
              "      <td>0.0</td>\n",
              "      <td>68.0</td>\n",
              "      <td>525.0</td>\n",
              "      <td>32.5</td>\n",
              "      <td>1522</td>\n",
              "      <td>2229.0</td>\n",
              "      <td>295.0</td>\n",
              "      <td>428.0</td>\n",
              "      <td>0.0</td>\n",
              "      <td>165.0</td>\n",
              "      <td>0.492547</td>\n",
              "      <td>0.507453</td>\n",
              "      <td>0.055894</td>\n",
              "      <td>0.706978</td>\n",
              "      <td>0.035908</td>\n",
              "      <td>0.157859</td>\n",
              "      <td>0.033875</td>\n",
              "      <td>0.000000</td>\n",
              "      <td>0.157859</td>\n",
              "    </tr>\n",
              "    <tr>\n",
              "      <th>3500</th>\n",
              "      <td>6001400200</td>\n",
              "      <td>California</td>\n",
              "      <td>Alameda</td>\n",
              "      <td>1984</td>\n",
              "      <td>938</td>\n",
              "      <td>1046</td>\n",
              "      <td>181.0</td>\n",
              "      <td>1446.0</td>\n",
              "      <td>30.0</td>\n",
              "      <td>0.0</td>\n",
              "      <td>159.0</td>\n",
              "      <td>0.0</td>\n",
              "      <td>1591</td>\n",
              "      <td>141806.0</td>\n",
              "      <td>12739.0</td>\n",
              "      <td>76930.0</td>\n",
              "      <td>8201.0</td>\n",
              "      <td>115.0</td>\n",
              "      <td>26.0</td>\n",
              "      <td>1460.0</td>\n",
              "      <td>157.0</td>\n",
              "      <td>250.0</td>\n",
              "      <td>79.0</td>\n",
              "      <td>36.0</td>\n",
              "      <td>923.0</td>\n",
              "      <td>73.0</td>\n",
              "      <td>522.0</td>\n",
              "      <td>121.0</td>\n",
              "      <td>91.0</td>\n",
              "      <td>254.0</td>\n",
              "      <td>25.4</td>\n",
              "      <td>1222</td>\n",
              "      <td>1456.0</td>\n",
              "      <td>264.0</td>\n",
              "      <td>254.0</td>\n",
              "      <td>10.0</td>\n",
              "      <td>44.0</td>\n",
              "      <td>0.472782</td>\n",
              "      <td>0.527218</td>\n",
              "      <td>0.022177</td>\n",
              "      <td>0.728831</td>\n",
              "      <td>0.015121</td>\n",
              "      <td>0.080141</td>\n",
              "      <td>0.091230</td>\n",
              "      <td>0.000000</td>\n",
              "      <td>0.080141</td>\n",
              "    </tr>\n",
              "    <tr>\n",
              "      <th>3501</th>\n",
              "      <td>6001400300</td>\n",
              "      <td>California</td>\n",
              "      <td>Alameda</td>\n",
              "      <td>5377</td>\n",
              "      <td>2362</td>\n",
              "      <td>3015</td>\n",
              "      <td>371.0</td>\n",
              "      <td>3339.0</td>\n",
              "      <td>694.0</td>\n",
              "      <td>11.0</td>\n",
              "      <td>726.0</td>\n",
              "      <td>0.0</td>\n",
              "      <td>4078</td>\n",
              "      <td>84598.0</td>\n",
              "      <td>15779.0</td>\n",
              "      <td>62892.0</td>\n",
              "      <td>13836.0</td>\n",
              "      <td>436.0</td>\n",
              "      <td>65.0</td>\n",
              "      <td>3549.0</td>\n",
              "      <td>645.0</td>\n",
              "      <td>742.0</td>\n",
              "      <td>75.0</td>\n",
              "      <td>366.0</td>\n",
              "      <td>2619.0</td>\n",
              "      <td>350.0</td>\n",
              "      <td>1237.0</td>\n",
              "      <td>350.0</td>\n",
              "      <td>247.0</td>\n",
              "      <td>575.0</td>\n",
              "      <td>29.5</td>\n",
              "      <td>3277</td>\n",
              "      <td>3979.0</td>\n",
              "      <td>1000.0</td>\n",
              "      <td>398.0</td>\n",
              "      <td>0.0</td>\n",
              "      <td>473.0</td>\n",
              "      <td>0.439278</td>\n",
              "      <td>0.560722</td>\n",
              "      <td>0.087967</td>\n",
              "      <td>0.620978</td>\n",
              "      <td>0.129068</td>\n",
              "      <td>0.135020</td>\n",
              "      <td>0.068998</td>\n",
              "      <td>0.002046</td>\n",
              "      <td>0.135020</td>\n",
              "    </tr>\n",
              "    <tr>\n",
              "      <th>3502</th>\n",
              "      <td>6001400400</td>\n",
              "      <td>California</td>\n",
              "      <td>Alameda</td>\n",
              "      <td>4105</td>\n",
              "      <td>1933</td>\n",
              "      <td>2172</td>\n",
              "      <td>374.0</td>\n",
              "      <td>2594.0</td>\n",
              "      <td>452.0</td>\n",
              "      <td>37.0</td>\n",
              "      <td>406.0</td>\n",
              "      <td>0.0</td>\n",
              "      <td>3417</td>\n",
              "      <td>102386.0</td>\n",
              "      <td>13037.0</td>\n",
              "      <td>53779.0</td>\n",
              "      <td>4346.0</td>\n",
              "      <td>304.0</td>\n",
              "      <td>0.0</td>\n",
              "      <td>3284.0</td>\n",
              "      <td>222.0</td>\n",
              "      <td>464.0</td>\n",
              "      <td>45.0</td>\n",
              "      <td>90.0</td>\n",
              "      <td>1375.0</td>\n",
              "      <td>410.0</td>\n",
              "      <td>1063.0</td>\n",
              "      <td>148.0</td>\n",
              "      <td>706.0</td>\n",
              "      <td>398.0</td>\n",
              "      <td>27.2</td>\n",
              "      <td>2614</td>\n",
              "      <td>2861.0</td>\n",
              "      <td>788.0</td>\n",
              "      <td>447.0</td>\n",
              "      <td>8.0</td>\n",
              "      <td>135.0</td>\n",
              "      <td>0.470889</td>\n",
              "      <td>0.529111</td>\n",
              "      <td>0.032887</td>\n",
              "      <td>0.631912</td>\n",
              "      <td>0.110110</td>\n",
              "      <td>0.098904</td>\n",
              "      <td>0.091108</td>\n",
              "      <td>0.009013</td>\n",
              "      <td>0.098904</td>\n",
              "    </tr>\n",
              "    <tr>\n",
              "      <th>3503</th>\n",
              "      <td>6001400500</td>\n",
              "      <td>California</td>\n",
              "      <td>Alameda</td>\n",
              "      <td>3651</td>\n",
              "      <td>1628</td>\n",
              "      <td>2023</td>\n",
              "      <td>518.0</td>\n",
              "      <td>1888.0</td>\n",
              "      <td>887.0</td>\n",
              "      <td>0.0</td>\n",
              "      <td>175.0</td>\n",
              "      <td>29.0</td>\n",
              "      <td>2841</td>\n",
              "      <td>76038.0</td>\n",
              "      <td>4925.0</td>\n",
              "      <td>38442.0</td>\n",
              "      <td>3325.0</td>\n",
              "      <td>464.0</td>\n",
              "      <td>0.0</td>\n",
              "      <td>2213.0</td>\n",
              "      <td>464.0</td>\n",
              "      <td>610.0</td>\n",
              "      <td>245.0</td>\n",
              "      <td>117.0</td>\n",
              "      <td>1628.0</td>\n",
              "      <td>194.0</td>\n",
              "      <td>811.0</td>\n",
              "      <td>139.0</td>\n",
              "      <td>332.0</td>\n",
              "      <td>551.0</td>\n",
              "      <td>28.6</td>\n",
              "      <td>2286</td>\n",
              "      <td>2906.0</td>\n",
              "      <td>431.0</td>\n",
              "      <td>314.0</td>\n",
              "      <td>0.0</td>\n",
              "      <td>237.0</td>\n",
              "      <td>0.445905</td>\n",
              "      <td>0.554095</td>\n",
              "      <td>0.064914</td>\n",
              "      <td>0.517119</td>\n",
              "      <td>0.242947</td>\n",
              "      <td>0.047932</td>\n",
              "      <td>0.141879</td>\n",
              "      <td>0.000000</td>\n",
              "      <td>0.047932</td>\n",
              "    </tr>\n",
              "  </tbody>\n",
              "</table>\n",
              "</div>"
            ],
            "text/plain": [
              "      CensusTract       State  ... Native_Fraction  Pacific_Fraction\n",
              "3499   6001400100  California  ...        0.000000          0.157859\n",
              "3500   6001400200  California  ...        0.000000          0.080141\n",
              "3501   6001400300  California  ...        0.002046          0.135020\n",
              "3502   6001400400  California  ...        0.009013          0.098904\n",
              "3503   6001400500  California  ...        0.000000          0.047932\n",
              "\n",
              "[5 rows x 46 columns]"
            ]
          },
          "metadata": {
            "tags": []
          },
          "execution_count": 16
        }
      ]
    },
    {
      "cell_type": "markdown",
      "metadata": {
        "id": "e0jnKckh-PDt",
        "colab_type": "text"
      },
      "source": [
        "#### 3.4.1 - En fazla nüfusa sahip 4 şehrin ırklara göre gruplandırılması"
      ]
    },
    {
      "cell_type": "code",
      "metadata": {
        "id": "HYpwFcgX-GBn",
        "colab_type": "code",
        "colab": {}
      },
      "source": [
        "state_totalpop = state_top4.groupby('State', as_index=False)[['TotalPop', 'Black', 'White', 'Hispanic', 'Asian']].sum()"
      ],
      "execution_count": 0,
      "outputs": []
    },
    {
      "cell_type": "code",
      "metadata": {
        "id": "R0JNrV88-b6h",
        "colab_type": "code",
        "outputId": "434721c3-b815-463f-c59b-7c5b3be354c3",
        "colab": {
          "base_uri": "https://localhost:8080/",
          "height": 167
        }
      },
      "source": [
        "state_totalpop"
      ],
      "execution_count": 0,
      "outputs": [
        {
          "output_type": "execute_result",
          "data": {
            "text/html": [
              "<div>\n",
              "<style scoped>\n",
              "    .dataframe tbody tr th:only-of-type {\n",
              "        vertical-align: middle;\n",
              "    }\n",
              "\n",
              "    .dataframe tbody tr th {\n",
              "        vertical-align: top;\n",
              "    }\n",
              "\n",
              "    .dataframe thead th {\n",
              "        text-align: right;\n",
              "    }\n",
              "</style>\n",
              "<table border=\"1\" class=\"dataframe\">\n",
              "  <thead>\n",
              "    <tr style=\"text-align: right;\">\n",
              "      <th></th>\n",
              "      <th>State</th>\n",
              "      <th>TotalPop</th>\n",
              "      <th>Black</th>\n",
              "      <th>White</th>\n",
              "      <th>Hispanic</th>\n",
              "      <th>Asian</th>\n",
              "    </tr>\n",
              "  </thead>\n",
              "  <tbody>\n",
              "    <tr>\n",
              "      <th>0</th>\n",
              "      <td>California</td>\n",
              "      <td>38221472</td>\n",
              "      <td>2127149.0</td>\n",
              "      <td>14798592.0</td>\n",
              "      <td>14692293.0</td>\n",
              "      <td>5176065.0</td>\n",
              "    </tr>\n",
              "    <tr>\n",
              "      <th>1</th>\n",
              "      <td>Florida</td>\n",
              "      <td>19509409</td>\n",
              "      <td>3024112.0</td>\n",
              "      <td>10910475.0</td>\n",
              "      <td>4643517.0</td>\n",
              "      <td>498115.0</td>\n",
              "    </tr>\n",
              "    <tr>\n",
              "      <th>2</th>\n",
              "      <td>New York</td>\n",
              "      <td>19562033</td>\n",
              "      <td>2808490.0</td>\n",
              "      <td>11110110.0</td>\n",
              "      <td>3603584.0</td>\n",
              "      <td>1550633.0</td>\n",
              "    </tr>\n",
              "    <tr>\n",
              "      <th>3</th>\n",
              "      <td>Texas</td>\n",
              "      <td>26456798</td>\n",
              "      <td>3053546.0</td>\n",
              "      <td>11594201.0</td>\n",
              "      <td>10179556.0</td>\n",
              "      <td>1106913.0</td>\n",
              "    </tr>\n",
              "  </tbody>\n",
              "</table>\n",
              "</div>"
            ],
            "text/plain": [
              "        State  TotalPop      Black       White    Hispanic      Asian\n",
              "0  California  38221472  2127149.0  14798592.0  14692293.0  5176065.0\n",
              "1     Florida  19509409  3024112.0  10910475.0   4643517.0   498115.0\n",
              "2    New York  19562033  2808490.0  11110110.0   3603584.0  1550633.0\n",
              "3       Texas  26456798  3053546.0  11594201.0  10179556.0  1106913.0"
            ]
          },
          "metadata": {
            "tags": []
          },
          "execution_count": 18
        }
      ]
    },
    {
      "cell_type": "markdown",
      "metadata": {
        "id": "hotigRgS-fzV",
        "colab_type": "text"
      },
      "source": [
        "#### 3.4.2 - En fazla nüfusa sahip 4 şehrin cinsiyete göre gruplandırılması"
      ]
    },
    {
      "cell_type": "code",
      "metadata": {
        "id": "zvo9FjJO-qB5",
        "colab_type": "code",
        "colab": {}
      },
      "source": [
        "state_sex = state_top4.groupby('State', as_index=False)[['TotalPop', 'Men', 'Women',]].sum()"
      ],
      "execution_count": 0,
      "outputs": []
    },
    {
      "cell_type": "code",
      "metadata": {
        "id": "L3yXDxbF-rnK",
        "colab_type": "code",
        "outputId": "8742b6de-9e0e-466b-b3fc-f3712387825a",
        "colab": {
          "base_uri": "https://localhost:8080/",
          "height": 167
        }
      },
      "source": [
        "state_sex"
      ],
      "execution_count": 0,
      "outputs": [
        {
          "output_type": "execute_result",
          "data": {
            "text/html": [
              "<div>\n",
              "<style scoped>\n",
              "    .dataframe tbody tr th:only-of-type {\n",
              "        vertical-align: middle;\n",
              "    }\n",
              "\n",
              "    .dataframe tbody tr th {\n",
              "        vertical-align: top;\n",
              "    }\n",
              "\n",
              "    .dataframe thead th {\n",
              "        text-align: right;\n",
              "    }\n",
              "</style>\n",
              "<table border=\"1\" class=\"dataframe\">\n",
              "  <thead>\n",
              "    <tr style=\"text-align: right;\">\n",
              "      <th></th>\n",
              "      <th>State</th>\n",
              "      <th>TotalPop</th>\n",
              "      <th>Men</th>\n",
              "      <th>Women</th>\n",
              "    </tr>\n",
              "  </thead>\n",
              "  <tbody>\n",
              "    <tr>\n",
              "      <th>0</th>\n",
              "      <td>California</td>\n",
              "      <td>38221472</td>\n",
              "      <td>18933999</td>\n",
              "      <td>19287473</td>\n",
              "    </tr>\n",
              "    <tr>\n",
              "      <th>1</th>\n",
              "      <td>Florida</td>\n",
              "      <td>19509409</td>\n",
              "      <td>9532674</td>\n",
              "      <td>9976735</td>\n",
              "    </tr>\n",
              "    <tr>\n",
              "      <th>2</th>\n",
              "      <td>New York</td>\n",
              "      <td>19562033</td>\n",
              "      <td>9472413</td>\n",
              "      <td>10089620</td>\n",
              "    </tr>\n",
              "    <tr>\n",
              "      <th>3</th>\n",
              "      <td>Texas</td>\n",
              "      <td>26456798</td>\n",
              "      <td>13118232</td>\n",
              "      <td>13338566</td>\n",
              "    </tr>\n",
              "  </tbody>\n",
              "</table>\n",
              "</div>"
            ],
            "text/plain": [
              "        State  TotalPop       Men     Women\n",
              "0  California  38221472  18933999  19287473\n",
              "1     Florida  19509409   9532674   9976735\n",
              "2    New York  19562033   9472413  10089620\n",
              "3       Texas  26456798  13118232  13338566"
            ]
          },
          "metadata": {
            "tags": []
          },
          "execution_count": 20
        }
      ]
    },
    {
      "cell_type": "markdown",
      "metadata": {
        "id": "VHee5WsH-vPH",
        "colab_type": "text"
      },
      "source": [
        "#### 3.4.3 - En fazla nüfusa sahip 4 şehrin çalışma sektörüne göre gruplandırılması"
      ]
    },
    {
      "cell_type": "code",
      "metadata": {
        "id": "UmlTeO6V-7hs",
        "colab_type": "code",
        "colab": {}
      },
      "source": [
        "state_sector = state_top4.groupby('State', as_index=False)[['TotalPop', 'Professional', 'Service', 'Office', 'Construction', 'Production']].sum()"
      ],
      "execution_count": 0,
      "outputs": []
    },
    {
      "cell_type": "code",
      "metadata": {
        "id": "-dZKY_CI-9JE",
        "colab_type": "code",
        "outputId": "fc10c454-4b32-41a1-fd0c-3863c10a9b19",
        "colab": {
          "base_uri": "https://localhost:8080/",
          "height": 167
        }
      },
      "source": [
        "state_sector"
      ],
      "execution_count": 0,
      "outputs": [
        {
          "output_type": "execute_result",
          "data": {
            "text/html": [
              "<div>\n",
              "<style scoped>\n",
              "    .dataframe tbody tr th:only-of-type {\n",
              "        vertical-align: middle;\n",
              "    }\n",
              "\n",
              "    .dataframe tbody tr th {\n",
              "        vertical-align: top;\n",
              "    }\n",
              "\n",
              "    .dataframe thead th {\n",
              "        text-align: right;\n",
              "    }\n",
              "</style>\n",
              "<table border=\"1\" class=\"dataframe\">\n",
              "  <thead>\n",
              "    <tr style=\"text-align: right;\">\n",
              "      <th></th>\n",
              "      <th>State</th>\n",
              "      <th>TotalPop</th>\n",
              "      <th>Professional</th>\n",
              "      <th>Service</th>\n",
              "      <th>Office</th>\n",
              "      <th>Construction</th>\n",
              "      <th>Production</th>\n",
              "    </tr>\n",
              "  </thead>\n",
              "  <tbody>\n",
              "    <tr>\n",
              "      <th>0</th>\n",
              "      <td>California</td>\n",
              "      <td>38221472</td>\n",
              "      <td>13626153.0</td>\n",
              "      <td>7334907.0</td>\n",
              "      <td>9070001.0</td>\n",
              "      <td>3743659.0</td>\n",
              "      <td>4446289.0</td>\n",
              "    </tr>\n",
              "    <tr>\n",
              "      <th>1</th>\n",
              "      <td>Florida</td>\n",
              "      <td>19509409</td>\n",
              "      <td>6498286.0</td>\n",
              "      <td>4063862.0</td>\n",
              "      <td>5327694.0</td>\n",
              "      <td>1808032.0</td>\n",
              "      <td>1811588.0</td>\n",
              "    </tr>\n",
              "    <tr>\n",
              "      <th>2</th>\n",
              "      <td>New York</td>\n",
              "      <td>19562033</td>\n",
              "      <td>7393520.0</td>\n",
              "      <td>4132255.0</td>\n",
              "      <td>4678689.0</td>\n",
              "      <td>1446438.0</td>\n",
              "      <td>1911451.0</td>\n",
              "    </tr>\n",
              "    <tr>\n",
              "      <th>3</th>\n",
              "      <td>Texas</td>\n",
              "      <td>26456798</td>\n",
              "      <td>8881107.0</td>\n",
              "      <td>4834981.0</td>\n",
              "      <td>6424728.0</td>\n",
              "      <td>3026459.0</td>\n",
              "      <td>3289714.0</td>\n",
              "    </tr>\n",
              "  </tbody>\n",
              "</table>\n",
              "</div>"
            ],
            "text/plain": [
              "        State  TotalPop  Professional  ...     Office  Construction  Production\n",
              "0  California  38221472    13626153.0  ...  9070001.0     3743659.0   4446289.0\n",
              "1     Florida  19509409     6498286.0  ...  5327694.0     1808032.0   1811588.0\n",
              "2    New York  19562033     7393520.0  ...  4678689.0     1446438.0   1911451.0\n",
              "3       Texas  26456798     8881107.0  ...  6424728.0     3026459.0   3289714.0\n",
              "\n",
              "[4 rows x 7 columns]"
            ]
          },
          "metadata": {
            "tags": []
          },
          "execution_count": 22
        }
      ]
    },
    {
      "cell_type": "markdown",
      "metadata": {
        "id": "VYfwBbfO_IVy",
        "colab_type": "text"
      },
      "source": [
        "#### 3.4.4 - En fazla nüfusa sahip 4 şehrin gelire göre gruplandırılması"
      ]
    },
    {
      "cell_type": "code",
      "metadata": {
        "id": "L7-WnOOk_Brn",
        "colab_type": "code",
        "colab": {}
      },
      "source": [
        "state_income = state_top4.groupby('State', as_index=False)[['Income', 'IncomePerCap', 'Poverty', 'ChildPoverty']].sum()"
      ],
      "execution_count": 0,
      "outputs": []
    },
    {
      "cell_type": "code",
      "metadata": {
        "id": "--tQZLrC_PXN",
        "colab_type": "code",
        "outputId": "17099794-6a1d-496b-c027-8d41040f969e",
        "colab": {
          "base_uri": "https://localhost:8080/",
          "height": 167
        }
      },
      "source": [
        "state_income"
      ],
      "execution_count": 0,
      "outputs": [
        {
          "output_type": "execute_result",
          "data": {
            "text/html": [
              "<div>\n",
              "<style scoped>\n",
              "    .dataframe tbody tr th:only-of-type {\n",
              "        vertical-align: middle;\n",
              "    }\n",
              "\n",
              "    .dataframe tbody tr th {\n",
              "        vertical-align: top;\n",
              "    }\n",
              "\n",
              "    .dataframe thead th {\n",
              "        text-align: right;\n",
              "    }\n",
              "</style>\n",
              "<table border=\"1\" class=\"dataframe\">\n",
              "  <thead>\n",
              "    <tr style=\"text-align: right;\">\n",
              "      <th></th>\n",
              "      <th>State</th>\n",
              "      <th>Income</th>\n",
              "      <th>IncomePerCap</th>\n",
              "      <th>Poverty</th>\n",
              "      <th>ChildPoverty</th>\n",
              "    </tr>\n",
              "  </thead>\n",
              "  <tbody>\n",
              "    <tr>\n",
              "      <th>0</th>\n",
              "      <td>California</td>\n",
              "      <td>533913107.0</td>\n",
              "      <td>247756090.0</td>\n",
              "      <td>6254135.0</td>\n",
              "      <td>7866438.0</td>\n",
              "    </tr>\n",
              "    <tr>\n",
              "      <th>1</th>\n",
              "      <td>Florida</td>\n",
              "      <td>208445728.0</td>\n",
              "      <td>115411750.0</td>\n",
              "      <td>3251654.0</td>\n",
              "      <td>4481538.0</td>\n",
              "    </tr>\n",
              "    <tr>\n",
              "      <th>2</th>\n",
              "      <td>New York</td>\n",
              "      <td>307650677.0</td>\n",
              "      <td>154500797.0</td>\n",
              "      <td>3082777.0</td>\n",
              "      <td>3927218.0</td>\n",
              "    </tr>\n",
              "    <tr>\n",
              "      <th>3</th>\n",
              "      <td>Texas</td>\n",
              "      <td>290395833.0</td>\n",
              "      <td>139919776.0</td>\n",
              "      <td>4593700.0</td>\n",
              "      <td>6302945.0</td>\n",
              "    </tr>\n",
              "  </tbody>\n",
              "</table>\n",
              "</div>"
            ],
            "text/plain": [
              "        State       Income  IncomePerCap    Poverty  ChildPoverty\n",
              "0  California  533913107.0   247756090.0  6254135.0     7866438.0\n",
              "1     Florida  208445728.0   115411750.0  3251654.0     4481538.0\n",
              "2    New York  307650677.0   154500797.0  3082777.0     3927218.0\n",
              "3       Texas  290395833.0   139919776.0  4593700.0     6302945.0"
            ]
          },
          "metadata": {
            "tags": []
          },
          "execution_count": 24
        }
      ]
    },
    {
      "cell_type": "markdown",
      "metadata": {
        "id": "p7vyYMm3_iNQ",
        "colab_type": "text"
      },
      "source": [
        "## 3.5 - Korelasyon Analizi"
      ]
    },
    {
      "cell_type": "code",
      "metadata": {
        "id": "yHqieK9kOLNx",
        "colab_type": "code",
        "outputId": "b5385b8f-6a38-40a8-ce64-a72d87455537",
        "colab": {
          "base_uri": "https://localhost:8080/",
          "height": 981
        }
      },
      "source": [
        "plt.figure(figsize = (15,15))\n",
        "f=acs2015_census[acs2015_census.columns[37:]].corr()\n",
        "ax=sns.heatmap(f, annot=True)"
      ],
      "execution_count": 0,
      "outputs": [
        {
          "output_type": "display_data",
          "data": {
            "image/png": "[encoded data removed]",
            "text/plain": [
              "<Figure size 1080x1080 with 2 Axes>"
            ]
          },
          "metadata": {
            "tags": []
          }
        }
      ]
    },
    {
      "cell_type": "markdown",
      "metadata": {
        "id": "d6-ONwBX_p8D",
        "colab_type": "text"
      },
      "source": [
        "Korelasyon analizi sonucunda siyahi olmakla işsizlik arasında pozitif ilişkiye rastlanmıştır. \n",
        "Beyaz ırk ile işsizlik arasında ise negatif yönlü bir ilişki mevcuttur. \n",
        "Erkek olmakla işsizlik arasında zayıf negatif ilişki mevcutken kadın olmak ile işsizlik arasında zayıf pozitif ilişki mevcuttur. "
      ]
    },
    {
      "cell_type": "markdown",
      "metadata": {
        "id": "_EWyO7iv_V-b",
        "colab_type": "text"
      },
      "source": [
        "# 4 - Veri Kümesinin Görselleştirilmesi"
      ]
    },
    {
      "cell_type": "markdown",
      "metadata": {
        "id": "5nxXlA5kA1qT",
        "colab_type": "text"
      },
      "source": [
        "## 4.1 - Irklara göre nufus dağılımı"
      ]
    },
    {
      "cell_type": "code",
      "metadata": {
        "id": "ZE4z5X9gG8aP",
        "colab_type": "code",
        "outputId": "1909e6ec-8ba6-4c8b-de1f-5318eeaa4d30",
        "colab": {
          "base_uri": "https://localhost:8080/",
          "height": 627
        }
      },
      "source": [
        "acs2015_census.loc[:,[\"Asian\", \"Black\", \"White\", \"Hispanic\", \"Native\", \"Pasific\"] ].hist(color=\"purple\",figsize=(10,10))\n",
        "plt.show()"
      ],
      "execution_count": 0,
      "outputs": [
        {
          "output_type": "display_data",
          "data": {
            "image/png": "[encoded data removed]",
            "text/plain": [
              "<Figure size 720x720 with 6 Axes>"
            ]
          },
          "metadata": {
            "tags": []
          }
        }
      ]
    },
    {
      "cell_type": "markdown",
      "metadata": {
        "id": "-7OcRnhRCEzn",
        "colab_type": "text"
      },
      "source": [
        "## 4.2 - Toplam nüfusa göre 4 büyük şehirde çalışma sektörü dağılımı"
      ]
    },
    {
      "cell_type": "code",
      "metadata": {
        "id": "UR1_J_3VBPtx",
        "colab_type": "code",
        "outputId": "b71d4394-528b-449d-ff03-49d423c12207",
        "colab": {
          "base_uri": "https://localhost:8080/",
          "height": 552
        }
      },
      "source": [
        "fig_size = [16,9]\n",
        "plt.figure(figsize = fig_size)\n",
        "y0 = state_sector.TotalPop\n",
        "y1 = state_sector.Professional\n",
        "y2 = state_sector.Service\n",
        "y3 = state_sector.Office\n",
        "y4 = state_sector.Construction\n",
        "y5 = state_sector.Production\n",
        "\n",
        "x_labels = state_sector.State\n",
        "x_pos = np.arange(len(y0))\n",
        "\n",
        "plt.bar(x_pos - 0.2, y0, color = \"#fdef96\", width = 0.2)\n",
        "plt.bar(x_pos - 0.1, y1, color = \"#f7b71d\", width = 0.2)\n",
        "plt.bar(x_pos + 0.0, y2, color = \"#009975\", width = 0.2)\n",
        "plt.bar(x_pos + 0.1, y3, color = \"#2b580c\", width = 0.2)\n",
        "plt.bar(x_pos + 0.2, y4, color = \"#e2c275\", width = 0.2)\n",
        "plt.bar(x_pos + 0.3, y5, color = \"#c36a2d\", width = 0.2)\n",
        "plt.title(\"Toplam nufüs \")\n",
        "\n",
        "plt.xticks(x_pos, x_labels)\n",
        "plt.legend([\"Toplam nufus\", \"Professional\", \"Service\", \"Office\", \"Construction\", \"Production\"])\n",
        "\n",
        "plt.show()"
      ],
      "execution_count": 0,
      "outputs": [
        {
          "output_type": "display_data",
          "data": {
            "image/png": "[encoded data removed]",
            "text/plain": [
              "<Figure size 1152x648 with 1 Axes>"
            ]
          },
          "metadata": {
            "tags": []
          }
        }
      ]
    },
    {
      "cell_type": "markdown",
      "metadata": {
        "id": "sTmvtlHeDpJ1",
        "colab_type": "text"
      },
      "source": [
        "## 4.3 -  Toplam nüfusa göre 4 büyük şehirde cinsiyet dağılımı"
      ]
    },
    {
      "cell_type": "code",
      "metadata": {
        "id": "FRMD6jyYCbJM",
        "colab_type": "code",
        "outputId": "a32da9d0-770d-4dbd-d5c7-2338393e96cd",
        "colab": {
          "base_uri": "https://localhost:8080/",
          "height": 552
        }
      },
      "source": [
        "fig_size = [16,9]\n",
        "plt.figure(figsize = fig_size)\n",
        "y0 = state_sex.TotalPop\n",
        "y1 = state_sex.Men\n",
        "y2 = state_sex.Women\n",
        "\n",
        "x_labels = state_sex.State\n",
        "x_pos = np.arange(len(y0))\n",
        "\n",
        "plt.bar(x_pos-0.2, y0, color = \"#f4ff61\", width = 0.3)\n",
        "plt.bar(x_pos+0.0, y1, color = \"#a8ff3e\", width = 0.3)\n",
        "plt.bar(x_pos+0.2, y2, color = \"#ff6337\", width = 0.3)\n",
        "\n",
        "plt.title(\"Toplam nufüs ve Kadın/Erkek dağılımı\")\n",
        "\n",
        "plt.xticks(x_pos, x_labels)\n",
        "plt.legend([\"Toplam nufus\", \"Erkek\", \"Kadın\"])\n",
        "\n",
        "plt.show()"
      ],
      "execution_count": 0,
      "outputs": [
        {
          "output_type": "display_data",
          "data": {
            "image/png": "[encoded data removed]",
            "text/plain": [
              "<Figure size 1152x648 with 1 Axes>"
            ]
          },
          "metadata": {
            "tags": []
          }
        }
      ]
    },
    {
      "cell_type": "markdown",
      "metadata": {
        "id": "OFcOeikOEhud",
        "colab_type": "text"
      },
      "source": [
        "## 4.4 - Toplam nüfusa göre 4 büyük şehirde ırk dağılımı"
      ]
    },
    {
      "cell_type": "code",
      "metadata": {
        "id": "wQdZGG2gEDpC",
        "colab_type": "code",
        "outputId": "56536c4c-3e3e-4962-e148-6ff693801e9e",
        "colab": {
          "base_uri": "https://localhost:8080/",
          "height": 552
        }
      },
      "source": [
        "fig_size = [16,9]\n",
        "plt.figure(figsize = fig_size)\n",
        "y0 = state_totalpop.TotalPop\n",
        "y1 = state_totalpop.Black\n",
        "y2 = state_totalpop.White\n",
        "y3 = state_totalpop.Hispanic\n",
        "y4 = state_totalpop.Asian\n",
        "x_labels = state_totalpop.State\n",
        "x_pos = np.arange(len(y0))\n",
        "\n",
        "plt.bar(x_pos - 0.2, y0, color = \"#070d59\", width = 0.3)\n",
        "plt.bar(x_pos - 0.1, y1, color = \"#5893d4\", width = 0.3)\n",
        "plt.bar(x_pos + 0.0, y2, color = \"#f7b633\", width = 0.3)\n",
        "plt.bar(x_pos + 0.1, y3, color = \"#aeeff0\", width = 0.3)\n",
        "plt.bar(x_pos + 0.2, y4, color = \"#c36a2d\", width = 0.3)\n",
        "\n",
        "plt.title(\"Toplam nufüs ve black, white, hispanic, asian dağılımı\")\n",
        "\n",
        "plt.xticks(x_pos, x_labels)\n",
        "plt.legend([\"Toplam nufus\", \"Black\", \"White\", \"Hispanic\", \"Asian\"])\n",
        "\n",
        "plt.show()"
      ],
      "execution_count": 0,
      "outputs": [
        {
          "output_type": "display_data",
          "data": {
            "image/png": "[encoded data removed]",
            "text/plain": [
              "<Figure size 1152x648 with 1 Axes>"
            ]
          },
          "metadata": {
            "tags": []
          }
        }
      ]
    },
    {
      "cell_type": "markdown",
      "metadata": {
        "id": "DIl2vWNhFU75",
        "colab_type": "text"
      },
      "source": [
        "## 4.5 - Cinsiyet ve ırka göre gelir dağılımı"
      ]
    },
    {
      "cell_type": "code",
      "metadata": {
        "id": "S-PhhTLzExeM",
        "colab_type": "code",
        "colab": {}
      },
      "source": [
        "sex_list = [\"Men\", \"Women\", \"Black\", \"White\", \"Asian\", \"Hispanic\"]"
      ],
      "execution_count": 0,
      "outputs": []
    },
    {
      "cell_type": "code",
      "metadata": {
        "id": "nEVzCE2iE1cR",
        "colab_type": "code",
        "outputId": "0e426dec-00b6-4499-ca53-0d502e085b71",
        "colab": {
          "base_uri": "https://localhost:8080/",
          "height": 606
        }
      },
      "source": [
        "fig = plt.figure(figsize = (10, 10))\n",
        "i = 0\n",
        "\n",
        "for i in range(0, len(sex_list)):\n",
        "    fig.add_subplot(3, 2, i+1)\n",
        "    plt.title('Scatter Plot for  : {}'.format(sex_list[i]))\n",
        "    plt.scatter(state_top4.Income, state_top4[sex_list[i]], color = \"#05a19c\")\n",
        "    plt.ylabel('Income')"
      ],
      "execution_count": 0,
      "outputs": [
        {
          "output_type": "display_data",
          "data": {
            "image/png": "[encoded data removed]",
            "text/plain": [
              "<Figure size 720x720 with 6 Axes>"
            ]
          },
          "metadata": {
            "tags": []
          }
        }
      ]
    },
    {
      "cell_type": "markdown",
      "metadata": {
        "id": "SdvDOrjbGBYz",
        "colab_type": "text"
      },
      "source": [
        "## 4.6 - Sektörlere göre çocuk fakirliği dağılımı"
      ]
    },
    {
      "cell_type": "code",
      "metadata": {
        "id": "wcpT1c-mFs6q",
        "colab_type": "code",
        "outputId": "f148da23-3363-47cf-a032-eb4a84e9a1cc",
        "colab": {
          "base_uri": "https://localhost:8080/",
          "height": 606
        }
      },
      "source": [
        "sector_list = ['Professional', 'Service', 'Office', 'Construction', 'Production']\n",
        "\n",
        "fig = plt.figure(figsize = (10, 10))\n",
        "i = 0\n",
        "\n",
        "for i in range(0, len(sector_list)):\n",
        "    fig.add_subplot(3, 2, i+1)\n",
        "    plt.title('Scatter Plot for  : {}'.format(sector_list[i]))\n",
        "    plt.scatter(state_top4.ChildPoverty, state_top4[sector_list[i]], color = \"#ff6337\")\n",
        "    plt.ylabel('Child Poverty')"
      ],
      "execution_count": 0,
      "outputs": [
        {
          "output_type": "display_data",
          "data": {
            "image/png": "[encoded data removed]",
            "text/plain": [
              "<Figure size 720x720 with 5 Axes>"
            ]
          },
          "metadata": {
            "tags": []
          }
        }
      ]
    },
    {
      "cell_type": "markdown",
      "metadata": {
        "id": "kOo433ibGLoN",
        "colab_type": "text"
      },
      "source": [
        "## 4.7 - Çalışma durumuna göre dağılım"
      ]
    },
    {
      "cell_type": "code",
      "metadata": {
        "id": "SCU6GOYnGM_Y",
        "colab_type": "code",
        "outputId": "9590514b-4bf5-42fd-9dc1-1def7920372c",
        "colab": {
          "base_uri": "https://localhost:8080/",
          "height": 746
        }
      },
      "source": [
        "numeric_cols = ['PrivateWork', 'PublicWork', 'SelfEmployed', 'FamilyWork']\n",
        "\n",
        "sns.pairplot(acs2015_census[numeric_cols].sample(1000))"
      ],
      "execution_count": 0,
      "outputs": [
        {
          "output_type": "execute_result",
          "data": {
            "text/plain": [
              "<seaborn.axisgrid.PairGrid at 0x7f757df552e8>"
            ]
          },
          "metadata": {
            "tags": []
          },
          "execution_count": 34
        },
        {
          "output_type": "display_data",
          "data": {
            "image/png": "[encoded data removed]",
            "text/plain": [
              "<Figure size 720x720 with 20 Axes>"
            ]
          },
          "metadata": {
            "tags": []
          }
        }
      ]
    },
    {
      "cell_type": "markdown",
      "metadata": {
        "id": "tXaT0mJuGfAN",
        "colab_type": "text"
      },
      "source": [
        "## 4.8 - Çalışma/ Çalışmama durumuna göre dağılım "
      ]
    },
    {
      "cell_type": "code",
      "metadata": {
        "id": "UJqlSUlLGY1f",
        "colab_type": "code",
        "outputId": "f440a1a8-5d01-46c3-e459-0a81336f1f57",
        "colab": {
          "base_uri": "https://localhost:8080/",
          "height": 566
        }
      },
      "source": [
        "numeric_cols = ['Employed', 'Unemployment', 'TotalPop']\n",
        "\n",
        "sns.pairplot(acs2015_census[numeric_cols].sample(1000))"
      ],
      "execution_count": 0,
      "outputs": [
        {
          "output_type": "execute_result",
          "data": {
            "text/plain": [
              "<seaborn.axisgrid.PairGrid at 0x7f757d9d19b0>"
            ]
          },
          "metadata": {
            "tags": []
          },
          "execution_count": 35
        },
        {
          "output_type": "display_data",
          "data": {
            "image/png": "[encoded data removed]",
            "text/plain": [
              "<Figure size 540x540 with 12 Axes>"
            ]
          },
          "metadata": {
            "tags": []
          }
        }
      ]
    },
    {
      "cell_type": "markdown",
      "metadata": {
        "id": "rnRu59qUGtjn",
        "colab_type": "text"
      },
      "source": [
        "# 5- Model Oluşturma"
      ]
    },
    {
      "cell_type": "markdown",
      "metadata": {
        "id": "IfPtiRWjGyYz",
        "colab_type": "text"
      },
      "source": [
        "## 5.1 - Model için Ön Hazırlık"
      ]
    },
    {
      "cell_type": "markdown",
      "metadata": {
        "id": "vrpaN1A7HCpM",
        "colab_type": "text"
      },
      "source": [
        "Irklara bağlı gelir tahmini yapmak hedeflendiği için hanehalkı geliri olan Income sütunu üzerinde bir dönüştürme işlemi gerçekleştirildi. \n",
        "\n",
        "Income <= 32000 ise \"Düşük\"\n",
        "Income < 80000 ise \"Orta\"\n",
        "Income >= 80000 ise \"Yüksek\" ataması yapılmıştır. "
      ]
    },
    {
      "cell_type": "code",
      "metadata": {
        "id": "bBl16UFvG6ND",
        "colab_type": "code",
        "colab": {}
      },
      "source": [
        "acs2015_census['Income'] = acs2015_census['Income'].astype('int')"
      ],
      "execution_count": 0,
      "outputs": []
    },
    {
      "cell_type": "code",
      "metadata": {
        "id": "Fw0-7j8HG_Jw",
        "colab_type": "code",
        "colab": {}
      },
      "source": [
        "acs2015_census['high_low_income'] = acs2015_census.Income\n",
        "acs2015_census.loc[(acs2015_census['Income'] <= 32000), 'high_low_income'] = \"Low\"\n",
        "acs2015_census.loc[(acs2015_census['Income'] < 80000) & (acs2015_census['Income'] > 32000), 'high_low_income'] = \"Mid\"\n",
        "acs2015_census.loc[(acs2015_census['Income'] >= 80000), 'high_low_income'] = \"High\""
      ],
      "execution_count": 0,
      "outputs": []
    },
    {
      "cell_type": "markdown",
      "metadata": {
        "id": "DDRqXHMnINMC",
        "colab_type": "text"
      },
      "source": [
        "\n",
        "\n",
        "*   Oluşturulan **high_low_income** değişkeninin içeriğinin incelenmesi\n",
        "\n"
      ]
    },
    {
      "cell_type": "code",
      "metadata": {
        "id": "rifu-p9-H74M",
        "colab_type": "code",
        "outputId": "4ea5f27e-2ae4-4aa2-dbd0-44ef371d348d",
        "colab": {
          "base_uri": "https://localhost:8080/",
          "height": 105
        }
      },
      "source": [
        "acs2015_census.groupby('high_low_income').size()"
      ],
      "execution_count": 59,
      "outputs": [
        {
          "output_type": "execute_result",
          "data": {
            "text/plain": [
              "high_low_income\n",
              "High    12812\n",
              "Low     11277\n",
              "Mid     48638\n",
              "dtype: int64"
            ]
          },
          "metadata": {
            "tags": []
          },
          "execution_count": 59
        }
      ]
    },
    {
      "cell_type": "code",
      "metadata": {
        "id": "5rcN9ZZxjTOJ",
        "colab_type": "code",
        "colab": {
          "base_uri": "https://localhost:8080/",
          "height": 286
        },
        "outputId": "772aad5d-824c-49f7-895b-f21b71aaf76e"
      },
      "source": [
        "acs2015_census['high_low_income'].value_counts().plot.barh()"
      ],
      "execution_count": 68,
      "outputs": [
        {
          "output_type": "execute_result",
          "data": {
            "text/plain": [
              "<matplotlib.axes._subplots.AxesSubplot at 0x7f75732d4be0>"
            ]
          },
          "metadata": {
            "tags": []
          },
          "execution_count": 68
        },
        {
          "output_type": "display_data",
          "data": {
            "image/png": "[encoded data removed]",
            "text/plain": [
              "<Figure size 432x288 with 1 Axes>"
            ]
          },
          "metadata": {
            "tags": []
          }
        }
      ]
    },
    {
      "cell_type": "markdown",
      "metadata": {
        "id": "Afx24hH_IaQy",
        "colab_type": "text"
      },
      "source": [
        "\n",
        "\n",
        "*   Oluşturulan yeni değişken sayısallaştırma işleminden geçirilmelidir. Bunun için astype() fonksiyonu uygulanır.\n",
        "\n",
        "\n"
      ]
    },
    {
      "cell_type": "code",
      "metadata": {
        "id": "xWb3FK1PIlg7",
        "colab_type": "code",
        "colab": {}
      },
      "source": [
        "acs2015_census.high_low_income = acs2015_census.high_low_income.astype('category')"
      ],
      "execution_count": 0,
      "outputs": []
    },
    {
      "cell_type": "markdown",
      "metadata": {
        "id": "Ey8NyEEgWRjT",
        "colab_type": "text"
      },
      "source": [
        "\n",
        "\n",
        "*   Irka göre gelir tahmini yapılacağı için X ve y değişkenleri aşağıdaki gibi tanımlanmıştırç \n",
        "\n"
      ]
    },
    {
      "cell_type": "code",
      "metadata": {
        "id": "abqyiA8sNm5v",
        "colab_type": "code",
        "colab": {}
      },
      "source": [
        "X = acs2015_census[['White', 'Black', 'Hispanic', 'Native', 'Asian', 'Pacific']]            \n",
        "Y = acs2015_census['high_low_income']"
      ],
      "execution_count": 0,
      "outputs": []
    },
    {
      "cell_type": "markdown",
      "metadata": {
        "id": "wxGqC2YZWey4",
        "colab_type": "text"
      },
      "source": [
        "## 5.2 - Train ve Test setlerinin ayrılması"
      ]
    },
    {
      "cell_type": "code",
      "metadata": {
        "id": "S2zMTInxNm99",
        "colab_type": "code",
        "colab": {}
      },
      "source": [
        "X_train, X_test, y_train, y_test = model_selection.train_test_split(X, Y, test_size=0.2, random_state=42)"
      ],
      "execution_count": 0,
      "outputs": []
    },
    {
      "cell_type": "markdown",
      "metadata": {
        "id": "moxENn9WWrST",
        "colab_type": "text"
      },
      "source": [
        "## 5.3 - Modellerin Kurulması  ve Tahmin- Confusion Matrix"
      ]
    },
    {
      "cell_type": "markdown",
      "metadata": {
        "id": "0Ahf4osgXBp3",
        "colab_type": "text"
      },
      "source": [
        "### 5.3.1 Logistic Regresyon"
      ]
    },
    {
      "cell_type": "code",
      "metadata": {
        "id": "7hEYD1siOScD",
        "colab_type": "code",
        "outputId": "8b79547b-d56a-4783-ca28-827d7134257b",
        "colab": {
          "base_uri": "https://localhost:8080/",
          "height": 123
        }
      },
      "source": [
        "logis = LogisticRegression()\n",
        "logis.fit(X_train, y_train)\n",
        "prediction=logis.predict(X_test)\n",
        "print(\"logistic regression::\\n\", confusion_matrix(y_test, prediction), \"\\n\")\n",
        "print(accuracy_score(y_test, prediction))\n"
      ],
      "execution_count": 78,
      "outputs": [
        {
          "output_type": "stream",
          "text": [
            "logistic regression::\n",
            " [[ 211   12 2318]\n",
            " [  18  235 1960]\n",
            " [ 137  177 9478]] \n",
            "\n",
            "0.6822494156469132\n"
          ],
          "name": "stdout"
        }
      ]
    },
    {
      "cell_type": "markdown",
      "metadata": {
        "id": "SiGhIBJgXMUy",
        "colab_type": "text"
      },
      "source": [
        "### 5.3.2 - KNN "
      ]
    },
    {
      "cell_type": "code",
      "metadata": {
        "id": "bJW9O1pROXYu",
        "colab_type": "code",
        "outputId": "e044e617-4bef-4d1e-bb8d-9cc7d0145f93",
        "colab": {
          "base_uri": "https://localhost:8080/",
          "height": 123
        }
      },
      "source": [
        "knn = KNeighborsClassifier()\n",
        "knn.fit(X_train,Y_train)\n",
        "prediction=knn.predict(X_test)\n",
        "print(\"KNN ::\\n\",confusion_matrix(y_test,prediction),\"\\n\")\n",
        "print(accuracy_score(y_test, prediction))"
      ],
      "execution_count": 81,
      "outputs": [
        {
          "output_type": "stream",
          "text": [
            "KNN ::\n",
            " [[ 976   50 1515]\n",
            " [  68  894 1251]\n",
            " [ 915  716 8161]] \n",
            "\n",
            "0.6896053897978826\n"
          ],
          "name": "stdout"
        }
      ]
    },
    {
      "cell_type": "markdown",
      "metadata": {
        "id": "AabegAmAXT_D",
        "colab_type": "text"
      },
      "source": [
        "### 5.3.3 - Decision Tree"
      ]
    },
    {
      "cell_type": "code",
      "metadata": {
        "id": "kfTdnWPjOYoT",
        "colab_type": "code",
        "outputId": "5111f253-6422-4b6d-c8cf-f98e03e2370c",
        "colab": {
          "base_uri": "https://localhost:8080/",
          "height": 123
        }
      },
      "source": [
        "dTmodel = DecisionTreeClassifier()\n",
        "dTmodel.fit(X_train, y_train)\n",
        "prediction = dTmodel.predict(X_test)\n",
        "print(\"DecisionTree ::\\n\", confusion_matrix(y_test, prediction),\"\\n\")\n",
        "print(accuracy_score(y_test, prediction))"
      ],
      "execution_count": 84,
      "outputs": [
        {
          "output_type": "stream",
          "text": [
            "DecisionTree ::\n",
            " [[1015  131 1395]\n",
            " [ 117  908 1188]\n",
            " [1448 1243 7101]] \n",
            "\n",
            "0.6203767358724048\n"
          ],
          "name": "stdout"
        }
      ]
    },
    {
      "cell_type": "markdown",
      "metadata": {
        "id": "M6kjIrNNXYDL",
        "colab_type": "text"
      },
      "source": [
        "### 5.3.4 - Random Forest"
      ]
    },
    {
      "cell_type": "code",
      "metadata": {
        "id": "TtQa9doaOaN_",
        "colab_type": "code",
        "outputId": "809fdcd7-a5a9-4a70-bfa5-cd6df74da3d2",
        "colab": {
          "base_uri": "https://localhost:8080/",
          "height": 123
        }
      },
      "source": [
        "rForest = RandomForestClassifier()\n",
        "rForest.fit(X_train,y_train)\n",
        "prediction=rForest.predict(X_test)\n",
        "print(\"RandomForest ::\\n\",confusion_matrix(y_test,prediction),\"\\n\")\n",
        "print(accuracy_score(y_test, prediction))"
      ],
      "execution_count": 85,
      "outputs": [
        {
          "output_type": "stream",
          "text": [
            "RandomForest ::\n",
            " [[1048   40 1453]\n",
            " [  64  954 1195]\n",
            " [ 958  658 8176]] \n",
            "\n",
            "0.699711260827719\n"
          ],
          "name": "stdout"
        }
      ]
    },
    {
      "cell_type": "markdown",
      "metadata": {
        "id": "Q5cRPRVDXmGB",
        "colab_type": "text"
      },
      "source": [
        "### 5.3.5 - Gradient Boosting"
      ]
    },
    {
      "cell_type": "code",
      "metadata": {
        "id": "dOHeLReCObbs",
        "colab_type": "code",
        "outputId": "b04838eb-7313-4a8e-aeaa-26d038de52b7",
        "colab": {
          "base_uri": "https://localhost:8080/",
          "height": 105
        }
      },
      "source": [
        "grBoosting = GradientBoostingClassifier()\n",
        "grBoosting.fit(X_train, y_train)\n",
        "prediction = grBoosting.predict(X_test)\n",
        "print(\"GradientBoosting ::\\n\", confusion_matrix(y_test, prediction), \"\\n\")\n",
        "print(accuracy_score(y_test, prediction))"
      ],
      "execution_count": 87,
      "outputs": [
        {
          "output_type": "stream",
          "text": [
            "GradientBoosting ::\n",
            " [[ 901   16 1624]\n",
            " [  37  877 1299]\n",
            " [ 557  408 8827]]\n",
            "0.7290664100096247\n"
          ],
          "name": "stdout"
        }
      ]
    },
    {
      "cell_type": "markdown",
      "metadata": {
        "id": "TtvdQjmhXrEU",
        "colab_type": "text"
      },
      "source": [
        "### 5.3.6 - XgBoost"
      ]
    },
    {
      "cell_type": "code",
      "metadata": {
        "id": "aMdZUiJrNnD-",
        "colab_type": "code",
        "outputId": "26f7da77-3793-47d1-e07a-14002bdb870c",
        "colab": {
          "base_uri": "https://localhost:8080/",
          "height": 123
        }
      },
      "source": [
        "xgboost = XGBClassifier()\n",
        "xgboost.fit(X_train,y_train)\n",
        "prediction=xgboost.predict(X_test)\n",
        "print(\"xgboost ::\\n\",confusion_matrix(y_test,prediction), \"\\n\")\n",
        "print(accuracy_score(y_test, prediction))"
      ],
      "execution_count": 88,
      "outputs": [
        {
          "output_type": "stream",
          "text": [
            "xgboost ::\n",
            " [[ 840   15 1686]\n",
            " [  36  829 1348]\n",
            " [ 484  368 8940]] \n",
            "\n",
            "0.7293413996975113\n"
          ],
          "name": "stdout"
        }
      ]
    },
    {
      "cell_type": "markdown",
      "metadata": {
        "id": "WgJr8s5EQZgR",
        "colab_type": "text"
      },
      "source": [
        "#### 5.3.6.1 XgBoost öznitelikleri önem sıralamasına göre grafiklendirmek\n"
      ]
    },
    {
      "cell_type": "code",
      "metadata": {
        "id": "mgSEDKuFFzjZ",
        "colab_type": "code",
        "colab": {
          "base_uri": "https://localhost:8080/",
          "height": 626
        },
        "outputId": "9f3d4d75-9f2e-41f8-b345-f02d4ed82f68"
      },
      "source": [
        "xgb.plot_importance(xgboost)\n",
        "plt.rcParams['figure.figsize'] = [10, 10]\n",
        "plt.show()"
      ],
      "execution_count": 118,
      "outputs": [
        {
          "output_type": "display_data",
          "data": {
            "image/png": "[encoded data removed]",
            "text/plain": [
              "<Figure size 720x720 with 1 Axes>"
            ]
          },
          "metadata": {
            "tags": []
          }
        }
      ]
    },
    {
      "cell_type": "markdown",
      "metadata": {
        "id": "VQyTFjws1oY9",
        "colab_type": "text"
      },
      "source": [
        "### 5.3.7 - CatBoost"
      ]
    },
    {
      "cell_type": "code",
      "metadata": {
        "id": "KijxcsUT12pp",
        "colab_type": "code",
        "colab": {
          "base_uri": "https://localhost:8080/",
          "height": 1000
        },
        "outputId": "6a56bad8-edc5-46ae-edfc-05390b06c4f0"
      },
      "source": [
        "catB = CatBoostClassifier()\n",
        "catB.fit(X_train, y_train)\n",
        "prediction=catB.predict(X_test)\n",
        "print(\"catboost ::\\n\",confusion_matrix(y_test,prediction), \"\\n\")\n",
        "print(accuracy_score(y_test, prediction))\n",
        "score8 = accuracy_score(y_test, prediction)"
      ],
      "execution_count": 117,
      "outputs": [
        {
          "output_type": "stream",
          "text": [
            "0:\tlearn: -1.0760050\ttotal: 47ms\tremaining: 47s\n",
            "1:\tlearn: -1.0544881\ttotal: 92.3ms\tremaining: 46s\n",
            "2:\tlearn: -1.0350429\ttotal: 137ms\tremaining: 45.5s\n",
            "3:\tlearn: -1.0162744\ttotal: 191ms\tremaining: 47.5s\n",
            "4:\tlearn: -0.9987638\ttotal: 240ms\tremaining: 47.8s\n",
            "5:\tlearn: -0.9818724\ttotal: 299ms\tremaining: 49.5s\n",
            "6:\tlearn: -0.9662205\ttotal: 348ms\tremaining: 49.4s\n",
            "7:\tlearn: -0.9516797\ttotal: 398ms\tremaining: 49.3s\n",
            "8:\tlearn: -0.9377566\ttotal: 449ms\tremaining: 49.5s\n",
            "9:\tlearn: -0.9245436\ttotal: 505ms\tremaining: 50s\n",
            "10:\tlearn: -0.9123709\ttotal: 558ms\tremaining: 50.2s\n",
            "11:\tlearn: -0.9007217\ttotal: 611ms\tremaining: 50.3s\n",
            "12:\tlearn: -0.8898231\ttotal: 660ms\tremaining: 50.1s\n",
            "13:\tlearn: -0.8791027\ttotal: 712ms\tremaining: 50.2s\n",
            "14:\tlearn: -0.8689560\ttotal: 761ms\tremaining: 50s\n",
            "15:\tlearn: -0.8593941\ttotal: 810ms\tremaining: 49.8s\n",
            "16:\tlearn: -0.8502457\ttotal: 860ms\tremaining: 49.7s\n",
            "17:\tlearn: -0.8420436\ttotal: 915ms\tremaining: 49.9s\n",
            "18:\tlearn: -0.8339573\ttotal: 964ms\tremaining: 49.8s\n",
            "19:\tlearn: -0.8263675\ttotal: 1.01s\tremaining: 49.7s\n",
            "20:\tlearn: -0.8187892\ttotal: 1.07s\tremaining: 49.8s\n",
            "21:\tlearn: -0.8116047\ttotal: 1.12s\tremaining: 49.8s\n",
            "22:\tlearn: -0.8045140\ttotal: 1.17s\tremaining: 49.6s\n",
            "23:\tlearn: -0.7979548\ttotal: 1.22s\tremaining: 49.5s\n",
            "24:\tlearn: -0.7915995\ttotal: 1.26s\tremaining: 49.3s\n",
            "25:\tlearn: -0.7855341\ttotal: 1.31s\tremaining: 49.2s\n",
            "26:\tlearn: -0.7797431\ttotal: 1.37s\tremaining: 49.3s\n",
            "27:\tlearn: -0.7741547\ttotal: 1.41s\tremaining: 49.1s\n",
            "28:\tlearn: -0.7688303\ttotal: 1.46s\tremaining: 49s\n",
            "29:\tlearn: -0.7636554\ttotal: 1.51s\tremaining: 48.7s\n",
            "30:\tlearn: -0.7588386\ttotal: 1.55s\tremaining: 48.5s\n",
            "31:\tlearn: -0.7541544\ttotal: 1.6s\tremaining: 48.5s\n",
            "32:\tlearn: -0.7497851\ttotal: 1.65s\tremaining: 48.4s\n",
            "33:\tlearn: -0.7457443\ttotal: 1.7s\tremaining: 48.3s\n",
            "34:\tlearn: -0.7420659\ttotal: 1.75s\tremaining: 48.2s\n",
            "35:\tlearn: -0.7381997\ttotal: 1.8s\tremaining: 48.1s\n",
            "36:\tlearn: -0.7344381\ttotal: 1.86s\tremaining: 48.4s\n",
            "37:\tlearn: -0.7308009\ttotal: 1.91s\tremaining: 48.4s\n",
            "38:\tlearn: -0.7274316\ttotal: 1.96s\tremaining: 48.3s\n",
            "39:\tlearn: -0.7239722\ttotal: 2.01s\tremaining: 48.3s\n",
            "40:\tlearn: -0.7207184\ttotal: 2.07s\tremaining: 48.3s\n",
            "41:\tlearn: -0.7177265\ttotal: 2.12s\tremaining: 48.4s\n",
            "42:\tlearn: -0.7148092\ttotal: 2.17s\tremaining: 48.3s\n",
            "43:\tlearn: -0.7120382\ttotal: 2.22s\tremaining: 48.2s\n",
            "44:\tlearn: -0.7092452\ttotal: 2.27s\tremaining: 48.3s\n",
            "45:\tlearn: -0.7067234\ttotal: 2.32s\tremaining: 48.2s\n",
            "46:\tlearn: -0.7043906\ttotal: 2.37s\tremaining: 48.1s\n",
            "47:\tlearn: -0.7019090\ttotal: 2.42s\tremaining: 48.1s\n",
            "48:\tlearn: -0.6997482\ttotal: 2.48s\tremaining: 48.1s\n",
            "49:\tlearn: -0.6977519\ttotal: 2.52s\tremaining: 48s\n",
            "50:\tlearn: -0.6957538\ttotal: 2.57s\tremaining: 47.9s\n",
            "51:\tlearn: -0.6936009\ttotal: 2.62s\tremaining: 47.8s\n",
            "52:\tlearn: -0.6914430\ttotal: 2.67s\tremaining: 47.7s\n",
            "53:\tlearn: -0.6894750\ttotal: 2.73s\tremaining: 47.7s\n",
            "54:\tlearn: -0.6876833\ttotal: 2.77s\tremaining: 47.6s\n",
            "55:\tlearn: -0.6858850\ttotal: 2.82s\tremaining: 47.6s\n",
            "56:\tlearn: -0.6843223\ttotal: 2.87s\tremaining: 47.5s\n",
            "57:\tlearn: -0.6827021\ttotal: 2.92s\tremaining: 47.4s\n",
            "58:\tlearn: -0.6809708\ttotal: 2.97s\tremaining: 47.4s\n",
            "59:\tlearn: -0.6793336\ttotal: 3.02s\tremaining: 47.3s\n",
            "60:\tlearn: -0.6777436\ttotal: 3.07s\tremaining: 47.2s\n",
            "61:\tlearn: -0.6764452\ttotal: 3.12s\tremaining: 47.1s\n",
            "62:\tlearn: -0.6749943\ttotal: 3.16s\tremaining: 47.1s\n",
            "63:\tlearn: -0.6737223\ttotal: 3.22s\tremaining: 47.2s\n",
            "64:\tlearn: -0.6723714\ttotal: 3.27s\tremaining: 47.1s\n",
            "65:\tlearn: -0.6710445\ttotal: 3.32s\tremaining: 47s\n",
            "66:\tlearn: -0.6698192\ttotal: 3.37s\tremaining: 46.9s\n",
            "67:\tlearn: -0.6687341\ttotal: 3.42s\tremaining: 46.9s\n",
            "68:\tlearn: -0.6675989\ttotal: 3.47s\tremaining: 46.8s\n",
            "69:\tlearn: -0.6666298\ttotal: 3.52s\tremaining: 46.8s\n",
            "70:\tlearn: -0.6656058\ttotal: 3.57s\tremaining: 46.7s\n",
            "71:\tlearn: -0.6644803\ttotal: 3.62s\tremaining: 46.7s\n",
            "72:\tlearn: -0.6634422\ttotal: 3.68s\tremaining: 46.7s\n",
            "73:\tlearn: -0.6624037\ttotal: 3.73s\tremaining: 46.7s\n",
            "74:\tlearn: -0.6614374\ttotal: 3.78s\tremaining: 46.6s\n",
            "75:\tlearn: -0.6605044\ttotal: 3.83s\tremaining: 46.6s\n",
            "76:\tlearn: -0.6596750\ttotal: 3.88s\tremaining: 46.5s\n",
            "77:\tlearn: -0.6587618\ttotal: 3.93s\tremaining: 46.5s\n",
            "78:\tlearn: -0.6579264\ttotal: 3.98s\tremaining: 46.5s\n",
            "79:\tlearn: -0.6570786\ttotal: 4.03s\tremaining: 46.4s\n",
            "80:\tlearn: -0.6562437\ttotal: 4.09s\tremaining: 46.4s\n",
            "81:\tlearn: -0.6555048\ttotal: 4.13s\tremaining: 46.3s\n",
            "82:\tlearn: -0.6547369\ttotal: 4.18s\tremaining: 46.2s\n",
            "83:\tlearn: -0.6541049\ttotal: 4.23s\tremaining: 46.2s\n",
            "84:\tlearn: -0.6534361\ttotal: 4.29s\tremaining: 46.2s\n",
            "85:\tlearn: -0.6528784\ttotal: 4.34s\tremaining: 46.1s\n",
            "86:\tlearn: -0.6522026\ttotal: 4.39s\tremaining: 46s\n",
            "87:\tlearn: -0.6515836\ttotal: 4.44s\tremaining: 46s\n",
            "88:\tlearn: -0.6511414\ttotal: 4.48s\tremaining: 45.9s\n",
            "89:\tlearn: -0.6506102\ttotal: 4.54s\tremaining: 45.9s\n",
            "90:\tlearn: -0.6499602\ttotal: 4.58s\tremaining: 45.8s\n",
            "91:\tlearn: -0.6493856\ttotal: 4.63s\tremaining: 45.8s\n",
            "92:\tlearn: -0.6487756\ttotal: 4.68s\tremaining: 45.7s\n",
            "93:\tlearn: -0.6482989\ttotal: 4.74s\tremaining: 45.7s\n",
            "94:\tlearn: -0.6478209\ttotal: 4.8s\tremaining: 45.7s\n",
            "95:\tlearn: -0.6473708\ttotal: 4.85s\tremaining: 45.7s\n",
            "96:\tlearn: -0.6469351\ttotal: 4.9s\tremaining: 45.6s\n",
            "97:\tlearn: -0.6464795\ttotal: 4.95s\tremaining: 45.6s\n",
            "98:\tlearn: -0.6460404\ttotal: 5s\tremaining: 45.5s\n",
            "99:\tlearn: -0.6455954\ttotal: 5.05s\tremaining: 45.5s\n",
            "100:\tlearn: -0.6452645\ttotal: 5.1s\tremaining: 45.4s\n",
            "101:\tlearn: -0.6448180\ttotal: 5.14s\tremaining: 45.3s\n",
            "102:\tlearn: -0.6443581\ttotal: 5.2s\tremaining: 45.3s\n",
            "103:\tlearn: -0.6439575\ttotal: 5.25s\tremaining: 45.2s\n",
            "104:\tlearn: -0.6435931\ttotal: 5.3s\tremaining: 45.1s\n",
            "105:\tlearn: -0.6432861\ttotal: 5.34s\tremaining: 45.1s\n",
            "106:\tlearn: -0.6429416\ttotal: 5.4s\tremaining: 45.1s\n",
            "107:\tlearn: -0.6425502\ttotal: 5.45s\tremaining: 45s\n",
            "108:\tlearn: -0.6421878\ttotal: 5.5s\tremaining: 45s\n",
            "109:\tlearn: -0.6418842\ttotal: 5.55s\tremaining: 44.9s\n",
            "110:\tlearn: -0.6416062\ttotal: 5.61s\tremaining: 44.9s\n",
            "111:\tlearn: -0.6412036\ttotal: 5.66s\tremaining: 44.9s\n",
            "112:\tlearn: -0.6408948\ttotal: 5.71s\tremaining: 44.8s\n",
            "113:\tlearn: -0.6405490\ttotal: 5.76s\tremaining: 44.7s\n",
            "114:\tlearn: -0.6402210\ttotal: 5.81s\tremaining: 44.7s\n",
            "115:\tlearn: -0.6399325\ttotal: 5.86s\tremaining: 44.7s\n",
            "116:\tlearn: -0.6397054\ttotal: 5.91s\tremaining: 44.6s\n",
            "117:\tlearn: -0.6394072\ttotal: 5.96s\tremaining: 44.5s\n",
            "118:\tlearn: -0.6390869\ttotal: 6.02s\tremaining: 44.6s\n",
            "119:\tlearn: -0.6388647\ttotal: 6.07s\tremaining: 44.5s\n",
            "120:\tlearn: -0.6386526\ttotal: 6.11s\tremaining: 44.4s\n",
            "121:\tlearn: -0.6383470\ttotal: 6.16s\tremaining: 44.3s\n",
            "122:\tlearn: -0.6381616\ttotal: 6.21s\tremaining: 44.3s\n",
            "123:\tlearn: -0.6379183\ttotal: 6.26s\tremaining: 44.2s\n",
            "124:\tlearn: -0.6377219\ttotal: 6.3s\tremaining: 44.1s\n",
            "125:\tlearn: -0.6375184\ttotal: 6.36s\tremaining: 44.1s\n",
            "126:\tlearn: -0.6372999\ttotal: 6.4s\tremaining: 44s\n",
            "127:\tlearn: -0.6370381\ttotal: 6.45s\tremaining: 44s\n",
            "128:\tlearn: -0.6368294\ttotal: 6.5s\tremaining: 43.9s\n",
            "129:\tlearn: -0.6365937\ttotal: 6.56s\tremaining: 43.9s\n",
            "130:\tlearn: -0.6364271\ttotal: 6.61s\tremaining: 43.8s\n",
            "131:\tlearn: -0.6362532\ttotal: 6.66s\tremaining: 43.8s\n",
            "132:\tlearn: -0.6360978\ttotal: 6.71s\tremaining: 43.7s\n",
            "133:\tlearn: -0.6359424\ttotal: 6.76s\tremaining: 43.7s\n",
            "134:\tlearn: -0.6357428\ttotal: 6.8s\tremaining: 43.6s\n",
            "135:\tlearn: -0.6355782\ttotal: 6.86s\tremaining: 43.6s\n",
            "136:\tlearn: -0.6353465\ttotal: 6.92s\tremaining: 43.6s\n",
            "137:\tlearn: -0.6351493\ttotal: 6.96s\tremaining: 43.5s\n",
            "138:\tlearn: -0.6349716\ttotal: 7.01s\tremaining: 43.4s\n",
            "139:\tlearn: -0.6348155\ttotal: 7.06s\tremaining: 43.4s\n",
            "140:\tlearn: -0.6346119\ttotal: 7.11s\tremaining: 43.3s\n",
            "141:\tlearn: -0.6344617\ttotal: 7.16s\tremaining: 43.2s\n",
            "142:\tlearn: -0.6343402\ttotal: 7.21s\tremaining: 43.2s\n",
            "143:\tlearn: -0.6341648\ttotal: 7.25s\tremaining: 43.1s\n",
            "144:\tlearn: -0.6340112\ttotal: 7.3s\tremaining: 43.1s\n",
            "145:\tlearn: -0.6338598\ttotal: 7.35s\tremaining: 43s\n",
            "146:\tlearn: -0.6337023\ttotal: 7.4s\tremaining: 42.9s\n",
            "147:\tlearn: -0.6335970\ttotal: 7.45s\tremaining: 42.9s\n",
            "148:\tlearn: -0.6334142\ttotal: 7.49s\tremaining: 42.8s\n",
            "149:\tlearn: -0.6332901\ttotal: 7.54s\tremaining: 42.7s\n",
            "150:\tlearn: -0.6331097\ttotal: 7.59s\tremaining: 42.7s\n",
            "151:\tlearn: -0.6329576\ttotal: 7.64s\tremaining: 42.6s\n",
            "152:\tlearn: -0.6327923\ttotal: 7.69s\tremaining: 42.6s\n",
            "153:\tlearn: -0.6326309\ttotal: 7.74s\tremaining: 42.5s\n",
            "154:\tlearn: -0.6324842\ttotal: 7.79s\tremaining: 42.5s\n",
            "155:\tlearn: -0.6323590\ttotal: 7.84s\tremaining: 42.4s\n",
            "156:\tlearn: -0.6322426\ttotal: 7.89s\tremaining: 42.4s\n",
            "157:\tlearn: -0.6320846\ttotal: 7.94s\tremaining: 42.3s\n",
            "158:\tlearn: -0.6319481\ttotal: 7.99s\tremaining: 42.3s\n",
            "159:\tlearn: -0.6317972\ttotal: 8.04s\tremaining: 42.2s\n",
            "160:\tlearn: -0.6316461\ttotal: 8.09s\tremaining: 42.2s\n",
            "161:\tlearn: -0.6315009\ttotal: 8.14s\tremaining: 42.1s\n",
            "162:\tlearn: -0.6313599\ttotal: 8.19s\tremaining: 42.1s\n",
            "163:\tlearn: -0.6311988\ttotal: 8.24s\tremaining: 42s\n",
            "164:\tlearn: -0.6311131\ttotal: 8.29s\tremaining: 41.9s\n",
            "165:\tlearn: -0.6310218\ttotal: 8.34s\tremaining: 41.9s\n",
            "166:\tlearn: -0.6309200\ttotal: 8.38s\tremaining: 41.8s\n",
            "167:\tlearn: -0.6308282\ttotal: 8.43s\tremaining: 41.7s\n",
            "168:\tlearn: -0.6306852\ttotal: 8.48s\tremaining: 41.7s\n",
            "169:\tlearn: -0.6305797\ttotal: 8.53s\tremaining: 41.6s\n",
            "170:\tlearn: -0.6304727\ttotal: 8.57s\tremaining: 41.6s\n",
            "171:\tlearn: -0.6303744\ttotal: 8.63s\tremaining: 41.5s\n",
            "172:\tlearn: -0.6302554\ttotal: 8.68s\tremaining: 41.5s\n",
            "173:\tlearn: -0.6302083\ttotal: 8.72s\tremaining: 41.4s\n",
            "174:\tlearn: -0.6300963\ttotal: 8.77s\tremaining: 41.4s\n",
            "175:\tlearn: -0.6300110\ttotal: 8.82s\tremaining: 41.3s\n",
            "176:\tlearn: -0.6299180\ttotal: 8.87s\tremaining: 41.2s\n",
            "177:\tlearn: -0.6298044\ttotal: 8.92s\tremaining: 41.2s\n",
            "178:\tlearn: -0.6297211\ttotal: 8.97s\tremaining: 41.1s\n",
            "179:\tlearn: -0.6296922\ttotal: 9.01s\tremaining: 41.1s\n",
            "180:\tlearn: -0.6295876\ttotal: 9.06s\tremaining: 41s\n",
            "181:\tlearn: -0.6295050\ttotal: 9.11s\tremaining: 41s\n",
            "182:\tlearn: -0.6293921\ttotal: 9.17s\tremaining: 40.9s\n",
            "183:\tlearn: -0.6293003\ttotal: 9.21s\tremaining: 40.9s\n",
            "184:\tlearn: -0.6292017\ttotal: 9.26s\tremaining: 40.8s\n",
            "185:\tlearn: -0.6291028\ttotal: 9.31s\tremaining: 40.7s\n",
            "186:\tlearn: -0.6289666\ttotal: 9.36s\tremaining: 40.7s\n",
            "187:\tlearn: -0.6288808\ttotal: 9.41s\tremaining: 40.6s\n",
            "188:\tlearn: -0.6287965\ttotal: 9.46s\tremaining: 40.6s\n",
            "189:\tlearn: -0.6287043\ttotal: 9.51s\tremaining: 40.5s\n",
            "190:\tlearn: -0.6286013\ttotal: 9.56s\tremaining: 40.5s\n",
            "191:\tlearn: -0.6285035\ttotal: 9.62s\tremaining: 40.5s\n",
            "192:\tlearn: -0.6284332\ttotal: 9.66s\tremaining: 40.4s\n",
            "193:\tlearn: -0.6283216\ttotal: 9.72s\tremaining: 40.4s\n",
            "194:\tlearn: -0.6282124\ttotal: 9.76s\tremaining: 40.3s\n",
            "195:\tlearn: -0.6281373\ttotal: 9.81s\tremaining: 40.2s\n",
            "196:\tlearn: -0.6280689\ttotal: 9.86s\tremaining: 40.2s\n",
            "197:\tlearn: -0.6280038\ttotal: 9.91s\tremaining: 40.2s\n",
            "198:\tlearn: -0.6279241\ttotal: 9.96s\tremaining: 40.1s\n",
            "199:\tlearn: -0.6278413\ttotal: 10s\tremaining: 40s\n",
            "200:\tlearn: -0.6277777\ttotal: 10.1s\tremaining: 40s\n",
            "201:\tlearn: -0.6276576\ttotal: 10.1s\tremaining: 40s\n",
            "202:\tlearn: -0.6275591\ttotal: 10.2s\tremaining: 39.9s\n",
            "203:\tlearn: -0.6274951\ttotal: 10.2s\tremaining: 39.9s\n",
            "204:\tlearn: -0.6274141\ttotal: 10.3s\tremaining: 39.8s\n",
            "205:\tlearn: -0.6273299\ttotal: 10.3s\tremaining: 39.8s\n",
            "206:\tlearn: -0.6272675\ttotal: 10.4s\tremaining: 39.7s\n",
            "207:\tlearn: -0.6271932\ttotal: 10.4s\tremaining: 39.7s\n",
            "208:\tlearn: -0.6271043\ttotal: 10.5s\tremaining: 39.6s\n",
            "209:\tlearn: -0.6270550\ttotal: 10.5s\tremaining: 39.6s\n",
            "210:\tlearn: -0.6269989\ttotal: 10.6s\tremaining: 39.5s\n",
            "211:\tlearn: -0.6269393\ttotal: 10.6s\tremaining: 39.5s\n",
            "212:\tlearn: -0.6268744\ttotal: 10.7s\tremaining: 39.4s\n",
            "213:\tlearn: -0.6268179\ttotal: 10.7s\tremaining: 39.3s\n",
            "214:\tlearn: -0.6267687\ttotal: 10.8s\tremaining: 39.3s\n",
            "215:\tlearn: -0.6266932\ttotal: 10.8s\tremaining: 39.2s\n",
            "216:\tlearn: -0.6266113\ttotal: 10.9s\tremaining: 39.2s\n",
            "217:\tlearn: -0.6265739\ttotal: 10.9s\tremaining: 39.2s\n",
            "218:\tlearn: -0.6264870\ttotal: 11s\tremaining: 39.1s\n",
            "219:\tlearn: -0.6264403\ttotal: 11s\tremaining: 39.1s\n",
            "220:\tlearn: -0.6263356\ttotal: 11.1s\tremaining: 39s\n",
            "221:\tlearn: -0.6262455\ttotal: 11.1s\tremaining: 39s\n",
            "222:\tlearn: -0.6261682\ttotal: 11.2s\tremaining: 38.9s\n",
            "223:\tlearn: -0.6260808\ttotal: 11.2s\tremaining: 38.9s\n",
            "224:\tlearn: -0.6260270\ttotal: 11.3s\tremaining: 38.8s\n",
            "225:\tlearn: -0.6259804\ttotal: 11.3s\tremaining: 38.8s\n",
            "226:\tlearn: -0.6259273\ttotal: 11.4s\tremaining: 38.8s\n",
            "227:\tlearn: -0.6258619\ttotal: 11.4s\tremaining: 38.7s\n",
            "228:\tlearn: -0.6257906\ttotal: 11.5s\tremaining: 38.6s\n",
            "229:\tlearn: -0.6257534\ttotal: 11.5s\tremaining: 38.6s\n",
            "230:\tlearn: -0.6256872\ttotal: 11.6s\tremaining: 38.5s\n",
            "231:\tlearn: -0.6256451\ttotal: 11.6s\tremaining: 38.5s\n",
            "232:\tlearn: -0.6255668\ttotal: 11.7s\tremaining: 38.4s\n",
            "233:\tlearn: -0.6254864\ttotal: 11.7s\tremaining: 38.4s\n",
            "234:\tlearn: -0.6254528\ttotal: 11.8s\tremaining: 38.3s\n",
            "235:\tlearn: -0.6253940\ttotal: 11.8s\tremaining: 38.3s\n",
            "236:\tlearn: -0.6253429\ttotal: 11.9s\tremaining: 38.2s\n",
            "237:\tlearn: -0.6252794\ttotal: 11.9s\tremaining: 38.2s\n",
            "238:\tlearn: -0.6252202\ttotal: 12s\tremaining: 38.1s\n",
            "239:\tlearn: -0.6251225\ttotal: 12s\tremaining: 38.1s\n",
            "240:\tlearn: -0.6250518\ttotal: 12.1s\tremaining: 38s\n",
            "241:\tlearn: -0.6249774\ttotal: 12.1s\tremaining: 38s\n",
            "242:\tlearn: -0.6249248\ttotal: 12.2s\tremaining: 37.9s\n",
            "243:\tlearn: -0.6248796\ttotal: 12.2s\tremaining: 37.8s\n",
            "244:\tlearn: -0.6248141\ttotal: 12.3s\tremaining: 37.8s\n",
            "245:\tlearn: -0.6247425\ttotal: 12.3s\tremaining: 37.7s\n",
            "246:\tlearn: -0.6246915\ttotal: 12.4s\tremaining: 37.7s\n",
            "247:\tlearn: -0.6246533\ttotal: 12.4s\tremaining: 37.6s\n",
            "248:\tlearn: -0.6245716\ttotal: 12.5s\tremaining: 37.6s\n",
            "249:\tlearn: -0.6244960\ttotal: 12.5s\tremaining: 37.5s\n",
            "250:\tlearn: -0.6244271\ttotal: 12.6s\tremaining: 37.5s\n",
            "251:\tlearn: -0.6243644\ttotal: 12.6s\tremaining: 37.4s\n",
            "252:\tlearn: -0.6243220\ttotal: 12.7s\tremaining: 37.4s\n",
            "253:\tlearn: -0.6242793\ttotal: 12.7s\tremaining: 37.3s\n",
            "254:\tlearn: -0.6242342\ttotal: 12.8s\tremaining: 37.3s\n",
            "255:\tlearn: -0.6241514\ttotal: 12.8s\tremaining: 37.2s\n",
            "256:\tlearn: -0.6240837\ttotal: 12.9s\tremaining: 37.2s\n",
            "257:\tlearn: -0.6240182\ttotal: 12.9s\tremaining: 37.1s\n",
            "258:\tlearn: -0.6239440\ttotal: 13s\tremaining: 37.1s\n",
            "259:\tlearn: -0.6238973\ttotal: 13s\tremaining: 37s\n",
            "260:\tlearn: -0.6238698\ttotal: 13s\tremaining: 36.9s\n",
            "261:\tlearn: -0.6238069\ttotal: 13.1s\tremaining: 36.9s\n",
            "262:\tlearn: -0.6237805\ttotal: 13.1s\tremaining: 36.8s\n",
            "263:\tlearn: -0.6237233\ttotal: 13.2s\tremaining: 36.8s\n",
            "264:\tlearn: -0.6236748\ttotal: 13.2s\tremaining: 36.7s\n",
            "265:\tlearn: -0.6236209\ttotal: 13.3s\tremaining: 36.7s\n",
            "266:\tlearn: -0.6235720\ttotal: 13.3s\tremaining: 36.6s\n",
            "267:\tlearn: -0.6235170\ttotal: 13.4s\tremaining: 36.6s\n",
            "268:\tlearn: -0.6234794\ttotal: 13.4s\tremaining: 36.5s\n",
            "269:\tlearn: -0.6234315\ttotal: 13.5s\tremaining: 36.5s\n",
            "270:\tlearn: -0.6233709\ttotal: 13.5s\tremaining: 36.4s\n",
            "271:\tlearn: -0.6233212\ttotal: 13.6s\tremaining: 36.4s\n",
            "272:\tlearn: -0.6232513\ttotal: 13.6s\tremaining: 36.3s\n",
            "273:\tlearn: -0.6232054\ttotal: 13.7s\tremaining: 36.3s\n",
            "274:\tlearn: -0.6231619\ttotal: 13.7s\tremaining: 36.2s\n",
            "275:\tlearn: -0.6231113\ttotal: 13.8s\tremaining: 36.2s\n",
            "276:\tlearn: -0.6230741\ttotal: 13.8s\tremaining: 36.1s\n",
            "277:\tlearn: -0.6230202\ttotal: 13.9s\tremaining: 36.1s\n",
            "278:\tlearn: -0.6229847\ttotal: 13.9s\tremaining: 36s\n",
            "279:\tlearn: -0.6229061\ttotal: 14s\tremaining: 36s\n",
            "280:\tlearn: -0.6228480\ttotal: 14s\tremaining: 35.9s\n",
            "281:\tlearn: -0.6228022\ttotal: 14.1s\tremaining: 35.9s\n",
            "282:\tlearn: -0.6227656\ttotal: 14.1s\tremaining: 35.8s\n",
            "283:\tlearn: -0.6227195\ttotal: 14.2s\tremaining: 35.8s\n",
            "284:\tlearn: -0.6226728\ttotal: 14.2s\tremaining: 35.7s\n",
            "285:\tlearn: -0.6226470\ttotal: 14.3s\tremaining: 35.7s\n",
            "286:\tlearn: -0.6226037\ttotal: 14.3s\tremaining: 35.6s\n",
            "287:\tlearn: -0.6225226\ttotal: 14.4s\tremaining: 35.5s\n",
            "288:\tlearn: -0.6224740\ttotal: 14.4s\tremaining: 35.5s\n",
            "289:\tlearn: -0.6224215\ttotal: 14.5s\tremaining: 35.4s\n",
            "290:\tlearn: -0.6223799\ttotal: 14.5s\tremaining: 35.4s\n",
            "291:\tlearn: -0.6223507\ttotal: 14.6s\tremaining: 35.3s\n",
            "292:\tlearn: -0.6222868\ttotal: 14.6s\tremaining: 35.3s\n",
            "293:\tlearn: -0.6222201\ttotal: 14.7s\tremaining: 35.2s\n",
            "294:\tlearn: -0.6222019\ttotal: 14.7s\tremaining: 35.2s\n",
            "295:\tlearn: -0.6221672\ttotal: 14.8s\tremaining: 35.1s\n",
            "296:\tlearn: -0.6221081\ttotal: 14.8s\tremaining: 35.1s\n",
            "297:\tlearn: -0.6220843\ttotal: 14.9s\tremaining: 35s\n",
            "298:\tlearn: -0.6220621\ttotal: 14.9s\tremaining: 35s\n",
            "299:\tlearn: -0.6220250\ttotal: 15s\tremaining: 34.9s\n",
            "300:\tlearn: -0.6219707\ttotal: 15s\tremaining: 34.9s\n",
            "301:\tlearn: -0.6219372\ttotal: 15.1s\tremaining: 34.8s\n",
            "302:\tlearn: -0.6219150\ttotal: 15.1s\tremaining: 34.8s\n",
            "303:\tlearn: -0.6218799\ttotal: 15.2s\tremaining: 34.7s\n",
            "304:\tlearn: -0.6218436\ttotal: 15.2s\tremaining: 34.7s\n",
            "305:\tlearn: -0.6218004\ttotal: 15.3s\tremaining: 34.6s\n",
            "306:\tlearn: -0.6217530\ttotal: 15.3s\tremaining: 34.6s\n",
            "307:\tlearn: -0.6217047\ttotal: 15.4s\tremaining: 34.5s\n",
            "308:\tlearn: -0.6216512\ttotal: 15.4s\tremaining: 34.4s\n",
            "309:\tlearn: -0.6215964\ttotal: 15.4s\tremaining: 34.4s\n",
            "310:\tlearn: -0.6215739\ttotal: 15.5s\tremaining: 34.3s\n",
            "311:\tlearn: -0.6215483\ttotal: 15.5s\tremaining: 34.3s\n",
            "312:\tlearn: -0.6215187\ttotal: 15.6s\tremaining: 34.2s\n",
            "313:\tlearn: -0.6215036\ttotal: 15.6s\tremaining: 34.2s\n",
            "314:\tlearn: -0.6214662\ttotal: 15.7s\tremaining: 34.1s\n",
            "315:\tlearn: -0.6214269\ttotal: 15.7s\tremaining: 34.1s\n",
            "316:\tlearn: -0.6214064\ttotal: 15.8s\tremaining: 34s\n",
            "317:\tlearn: -0.6213697\ttotal: 15.8s\tremaining: 34s\n",
            "318:\tlearn: -0.6213386\ttotal: 15.9s\tremaining: 33.9s\n",
            "319:\tlearn: -0.6213080\ttotal: 15.9s\tremaining: 33.9s\n",
            "320:\tlearn: -0.6212591\ttotal: 16s\tremaining: 33.8s\n",
            "321:\tlearn: -0.6212284\ttotal: 16s\tremaining: 33.8s\n",
            "322:\tlearn: -0.6212030\ttotal: 16.1s\tremaining: 33.7s\n",
            "323:\tlearn: -0.6211769\ttotal: 16.1s\tremaining: 33.7s\n",
            "324:\tlearn: -0.6211233\ttotal: 16.2s\tremaining: 33.6s\n",
            "325:\tlearn: -0.6210752\ttotal: 16.2s\tremaining: 33.6s\n",
            "326:\tlearn: -0.6210147\ttotal: 16.3s\tremaining: 33.5s\n",
            "327:\tlearn: -0.6209372\ttotal: 16.3s\tremaining: 33.5s\n",
            "328:\tlearn: -0.6209034\ttotal: 16.4s\tremaining: 33.4s\n",
            "329:\tlearn: -0.6208928\ttotal: 16.4s\tremaining: 33.4s\n",
            "330:\tlearn: -0.6208455\ttotal: 16.5s\tremaining: 33.3s\n",
            "331:\tlearn: -0.6208171\ttotal: 16.5s\tremaining: 33.3s\n",
            "332:\tlearn: -0.6207712\ttotal: 16.6s\tremaining: 33.2s\n",
            "333:\tlearn: -0.6207247\ttotal: 16.6s\tremaining: 33.1s\n",
            "334:\tlearn: -0.6206639\ttotal: 16.7s\tremaining: 33.1s\n",
            "335:\tlearn: -0.6206419\ttotal: 16.7s\tremaining: 33s\n",
            "336:\tlearn: -0.6206139\ttotal: 16.8s\tremaining: 33s\n",
            "337:\tlearn: -0.6205772\ttotal: 16.8s\tremaining: 32.9s\n",
            "338:\tlearn: -0.6205226\ttotal: 16.9s\tremaining: 32.9s\n",
            "339:\tlearn: -0.6204769\ttotal: 16.9s\tremaining: 32.8s\n",
            "340:\tlearn: -0.6204290\ttotal: 17s\tremaining: 32.8s\n",
            "341:\tlearn: -0.6203748\ttotal: 17s\tremaining: 32.7s\n",
            "342:\tlearn: -0.6203207\ttotal: 17.1s\tremaining: 32.7s\n",
            "343:\tlearn: -0.6203032\ttotal: 17.1s\tremaining: 32.6s\n",
            "344:\tlearn: -0.6202667\ttotal: 17.2s\tremaining: 32.6s\n",
            "345:\tlearn: -0.6202402\ttotal: 17.2s\tremaining: 32.5s\n",
            "346:\tlearn: -0.6201998\ttotal: 17.3s\tremaining: 32.5s\n",
            "347:\tlearn: -0.6201770\ttotal: 17.3s\tremaining: 32.4s\n",
            "348:\tlearn: -0.6201421\ttotal: 17.4s\tremaining: 32.4s\n",
            "349:\tlearn: -0.6201060\ttotal: 17.4s\tremaining: 32.3s\n",
            "350:\tlearn: -0.6200808\ttotal: 17.5s\tremaining: 32.3s\n",
            "351:\tlearn: -0.6200406\ttotal: 17.5s\tremaining: 32.2s\n",
            "352:\tlearn: -0.6200014\ttotal: 17.5s\tremaining: 32.2s\n",
            "353:\tlearn: -0.6199731\ttotal: 17.6s\tremaining: 32.1s\n",
            "354:\tlearn: -0.6199187\ttotal: 17.6s\tremaining: 32.1s\n",
            "355:\tlearn: -0.6198853\ttotal: 17.7s\tremaining: 32s\n",
            "356:\tlearn: -0.6198561\ttotal: 17.7s\tremaining: 32s\n",
            "357:\tlearn: -0.6198268\ttotal: 17.8s\tremaining: 31.9s\n",
            "358:\tlearn: -0.6197889\ttotal: 17.8s\tremaining: 31.9s\n",
            "359:\tlearn: -0.6197455\ttotal: 17.9s\tremaining: 31.8s\n",
            "360:\tlearn: -0.6197096\ttotal: 17.9s\tremaining: 31.8s\n",
            "361:\tlearn: -0.6196728\ttotal: 18s\tremaining: 31.7s\n",
            "362:\tlearn: -0.6196427\ttotal: 18s\tremaining: 31.6s\n",
            "363:\tlearn: -0.6196251\ttotal: 18.1s\tremaining: 31.6s\n",
            "364:\tlearn: -0.6196031\ttotal: 18.1s\tremaining: 31.5s\n",
            "365:\tlearn: -0.6195665\ttotal: 18.2s\tremaining: 31.5s\n",
            "366:\tlearn: -0.6195340\ttotal: 18.2s\tremaining: 31.4s\n",
            "367:\tlearn: -0.6194817\ttotal: 18.3s\tremaining: 31.4s\n",
            "368:\tlearn: -0.6194560\ttotal: 18.3s\tremaining: 31.3s\n",
            "369:\tlearn: -0.6194157\ttotal: 18.4s\tremaining: 31.3s\n",
            "370:\tlearn: -0.6193733\ttotal: 18.4s\tremaining: 31.2s\n",
            "371:\tlearn: -0.6193479\ttotal: 18.5s\tremaining: 31.2s\n",
            "372:\tlearn: -0.6193247\ttotal: 18.5s\tremaining: 31.1s\n",
            "373:\tlearn: -0.6192850\ttotal: 18.6s\tremaining: 31.1s\n",
            "374:\tlearn: -0.6192467\ttotal: 18.6s\tremaining: 31s\n",
            "375:\tlearn: -0.6191992\ttotal: 18.7s\tremaining: 31s\n",
            "376:\tlearn: -0.6191840\ttotal: 18.7s\tremaining: 30.9s\n",
            "377:\tlearn: -0.6191673\ttotal: 18.8s\tremaining: 30.9s\n",
            "378:\tlearn: -0.6191369\ttotal: 18.8s\tremaining: 30.8s\n",
            "379:\tlearn: -0.6190998\ttotal: 18.9s\tremaining: 30.8s\n",
            "380:\tlearn: -0.6190591\ttotal: 18.9s\tremaining: 30.7s\n",
            "381:\tlearn: -0.6190435\ttotal: 18.9s\tremaining: 30.7s\n",
            "382:\tlearn: -0.6190112\ttotal: 19s\tremaining: 30.6s\n",
            "383:\tlearn: -0.6189839\ttotal: 19.1s\tremaining: 30.6s\n",
            "384:\tlearn: -0.6189499\ttotal: 19.1s\tremaining: 30.5s\n",
            "385:\tlearn: -0.6189204\ttotal: 19.1s\tremaining: 30.5s\n",
            "386:\tlearn: -0.6188902\ttotal: 19.2s\tremaining: 30.4s\n",
            "387:\tlearn: -0.6188436\ttotal: 19.2s\tremaining: 30.4s\n",
            "388:\tlearn: -0.6188133\ttotal: 19.3s\tremaining: 30.3s\n",
            "389:\tlearn: -0.6187768\ttotal: 19.3s\tremaining: 30.3s\n",
            "390:\tlearn: -0.6187494\ttotal: 19.4s\tremaining: 30.2s\n",
            "391:\tlearn: -0.6186840\ttotal: 19.4s\tremaining: 30.1s\n",
            "392:\tlearn: -0.6186528\ttotal: 19.5s\tremaining: 30.1s\n",
            "393:\tlearn: -0.6186316\ttotal: 19.5s\tremaining: 30s\n",
            "394:\tlearn: -0.6186086\ttotal: 19.6s\tremaining: 30s\n",
            "395:\tlearn: -0.6185667\ttotal: 19.6s\tremaining: 29.9s\n",
            "396:\tlearn: -0.6185125\ttotal: 19.7s\tremaining: 29.9s\n",
            "397:\tlearn: -0.6184769\ttotal: 19.7s\tremaining: 29.9s\n",
            "398:\tlearn: -0.6184288\ttotal: 19.8s\tremaining: 29.8s\n",
            "399:\tlearn: -0.6183953\ttotal: 19.8s\tremaining: 29.8s\n",
            "400:\tlearn: -0.6183559\ttotal: 19.9s\tremaining: 29.7s\n",
            "401:\tlearn: -0.6183121\ttotal: 19.9s\tremaining: 29.7s\n",
            "402:\tlearn: -0.6182907\ttotal: 20s\tremaining: 29.6s\n",
            "403:\tlearn: -0.6182463\ttotal: 20s\tremaining: 29.6s\n",
            "404:\tlearn: -0.6182146\ttotal: 20.1s\tremaining: 29.5s\n",
            "405:\tlearn: -0.6181724\ttotal: 20.1s\tremaining: 29.4s\n",
            "406:\tlearn: -0.6181269\ttotal: 20.2s\tremaining: 29.4s\n",
            "407:\tlearn: -0.6180753\ttotal: 20.2s\tremaining: 29.4s\n",
            "408:\tlearn: -0.6180462\ttotal: 20.3s\tremaining: 29.3s\n",
            "409:\tlearn: -0.6179981\ttotal: 20.3s\tremaining: 29.2s\n",
            "410:\tlearn: -0.6179522\ttotal: 20.4s\tremaining: 29.2s\n",
            "411:\tlearn: -0.6179245\ttotal: 20.4s\tremaining: 29.1s\n",
            "412:\tlearn: -0.6178802\ttotal: 20.5s\tremaining: 29.1s\n",
            "413:\tlearn: -0.6178511\ttotal: 20.5s\tremaining: 29.1s\n",
            "414:\tlearn: -0.6178295\ttotal: 20.6s\tremaining: 29s\n",
            "415:\tlearn: -0.6177868\ttotal: 20.6s\tremaining: 28.9s\n",
            "416:\tlearn: -0.6177522\ttotal: 20.7s\tremaining: 28.9s\n",
            "417:\tlearn: -0.6177256\ttotal: 20.7s\tremaining: 28.8s\n",
            "418:\tlearn: -0.6176854\ttotal: 20.8s\tremaining: 28.8s\n",
            "419:\tlearn: -0.6176470\ttotal: 20.8s\tremaining: 28.7s\n",
            "420:\tlearn: -0.6175958\ttotal: 20.9s\tremaining: 28.7s\n",
            "421:\tlearn: -0.6175492\ttotal: 20.9s\tremaining: 28.6s\n",
            "422:\tlearn: -0.6175138\ttotal: 21s\tremaining: 28.6s\n",
            "423:\tlearn: -0.6174932\ttotal: 21s\tremaining: 28.5s\n",
            "424:\tlearn: -0.6174406\ttotal: 21.1s\tremaining: 28.5s\n",
            "425:\tlearn: -0.6174011\ttotal: 21.1s\tremaining: 28.4s\n",
            "426:\tlearn: -0.6173658\ttotal: 21.2s\tremaining: 28.4s\n",
            "427:\tlearn: -0.6173334\ttotal: 21.2s\tremaining: 28.3s\n",
            "428:\tlearn: -0.6172960\ttotal: 21.3s\tremaining: 28.3s\n",
            "429:\tlearn: -0.6172508\ttotal: 21.3s\tremaining: 28.2s\n",
            "430:\tlearn: -0.6172179\ttotal: 21.4s\tremaining: 28.2s\n",
            "431:\tlearn: -0.6171662\ttotal: 21.4s\tremaining: 28.1s\n",
            "432:\tlearn: -0.6171112\ttotal: 21.5s\tremaining: 28.1s\n",
            "433:\tlearn: -0.6170743\ttotal: 21.5s\tremaining: 28s\n",
            "434:\tlearn: -0.6170404\ttotal: 21.6s\tremaining: 28s\n",
            "435:\tlearn: -0.6170026\ttotal: 21.6s\tremaining: 27.9s\n",
            "436:\tlearn: -0.6169745\ttotal: 21.6s\tremaining: 27.9s\n",
            "437:\tlearn: -0.6169563\ttotal: 21.7s\tremaining: 27.8s\n",
            "438:\tlearn: -0.6169325\ttotal: 21.7s\tremaining: 27.8s\n",
            "439:\tlearn: -0.6168910\ttotal: 21.8s\tremaining: 27.7s\n",
            "440:\tlearn: -0.6168511\ttotal: 21.8s\tremaining: 27.7s\n",
            "441:\tlearn: -0.6168252\ttotal: 21.9s\tremaining: 27.6s\n",
            "442:\tlearn: -0.6167911\ttotal: 21.9s\tremaining: 27.6s\n",
            "443:\tlearn: -0.6167588\ttotal: 22s\tremaining: 27.5s\n",
            "444:\tlearn: -0.6167274\ttotal: 22s\tremaining: 27.5s\n",
            "445:\tlearn: -0.6166883\ttotal: 22.1s\tremaining: 27.4s\n",
            "446:\tlearn: -0.6166732\ttotal: 22.1s\tremaining: 27.4s\n",
            "447:\tlearn: -0.6166490\ttotal: 22.2s\tremaining: 27.3s\n",
            "448:\tlearn: -0.6166301\ttotal: 22.2s\tremaining: 27.3s\n",
            "449:\tlearn: -0.6165893\ttotal: 22.3s\tremaining: 27.2s\n",
            "450:\tlearn: -0.6165536\ttotal: 22.3s\tremaining: 27.2s\n",
            "451:\tlearn: -0.6165172\ttotal: 22.4s\tremaining: 27.1s\n",
            "452:\tlearn: -0.6164852\ttotal: 22.4s\tremaining: 27.1s\n",
            "453:\tlearn: -0.6164287\ttotal: 22.5s\tremaining: 27s\n",
            "454:\tlearn: -0.6164043\ttotal: 22.5s\tremaining: 27s\n",
            "455:\tlearn: -0.6163832\ttotal: 22.6s\tremaining: 26.9s\n",
            "456:\tlearn: -0.6163477\ttotal: 22.6s\tremaining: 26.9s\n",
            "457:\tlearn: -0.6163215\ttotal: 22.7s\tremaining: 26.8s\n",
            "458:\tlearn: -0.6162893\ttotal: 22.7s\tremaining: 26.8s\n",
            "459:\tlearn: -0.6162648\ttotal: 22.8s\tremaining: 26.7s\n",
            "460:\tlearn: -0.6162395\ttotal: 22.8s\tremaining: 26.7s\n",
            "461:\tlearn: -0.6162120\ttotal: 22.9s\tremaining: 26.6s\n",
            "462:\tlearn: -0.6161762\ttotal: 22.9s\tremaining: 26.6s\n",
            "463:\tlearn: -0.6161253\ttotal: 22.9s\tremaining: 26.5s\n",
            "464:\tlearn: -0.6160825\ttotal: 23s\tremaining: 26.5s\n",
            "465:\tlearn: -0.6160559\ttotal: 23.1s\tremaining: 26.4s\n",
            "466:\tlearn: -0.6160052\ttotal: 23.1s\tremaining: 26.4s\n",
            "467:\tlearn: -0.6159701\ttotal: 23.2s\tremaining: 26.3s\n",
            "468:\tlearn: -0.6159435\ttotal: 23.2s\tremaining: 26.3s\n",
            "469:\tlearn: -0.6158913\ttotal: 23.3s\tremaining: 26.2s\n",
            "470:\tlearn: -0.6158600\ttotal: 23.3s\tremaining: 26.2s\n",
            "471:\tlearn: -0.6158173\ttotal: 23.3s\tremaining: 26.1s\n",
            "472:\tlearn: -0.6157769\ttotal: 23.4s\tremaining: 26.1s\n",
            "473:\tlearn: -0.6157563\ttotal: 23.5s\tremaining: 26s\n",
            "474:\tlearn: -0.6157230\ttotal: 23.5s\tremaining: 26s\n",
            "475:\tlearn: -0.6156907\ttotal: 23.6s\tremaining: 25.9s\n",
            "476:\tlearn: -0.6156472\ttotal: 23.6s\tremaining: 25.9s\n",
            "477:\tlearn: -0.6156040\ttotal: 23.7s\tremaining: 25.8s\n",
            "478:\tlearn: -0.6155561\ttotal: 23.7s\tremaining: 25.8s\n",
            "479:\tlearn: -0.6155441\ttotal: 23.8s\tremaining: 25.7s\n",
            "480:\tlearn: -0.6155259\ttotal: 23.8s\tremaining: 25.7s\n",
            "481:\tlearn: -0.6154952\ttotal: 23.9s\tremaining: 25.6s\n",
            "482:\tlearn: -0.6154562\ttotal: 23.9s\tremaining: 25.6s\n",
            "483:\tlearn: -0.6154077\ttotal: 24s\tremaining: 25.5s\n",
            "484:\tlearn: -0.6153777\ttotal: 24s\tremaining: 25.5s\n",
            "485:\tlearn: -0.6153456\ttotal: 24.1s\tremaining: 25.4s\n",
            "486:\tlearn: -0.6153193\ttotal: 24.1s\tremaining: 25.4s\n",
            "487:\tlearn: -0.6152995\ttotal: 24.2s\tremaining: 25.3s\n",
            "488:\tlearn: -0.6152781\ttotal: 24.2s\tremaining: 25.3s\n",
            "489:\tlearn: -0.6152631\ttotal: 24.3s\tremaining: 25.2s\n",
            "490:\tlearn: -0.6152376\ttotal: 24.3s\tremaining: 25.2s\n",
            "491:\tlearn: -0.6152052\ttotal: 24.4s\tremaining: 25.1s\n",
            "492:\tlearn: -0.6151782\ttotal: 24.4s\tremaining: 25.1s\n",
            "493:\tlearn: -0.6151517\ttotal: 24.4s\tremaining: 25s\n",
            "494:\tlearn: -0.6151136\ttotal: 24.5s\tremaining: 25s\n",
            "495:\tlearn: -0.6150658\ttotal: 24.6s\tremaining: 25s\n",
            "496:\tlearn: -0.6150396\ttotal: 24.6s\tremaining: 24.9s\n",
            "497:\tlearn: -0.6150235\ttotal: 24.7s\tremaining: 24.9s\n",
            "498:\tlearn: -0.6150112\ttotal: 24.7s\tremaining: 24.8s\n",
            "499:\tlearn: -0.6149933\ttotal: 24.7s\tremaining: 24.7s\n",
            "500:\tlearn: -0.6149595\ttotal: 24.8s\tremaining: 24.7s\n",
            "501:\tlearn: -0.6149449\ttotal: 24.9s\tremaining: 24.7s\n",
            "502:\tlearn: -0.6149136\ttotal: 24.9s\tremaining: 24.6s\n",
            "503:\tlearn: -0.6148755\ttotal: 24.9s\tremaining: 24.6s\n",
            "504:\tlearn: -0.6148560\ttotal: 25s\tremaining: 24.5s\n",
            "505:\tlearn: -0.6148213\ttotal: 25s\tremaining: 24.4s\n",
            "506:\tlearn: -0.6147990\ttotal: 25.1s\tremaining: 24.4s\n",
            "507:\tlearn: -0.6147681\ttotal: 25.1s\tremaining: 24.4s\n",
            "508:\tlearn: -0.6147378\ttotal: 25.2s\tremaining: 24.3s\n",
            "509:\tlearn: -0.6147201\ttotal: 25.2s\tremaining: 24.3s\n",
            "510:\tlearn: -0.6146821\ttotal: 25.3s\tremaining: 24.2s\n",
            "511:\tlearn: -0.6146407\ttotal: 25.3s\tremaining: 24.2s\n",
            "512:\tlearn: -0.6146121\ttotal: 25.4s\tremaining: 24.1s\n",
            "513:\tlearn: -0.6145790\ttotal: 25.4s\tremaining: 24.1s\n",
            "514:\tlearn: -0.6145630\ttotal: 25.5s\tremaining: 24s\n",
            "515:\tlearn: -0.6145226\ttotal: 25.5s\tremaining: 24s\n",
            "516:\tlearn: -0.6145055\ttotal: 25.6s\tremaining: 23.9s\n",
            "517:\tlearn: -0.6144816\ttotal: 25.6s\tremaining: 23.9s\n",
            "518:\tlearn: -0.6144566\ttotal: 25.7s\tremaining: 23.8s\n",
            "519:\tlearn: -0.6144304\ttotal: 25.7s\tremaining: 23.8s\n",
            "520:\tlearn: -0.6144067\ttotal: 25.8s\tremaining: 23.7s\n",
            "521:\tlearn: -0.6143761\ttotal: 25.8s\tremaining: 23.7s\n",
            "522:\tlearn: -0.6143343\ttotal: 25.9s\tremaining: 23.6s\n",
            "523:\tlearn: -0.6143052\ttotal: 25.9s\tremaining: 23.6s\n",
            "524:\tlearn: -0.6142956\ttotal: 26s\tremaining: 23.5s\n",
            "525:\tlearn: -0.6142580\ttotal: 26s\tremaining: 23.5s\n",
            "526:\tlearn: -0.6142391\ttotal: 26.1s\tremaining: 23.4s\n",
            "527:\tlearn: -0.6142084\ttotal: 26.1s\tremaining: 23.4s\n",
            "528:\tlearn: -0.6141957\ttotal: 26.2s\tremaining: 23.3s\n",
            "529:\tlearn: -0.6141673\ttotal: 26.2s\tremaining: 23.3s\n",
            "530:\tlearn: -0.6141340\ttotal: 26.3s\tremaining: 23.2s\n",
            "531:\tlearn: -0.6141186\ttotal: 26.3s\tremaining: 23.2s\n",
            "532:\tlearn: -0.6140963\ttotal: 26.4s\tremaining: 23.1s\n",
            "533:\tlearn: -0.6140742\ttotal: 26.4s\tremaining: 23.1s\n",
            "534:\tlearn: -0.6140528\ttotal: 26.5s\tremaining: 23s\n",
            "535:\tlearn: -0.6140375\ttotal: 26.5s\tremaining: 23s\n",
            "536:\tlearn: -0.6140077\ttotal: 26.6s\tremaining: 22.9s\n",
            "537:\tlearn: -0.6139674\ttotal: 26.6s\tremaining: 22.9s\n",
            "538:\tlearn: -0.6139313\ttotal: 26.7s\tremaining: 22.8s\n",
            "539:\tlearn: -0.6139125\ttotal: 26.7s\tremaining: 22.8s\n",
            "540:\tlearn: -0.6138921\ttotal: 26.8s\tremaining: 22.7s\n",
            "541:\tlearn: -0.6138730\ttotal: 26.8s\tremaining: 22.7s\n",
            "542:\tlearn: -0.6138510\ttotal: 26.9s\tremaining: 22.6s\n",
            "543:\tlearn: -0.6138244\ttotal: 26.9s\tremaining: 22.6s\n",
            "544:\tlearn: -0.6137970\ttotal: 27s\tremaining: 22.5s\n",
            "545:\tlearn: -0.6137824\ttotal: 27s\tremaining: 22.5s\n",
            "546:\tlearn: -0.6137582\ttotal: 27.1s\tremaining: 22.4s\n",
            "547:\tlearn: -0.6137324\ttotal: 27.1s\tremaining: 22.4s\n",
            "548:\tlearn: -0.6136881\ttotal: 27.2s\tremaining: 22.3s\n",
            "549:\tlearn: -0.6136733\ttotal: 27.2s\tremaining: 22.3s\n",
            "550:\tlearn: -0.6136400\ttotal: 27.3s\tremaining: 22.2s\n",
            "551:\tlearn: -0.6136169\ttotal: 27.3s\tremaining: 22.2s\n",
            "552:\tlearn: -0.6136002\ttotal: 27.4s\tremaining: 22.1s\n",
            "553:\tlearn: -0.6135684\ttotal: 27.4s\tremaining: 22.1s\n",
            "554:\tlearn: -0.6135423\ttotal: 27.5s\tremaining: 22s\n",
            "555:\tlearn: -0.6134998\ttotal: 27.5s\tremaining: 22s\n",
            "556:\tlearn: -0.6134728\ttotal: 27.6s\tremaining: 21.9s\n",
            "557:\tlearn: -0.6134596\ttotal: 27.6s\tremaining: 21.9s\n",
            "558:\tlearn: -0.6134274\ttotal: 27.7s\tremaining: 21.8s\n",
            "559:\tlearn: -0.6134061\ttotal: 27.7s\tremaining: 21.8s\n",
            "560:\tlearn: -0.6133822\ttotal: 27.8s\tremaining: 21.7s\n",
            "561:\tlearn: -0.6133506\ttotal: 27.8s\tremaining: 21.7s\n",
            "562:\tlearn: -0.6133188\ttotal: 27.9s\tremaining: 21.6s\n",
            "563:\tlearn: -0.6132760\ttotal: 27.9s\tremaining: 21.6s\n",
            "564:\tlearn: -0.6132537\ttotal: 28s\tremaining: 21.5s\n",
            "565:\tlearn: -0.6132331\ttotal: 28s\tremaining: 21.5s\n",
            "566:\tlearn: -0.6132239\ttotal: 28.1s\tremaining: 21.4s\n",
            "567:\tlearn: -0.6132028\ttotal: 28.1s\tremaining: 21.4s\n",
            "568:\tlearn: -0.6131910\ttotal: 28.2s\tremaining: 21.3s\n",
            "569:\tlearn: -0.6131622\ttotal: 28.2s\tremaining: 21.3s\n",
            "570:\tlearn: -0.6131163\ttotal: 28.3s\tremaining: 21.2s\n",
            "571:\tlearn: -0.6130954\ttotal: 28.3s\tremaining: 21.2s\n",
            "572:\tlearn: -0.6130690\ttotal: 28.4s\tremaining: 21.1s\n",
            "573:\tlearn: -0.6130514\ttotal: 28.4s\tremaining: 21.1s\n",
            "574:\tlearn: -0.6130218\ttotal: 28.5s\tremaining: 21s\n",
            "575:\tlearn: -0.6129971\ttotal: 28.5s\tremaining: 21s\n",
            "576:\tlearn: -0.6129731\ttotal: 28.6s\tremaining: 20.9s\n",
            "577:\tlearn: -0.6129480\ttotal: 28.6s\tremaining: 20.9s\n",
            "578:\tlearn: -0.6128990\ttotal: 28.7s\tremaining: 20.8s\n",
            "579:\tlearn: -0.6128688\ttotal: 28.7s\tremaining: 20.8s\n",
            "580:\tlearn: -0.6128474\ttotal: 28.8s\tremaining: 20.7s\n",
            "581:\tlearn: -0.6128254\ttotal: 28.8s\tremaining: 20.7s\n",
            "582:\tlearn: -0.6128057\ttotal: 28.8s\tremaining: 20.6s\n",
            "583:\tlearn: -0.6127838\ttotal: 28.9s\tremaining: 20.6s\n",
            "584:\tlearn: -0.6127402\ttotal: 29s\tremaining: 20.5s\n",
            "585:\tlearn: -0.6127153\ttotal: 29s\tremaining: 20.5s\n",
            "586:\tlearn: -0.6126890\ttotal: 29s\tremaining: 20.4s\n",
            "587:\tlearn: -0.6126578\ttotal: 29.1s\tremaining: 20.4s\n",
            "588:\tlearn: -0.6126261\ttotal: 29.2s\tremaining: 20.3s\n",
            "589:\tlearn: -0.6126091\ttotal: 29.2s\tremaining: 20.3s\n",
            "590:\tlearn: -0.6125941\ttotal: 29.2s\tremaining: 20.2s\n",
            "591:\tlearn: -0.6125773\ttotal: 29.3s\tremaining: 20.2s\n",
            "592:\tlearn: -0.6125454\ttotal: 29.4s\tremaining: 20.1s\n",
            "593:\tlearn: -0.6125184\ttotal: 29.4s\tremaining: 20.1s\n",
            "594:\tlearn: -0.6125067\ttotal: 29.5s\tremaining: 20s\n",
            "595:\tlearn: -0.6124690\ttotal: 29.5s\tremaining: 20s\n",
            "596:\tlearn: -0.6124413\ttotal: 29.6s\tremaining: 19.9s\n",
            "597:\tlearn: -0.6124209\ttotal: 29.6s\tremaining: 19.9s\n",
            "598:\tlearn: -0.6123988\ttotal: 29.6s\tremaining: 19.8s\n",
            "599:\tlearn: -0.6123696\ttotal: 29.7s\tremaining: 19.8s\n",
            "600:\tlearn: -0.6123439\ttotal: 29.7s\tremaining: 19.7s\n",
            "601:\tlearn: -0.6123242\ttotal: 29.8s\tremaining: 19.7s\n",
            "602:\tlearn: -0.6123050\ttotal: 29.8s\tremaining: 19.6s\n",
            "603:\tlearn: -0.6122840\ttotal: 29.9s\tremaining: 19.6s\n",
            "604:\tlearn: -0.6122566\ttotal: 29.9s\tremaining: 19.6s\n",
            "605:\tlearn: -0.6122338\ttotal: 30s\tremaining: 19.5s\n",
            "606:\tlearn: -0.6121987\ttotal: 30s\tremaining: 19.5s\n",
            "607:\tlearn: -0.6121779\ttotal: 30.1s\tremaining: 19.4s\n",
            "608:\tlearn: -0.6121421\ttotal: 30.1s\tremaining: 19.4s\n",
            "609:\tlearn: -0.6121328\ttotal: 30.2s\tremaining: 19.3s\n",
            "610:\tlearn: -0.6121222\ttotal: 30.2s\tremaining: 19.3s\n",
            "611:\tlearn: -0.6120992\ttotal: 30.3s\tremaining: 19.2s\n",
            "612:\tlearn: -0.6120706\ttotal: 30.3s\tremaining: 19.2s\n",
            "613:\tlearn: -0.6120504\ttotal: 30.4s\tremaining: 19.1s\n",
            "614:\tlearn: -0.6120249\ttotal: 30.4s\tremaining: 19.1s\n",
            "615:\tlearn: -0.6120015\ttotal: 30.5s\tremaining: 19s\n",
            "616:\tlearn: -0.6119659\ttotal: 30.5s\tremaining: 19s\n",
            "617:\tlearn: -0.6119458\ttotal: 30.6s\tremaining: 18.9s\n",
            "618:\tlearn: -0.6119169\ttotal: 30.6s\tremaining: 18.9s\n",
            "619:\tlearn: -0.6118960\ttotal: 30.7s\tremaining: 18.8s\n",
            "620:\tlearn: -0.6118777\ttotal: 30.7s\tremaining: 18.8s\n",
            "621:\tlearn: -0.6118470\ttotal: 30.8s\tremaining: 18.7s\n",
            "622:\tlearn: -0.6118280\ttotal: 30.8s\tremaining: 18.7s\n",
            "623:\tlearn: -0.6118005\ttotal: 30.9s\tremaining: 18.6s\n",
            "624:\tlearn: -0.6117868\ttotal: 30.9s\tremaining: 18.6s\n",
            "625:\tlearn: -0.6117648\ttotal: 31s\tremaining: 18.5s\n",
            "626:\tlearn: -0.6117356\ttotal: 31s\tremaining: 18.5s\n",
            "627:\tlearn: -0.6116899\ttotal: 31.1s\tremaining: 18.4s\n",
            "628:\tlearn: -0.6116662\ttotal: 31.1s\tremaining: 18.4s\n",
            "629:\tlearn: -0.6116249\ttotal: 31.2s\tremaining: 18.3s\n",
            "630:\tlearn: -0.6115939\ttotal: 31.2s\tremaining: 18.3s\n",
            "631:\tlearn: -0.6115821\ttotal: 31.3s\tremaining: 18.2s\n",
            "632:\tlearn: -0.6115573\ttotal: 31.3s\tremaining: 18.2s\n",
            "633:\tlearn: -0.6115290\ttotal: 31.4s\tremaining: 18.1s\n",
            "634:\tlearn: -0.6115054\ttotal: 31.4s\tremaining: 18.1s\n",
            "635:\tlearn: -0.6114889\ttotal: 31.5s\tremaining: 18s\n",
            "636:\tlearn: -0.6114637\ttotal: 31.6s\tremaining: 18s\n",
            "637:\tlearn: -0.6114344\ttotal: 31.6s\tremaining: 17.9s\n",
            "638:\tlearn: -0.6114108\ttotal: 31.7s\tremaining: 17.9s\n",
            "639:\tlearn: -0.6113750\ttotal: 31.7s\tremaining: 17.8s\n",
            "640:\tlearn: -0.6113552\ttotal: 31.8s\tremaining: 17.8s\n",
            "641:\tlearn: -0.6113214\ttotal: 31.8s\tremaining: 17.7s\n",
            "642:\tlearn: -0.6112900\ttotal: 31.9s\tremaining: 17.7s\n",
            "643:\tlearn: -0.6112597\ttotal: 31.9s\tremaining: 17.6s\n",
            "644:\tlearn: -0.6112405\ttotal: 32s\tremaining: 17.6s\n",
            "645:\tlearn: -0.6112183\ttotal: 32s\tremaining: 17.5s\n",
            "646:\tlearn: -0.6111972\ttotal: 32.1s\tremaining: 17.5s\n",
            "647:\tlearn: -0.6111785\ttotal: 32.1s\tremaining: 17.4s\n",
            "648:\tlearn: -0.6111605\ttotal: 32.2s\tremaining: 17.4s\n",
            "649:\tlearn: -0.6111304\ttotal: 32.2s\tremaining: 17.3s\n",
            "650:\tlearn: -0.6111030\ttotal: 32.3s\tremaining: 17.3s\n",
            "651:\tlearn: -0.6110778\ttotal: 32.3s\tremaining: 17.2s\n",
            "652:\tlearn: -0.6110677\ttotal: 32.4s\tremaining: 17.2s\n",
            "653:\tlearn: -0.6110575\ttotal: 32.4s\tremaining: 17.1s\n",
            "654:\tlearn: -0.6110193\ttotal: 32.5s\tremaining: 17.1s\n",
            "655:\tlearn: -0.6110052\ttotal: 32.5s\tremaining: 17.1s\n",
            "656:\tlearn: -0.6109769\ttotal: 32.6s\tremaining: 17s\n",
            "657:\tlearn: -0.6109587\ttotal: 32.6s\tremaining: 17s\n",
            "658:\tlearn: -0.6109339\ttotal: 32.7s\tremaining: 16.9s\n",
            "659:\tlearn: -0.6109171\ttotal: 32.7s\tremaining: 16.9s\n",
            "660:\tlearn: -0.6108897\ttotal: 32.8s\tremaining: 16.8s\n",
            "661:\tlearn: -0.6108523\ttotal: 32.8s\tremaining: 16.8s\n",
            "662:\tlearn: -0.6108129\ttotal: 32.9s\tremaining: 16.7s\n",
            "663:\tlearn: -0.6107914\ttotal: 32.9s\tremaining: 16.7s\n",
            "664:\tlearn: -0.6107684\ttotal: 33s\tremaining: 16.6s\n",
            "665:\tlearn: -0.6107426\ttotal: 33s\tremaining: 16.6s\n",
            "666:\tlearn: -0.6107221\ttotal: 33.1s\tremaining: 16.5s\n",
            "667:\tlearn: -0.6106912\ttotal: 33.1s\tremaining: 16.5s\n",
            "668:\tlearn: -0.6106794\ttotal: 33.2s\tremaining: 16.4s\n",
            "669:\tlearn: -0.6106396\ttotal: 33.2s\tremaining: 16.4s\n",
            "670:\tlearn: -0.6106142\ttotal: 33.3s\tremaining: 16.3s\n",
            "671:\tlearn: -0.6105940\ttotal: 33.3s\tremaining: 16.3s\n",
            "672:\tlearn: -0.6105851\ttotal: 33.4s\tremaining: 16.2s\n",
            "673:\tlearn: -0.6105538\ttotal: 33.4s\tremaining: 16.2s\n",
            "674:\tlearn: -0.6105303\ttotal: 33.5s\tremaining: 16.1s\n",
            "675:\tlearn: -0.6105107\ttotal: 33.5s\tremaining: 16.1s\n",
            "676:\tlearn: -0.6104913\ttotal: 33.6s\tremaining: 16s\n",
            "677:\tlearn: -0.6104683\ttotal: 33.6s\tremaining: 16s\n",
            "678:\tlearn: -0.6104515\ttotal: 33.7s\tremaining: 15.9s\n",
            "679:\tlearn: -0.6104269\ttotal: 33.7s\tremaining: 15.9s\n",
            "680:\tlearn: -0.6104111\ttotal: 33.8s\tremaining: 15.8s\n",
            "681:\tlearn: -0.6103870\ttotal: 33.8s\tremaining: 15.8s\n",
            "682:\tlearn: -0.6103619\ttotal: 33.9s\tremaining: 15.7s\n",
            "683:\tlearn: -0.6103453\ttotal: 33.9s\tremaining: 15.7s\n",
            "684:\tlearn: -0.6103125\ttotal: 34s\tremaining: 15.6s\n",
            "685:\tlearn: -0.6102918\ttotal: 34s\tremaining: 15.6s\n",
            "686:\tlearn: -0.6102610\ttotal: 34.1s\tremaining: 15.5s\n",
            "687:\tlearn: -0.6102494\ttotal: 34.1s\tremaining: 15.5s\n",
            "688:\tlearn: -0.6102257\ttotal: 34.2s\tremaining: 15.4s\n",
            "689:\tlearn: -0.6102005\ttotal: 34.2s\tremaining: 15.4s\n",
            "690:\tlearn: -0.6101840\ttotal: 34.3s\tremaining: 15.3s\n",
            "691:\tlearn: -0.6101594\ttotal: 34.3s\tremaining: 15.3s\n",
            "692:\tlearn: -0.6101410\ttotal: 34.4s\tremaining: 15.2s\n",
            "693:\tlearn: -0.6101201\ttotal: 34.4s\tremaining: 15.2s\n",
            "694:\tlearn: -0.6100925\ttotal: 34.5s\tremaining: 15.1s\n",
            "695:\tlearn: -0.6100647\ttotal: 34.5s\tremaining: 15.1s\n",
            "696:\tlearn: -0.6100460\ttotal: 34.6s\tremaining: 15s\n",
            "697:\tlearn: -0.6100265\ttotal: 34.6s\tremaining: 15s\n",
            "698:\tlearn: -0.6100045\ttotal: 34.7s\tremaining: 14.9s\n",
            "699:\tlearn: -0.6099773\ttotal: 34.7s\tremaining: 14.9s\n",
            "700:\tlearn: -0.6099510\ttotal: 34.8s\tremaining: 14.8s\n",
            "701:\tlearn: -0.6099317\ttotal: 34.8s\tremaining: 14.8s\n",
            "702:\tlearn: -0.6099134\ttotal: 34.9s\tremaining: 14.7s\n",
            "703:\tlearn: -0.6098858\ttotal: 34.9s\tremaining: 14.7s\n",
            "704:\tlearn: -0.6098668\ttotal: 35s\tremaining: 14.6s\n",
            "705:\tlearn: -0.6098569\ttotal: 35s\tremaining: 14.6s\n",
            "706:\tlearn: -0.6098372\ttotal: 35.1s\tremaining: 14.5s\n",
            "707:\tlearn: -0.6098117\ttotal: 35.1s\tremaining: 14.5s\n",
            "708:\tlearn: -0.6098014\ttotal: 35.2s\tremaining: 14.4s\n",
            "709:\tlearn: -0.6097775\ttotal: 35.2s\tremaining: 14.4s\n",
            "710:\tlearn: -0.6097446\ttotal: 35.2s\tremaining: 14.3s\n",
            "711:\tlearn: -0.6097328\ttotal: 35.3s\tremaining: 14.3s\n",
            "712:\tlearn: -0.6097039\ttotal: 35.3s\tremaining: 14.2s\n",
            "713:\tlearn: -0.6096821\ttotal: 35.4s\tremaining: 14.2s\n",
            "714:\tlearn: -0.6096573\ttotal: 35.4s\tremaining: 14.1s\n",
            "715:\tlearn: -0.6096412\ttotal: 35.5s\tremaining: 14.1s\n",
            "716:\tlearn: -0.6096203\ttotal: 35.5s\tremaining: 14s\n",
            "717:\tlearn: -0.6095949\ttotal: 35.6s\tremaining: 14s\n",
            "718:\tlearn: -0.6095578\ttotal: 35.6s\tremaining: 13.9s\n",
            "719:\tlearn: -0.6095394\ttotal: 35.7s\tremaining: 13.9s\n",
            "720:\tlearn: -0.6095288\ttotal: 35.7s\tremaining: 13.8s\n",
            "721:\tlearn: -0.6095135\ttotal: 35.8s\tremaining: 13.8s\n",
            "722:\tlearn: -0.6094961\ttotal: 35.8s\tremaining: 13.7s\n",
            "723:\tlearn: -0.6094727\ttotal: 35.9s\tremaining: 13.7s\n",
            "724:\tlearn: -0.6094221\ttotal: 35.9s\tremaining: 13.6s\n",
            "725:\tlearn: -0.6094027\ttotal: 36s\tremaining: 13.6s\n",
            "726:\tlearn: -0.6093833\ttotal: 36s\tremaining: 13.5s\n",
            "727:\tlearn: -0.6093586\ttotal: 36.1s\tremaining: 13.5s\n",
            "728:\tlearn: -0.6093468\ttotal: 36.1s\tremaining: 13.4s\n",
            "729:\tlearn: -0.6093262\ttotal: 36.2s\tremaining: 13.4s\n",
            "730:\tlearn: -0.6093185\ttotal: 36.2s\tremaining: 13.3s\n",
            "731:\tlearn: -0.6092959\ttotal: 36.3s\tremaining: 13.3s\n",
            "732:\tlearn: -0.6092718\ttotal: 36.3s\tremaining: 13.2s\n",
            "733:\tlearn: -0.6092555\ttotal: 36.4s\tremaining: 13.2s\n",
            "734:\tlearn: -0.6092270\ttotal: 36.4s\tremaining: 13.1s\n",
            "735:\tlearn: -0.6092010\ttotal: 36.5s\tremaining: 13.1s\n",
            "736:\tlearn: -0.6091780\ttotal: 36.5s\tremaining: 13s\n",
            "737:\tlearn: -0.6091427\ttotal: 36.6s\tremaining: 13s\n",
            "738:\tlearn: -0.6091204\ttotal: 36.6s\tremaining: 12.9s\n",
            "739:\tlearn: -0.6091013\ttotal: 36.7s\tremaining: 12.9s\n",
            "740:\tlearn: -0.6090858\ttotal: 36.7s\tremaining: 12.8s\n",
            "741:\tlearn: -0.6090646\ttotal: 36.8s\tremaining: 12.8s\n",
            "742:\tlearn: -0.6090393\ttotal: 36.8s\tremaining: 12.7s\n",
            "743:\tlearn: -0.6090152\ttotal: 36.9s\tremaining: 12.7s\n",
            "744:\tlearn: -0.6089939\ttotal: 36.9s\tremaining: 12.6s\n",
            "745:\tlearn: -0.6089566\ttotal: 37s\tremaining: 12.6s\n",
            "746:\tlearn: -0.6089288\ttotal: 37s\tremaining: 12.5s\n",
            "747:\tlearn: -0.6089135\ttotal: 37.1s\tremaining: 12.5s\n",
            "748:\tlearn: -0.6088978\ttotal: 37.1s\tremaining: 12.4s\n",
            "749:\tlearn: -0.6088754\ttotal: 37.2s\tremaining: 12.4s\n",
            "750:\tlearn: -0.6088542\ttotal: 37.2s\tremaining: 12.3s\n",
            "751:\tlearn: -0.6088328\ttotal: 37.3s\tremaining: 12.3s\n",
            "752:\tlearn: -0.6088180\ttotal: 37.3s\tremaining: 12.2s\n",
            "753:\tlearn: -0.6087994\ttotal: 37.4s\tremaining: 12.2s\n",
            "754:\tlearn: -0.6087710\ttotal: 37.4s\tremaining: 12.1s\n",
            "755:\tlearn: -0.6087610\ttotal: 37.5s\tremaining: 12.1s\n",
            "756:\tlearn: -0.6087344\ttotal: 37.5s\tremaining: 12s\n",
            "757:\tlearn: -0.6087131\ttotal: 37.6s\tremaining: 12s\n",
            "758:\tlearn: -0.6086795\ttotal: 37.6s\tremaining: 11.9s\n",
            "759:\tlearn: -0.6086623\ttotal: 37.7s\tremaining: 11.9s\n",
            "760:\tlearn: -0.6086503\ttotal: 37.7s\tremaining: 11.8s\n",
            "761:\tlearn: -0.6086229\ttotal: 37.8s\tremaining: 11.8s\n",
            "762:\tlearn: -0.6085945\ttotal: 37.8s\tremaining: 11.7s\n",
            "763:\tlearn: -0.6085786\ttotal: 37.9s\tremaining: 11.7s\n",
            "764:\tlearn: -0.6085664\ttotal: 37.9s\tremaining: 11.6s\n",
            "765:\tlearn: -0.6085463\ttotal: 38s\tremaining: 11.6s\n",
            "766:\tlearn: -0.6085201\ttotal: 38s\tremaining: 11.5s\n",
            "767:\tlearn: -0.6084974\ttotal: 38.1s\tremaining: 11.5s\n",
            "768:\tlearn: -0.6084747\ttotal: 38.1s\tremaining: 11.4s\n",
            "769:\tlearn: -0.6084591\ttotal: 38.2s\tremaining: 11.4s\n",
            "770:\tlearn: -0.6084435\ttotal: 38.2s\tremaining: 11.3s\n",
            "771:\tlearn: -0.6084166\ttotal: 38.3s\tremaining: 11.3s\n",
            "772:\tlearn: -0.6083964\ttotal: 38.3s\tremaining: 11.2s\n",
            "773:\tlearn: -0.6083736\ttotal: 38.4s\tremaining: 11.2s\n",
            "774:\tlearn: -0.6083550\ttotal: 38.4s\tremaining: 11.1s\n",
            "775:\tlearn: -0.6083424\ttotal: 38.4s\tremaining: 11.1s\n",
            "776:\tlearn: -0.6083224\ttotal: 38.5s\tremaining: 11.1s\n",
            "777:\tlearn: -0.6082950\ttotal: 38.6s\tremaining: 11s\n",
            "778:\tlearn: -0.6082687\ttotal: 38.6s\tremaining: 11s\n",
            "779:\tlearn: -0.6082392\ttotal: 38.6s\tremaining: 10.9s\n",
            "780:\tlearn: -0.6082122\ttotal: 38.7s\tremaining: 10.9s\n",
            "781:\tlearn: -0.6081887\ttotal: 38.8s\tremaining: 10.8s\n",
            "782:\tlearn: -0.6081793\ttotal: 38.8s\tremaining: 10.8s\n",
            "783:\tlearn: -0.6081605\ttotal: 38.9s\tremaining: 10.7s\n",
            "784:\tlearn: -0.6081319\ttotal: 38.9s\tremaining: 10.7s\n",
            "785:\tlearn: -0.6081118\ttotal: 39s\tremaining: 10.6s\n",
            "786:\tlearn: -0.6080913\ttotal: 39s\tremaining: 10.6s\n",
            "787:\tlearn: -0.6080747\ttotal: 39.1s\tremaining: 10.5s\n",
            "788:\tlearn: -0.6080551\ttotal: 39.1s\tremaining: 10.5s\n",
            "789:\tlearn: -0.6080365\ttotal: 39.2s\tremaining: 10.4s\n",
            "790:\tlearn: -0.6080212\ttotal: 39.2s\tremaining: 10.4s\n",
            "791:\tlearn: -0.6080040\ttotal: 39.3s\tremaining: 10.3s\n",
            "792:\tlearn: -0.6079871\ttotal: 39.3s\tremaining: 10.3s\n",
            "793:\tlearn: -0.6079644\ttotal: 39.4s\tremaining: 10.2s\n",
            "794:\tlearn: -0.6079437\ttotal: 39.4s\tremaining: 10.2s\n",
            "795:\tlearn: -0.6079272\ttotal: 39.4s\tremaining: 10.1s\n",
            "796:\tlearn: -0.6079094\ttotal: 39.5s\tremaining: 10.1s\n",
            "797:\tlearn: -0.6078932\ttotal: 39.6s\tremaining: 10s\n",
            "798:\tlearn: -0.6078685\ttotal: 39.6s\tremaining: 9.96s\n",
            "799:\tlearn: -0.6078476\ttotal: 39.6s\tremaining: 9.91s\n",
            "800:\tlearn: -0.6078332\ttotal: 39.7s\tremaining: 9.86s\n",
            "801:\tlearn: -0.6078070\ttotal: 39.7s\tremaining: 9.81s\n",
            "802:\tlearn: -0.6077804\ttotal: 39.8s\tremaining: 9.76s\n",
            "803:\tlearn: -0.6077702\ttotal: 39.8s\tremaining: 9.71s\n",
            "804:\tlearn: -0.6077524\ttotal: 39.9s\tremaining: 9.66s\n",
            "805:\tlearn: -0.6077341\ttotal: 39.9s\tremaining: 9.61s\n",
            "806:\tlearn: -0.6077075\ttotal: 40s\tremaining: 9.56s\n",
            "807:\tlearn: -0.6076855\ttotal: 40s\tremaining: 9.52s\n",
            "808:\tlearn: -0.6076747\ttotal: 40.1s\tremaining: 9.46s\n",
            "809:\tlearn: -0.6076457\ttotal: 40.1s\tremaining: 9.41s\n",
            "810:\tlearn: -0.6076274\ttotal: 40.2s\tremaining: 9.37s\n",
            "811:\tlearn: -0.6076092\ttotal: 40.2s\tremaining: 9.32s\n",
            "812:\tlearn: -0.6075921\ttotal: 40.3s\tremaining: 9.27s\n",
            "813:\tlearn: -0.6075792\ttotal: 40.3s\tremaining: 9.21s\n",
            "814:\tlearn: -0.6075591\ttotal: 40.4s\tremaining: 9.17s\n",
            "815:\tlearn: -0.6075397\ttotal: 40.4s\tremaining: 9.12s\n",
            "816:\tlearn: -0.6075155\ttotal: 40.5s\tremaining: 9.07s\n",
            "817:\tlearn: -0.6074977\ttotal: 40.5s\tremaining: 9.02s\n",
            "818:\tlearn: -0.6074873\ttotal: 40.6s\tremaining: 8.97s\n",
            "819:\tlearn: -0.6074655\ttotal: 40.6s\tremaining: 8.92s\n",
            "820:\tlearn: -0.6074328\ttotal: 40.7s\tremaining: 8.87s\n",
            "821:\tlearn: -0.6074073\ttotal: 40.7s\tremaining: 8.82s\n",
            "822:\tlearn: -0.6073784\ttotal: 40.8s\tremaining: 8.77s\n",
            "823:\tlearn: -0.6073609\ttotal: 40.8s\tremaining: 8.72s\n",
            "824:\tlearn: -0.6073376\ttotal: 40.9s\tremaining: 8.67s\n",
            "825:\tlearn: -0.6073172\ttotal: 40.9s\tremaining: 8.62s\n",
            "826:\tlearn: -0.6072971\ttotal: 41s\tremaining: 8.57s\n",
            "827:\tlearn: -0.6072672\ttotal: 41s\tremaining: 8.52s\n",
            "828:\tlearn: -0.6072391\ttotal: 41.1s\tremaining: 8.47s\n",
            "829:\tlearn: -0.6072206\ttotal: 41.1s\tremaining: 8.42s\n",
            "830:\tlearn: -0.6072026\ttotal: 41.2s\tremaining: 8.37s\n",
            "831:\tlearn: -0.6071745\ttotal: 41.2s\tremaining: 8.32s\n",
            "832:\tlearn: -0.6071620\ttotal: 41.3s\tremaining: 8.27s\n",
            "833:\tlearn: -0.6071421\ttotal: 41.3s\tremaining: 8.22s\n",
            "834:\tlearn: -0.6071259\ttotal: 41.4s\tremaining: 8.18s\n",
            "835:\tlearn: -0.6070963\ttotal: 41.4s\tremaining: 8.13s\n",
            "836:\tlearn: -0.6070570\ttotal: 41.5s\tremaining: 8.08s\n",
            "837:\tlearn: -0.6070336\ttotal: 41.5s\tremaining: 8.03s\n",
            "838:\tlearn: -0.6070106\ttotal: 41.6s\tremaining: 7.98s\n",
            "839:\tlearn: -0.6069949\ttotal: 41.6s\tremaining: 7.93s\n",
            "840:\tlearn: -0.6069772\ttotal: 41.7s\tremaining: 7.88s\n",
            "841:\tlearn: -0.6069392\ttotal: 41.7s\tremaining: 7.83s\n",
            "842:\tlearn: -0.6069258\ttotal: 41.8s\tremaining: 7.78s\n",
            "843:\tlearn: -0.6069011\ttotal: 41.8s\tremaining: 7.73s\n",
            "844:\tlearn: -0.6068700\ttotal: 41.9s\tremaining: 7.68s\n",
            "845:\tlearn: -0.6068484\ttotal: 41.9s\tremaining: 7.63s\n",
            "846:\tlearn: -0.6068279\ttotal: 42s\tremaining: 7.58s\n",
            "847:\tlearn: -0.6068095\ttotal: 42s\tremaining: 7.53s\n",
            "848:\tlearn: -0.6067694\ttotal: 42.1s\tremaining: 7.48s\n",
            "849:\tlearn: -0.6067485\ttotal: 42.1s\tremaining: 7.43s\n",
            "850:\tlearn: -0.6067173\ttotal: 42.2s\tremaining: 7.38s\n",
            "851:\tlearn: -0.6067035\ttotal: 42.2s\tremaining: 7.33s\n",
            "852:\tlearn: -0.6066824\ttotal: 42.3s\tremaining: 7.28s\n",
            "853:\tlearn: -0.6066596\ttotal: 42.3s\tremaining: 7.23s\n",
            "854:\tlearn: -0.6066349\ttotal: 42.4s\tremaining: 7.18s\n",
            "855:\tlearn: -0.6066234\ttotal: 42.4s\tremaining: 7.13s\n",
            "856:\tlearn: -0.6066043\ttotal: 42.5s\tremaining: 7.08s\n",
            "857:\tlearn: -0.6065862\ttotal: 42.5s\tremaining: 7.03s\n",
            "858:\tlearn: -0.6065560\ttotal: 42.6s\tremaining: 6.98s\n",
            "859:\tlearn: -0.6065406\ttotal: 42.6s\tremaining: 6.93s\n",
            "860:\tlearn: -0.6065142\ttotal: 42.6s\tremaining: 6.88s\n",
            "861:\tlearn: -0.6064939\ttotal: 42.7s\tremaining: 6.84s\n",
            "862:\tlearn: -0.6064664\ttotal: 42.8s\tremaining: 6.79s\n",
            "863:\tlearn: -0.6064549\ttotal: 42.8s\tremaining: 6.74s\n",
            "864:\tlearn: -0.6064347\ttotal: 42.9s\tremaining: 6.69s\n",
            "865:\tlearn: -0.6064147\ttotal: 42.9s\tremaining: 6.64s\n",
            "866:\tlearn: -0.6063941\ttotal: 43s\tremaining: 6.59s\n",
            "867:\tlearn: -0.6063685\ttotal: 43s\tremaining: 6.54s\n",
            "868:\tlearn: -0.6063459\ttotal: 43.1s\tremaining: 6.49s\n",
            "869:\tlearn: -0.6063324\ttotal: 43.1s\tremaining: 6.44s\n",
            "870:\tlearn: -0.6063147\ttotal: 43.2s\tremaining: 6.39s\n",
            "871:\tlearn: -0.6062971\ttotal: 43.2s\tremaining: 6.34s\n",
            "872:\tlearn: -0.6062803\ttotal: 43.3s\tremaining: 6.29s\n",
            "873:\tlearn: -0.6062702\ttotal: 43.3s\tremaining: 6.24s\n",
            "874:\tlearn: -0.6062636\ttotal: 43.4s\tremaining: 6.19s\n",
            "875:\tlearn: -0.6062383\ttotal: 43.4s\tremaining: 6.14s\n",
            "876:\tlearn: -0.6062241\ttotal: 43.5s\tremaining: 6.09s\n",
            "877:\tlearn: -0.6062041\ttotal: 43.5s\tremaining: 6.04s\n",
            "878:\tlearn: -0.6061863\ttotal: 43.6s\tremaining: 6s\n",
            "879:\tlearn: -0.6061626\ttotal: 43.6s\tremaining: 5.95s\n",
            "880:\tlearn: -0.6061348\ttotal: 43.7s\tremaining: 5.9s\n",
            "881:\tlearn: -0.6061127\ttotal: 43.7s\tremaining: 5.85s\n",
            "882:\tlearn: -0.6061000\ttotal: 43.8s\tremaining: 5.8s\n",
            "883:\tlearn: -0.6060718\ttotal: 43.8s\tremaining: 5.75s\n",
            "884:\tlearn: -0.6060487\ttotal: 43.9s\tremaining: 5.7s\n",
            "885:\tlearn: -0.6060274\ttotal: 43.9s\tremaining: 5.65s\n",
            "886:\tlearn: -0.6060247\ttotal: 44s\tremaining: 5.6s\n",
            "887:\tlearn: -0.6059958\ttotal: 44s\tremaining: 5.55s\n",
            "888:\tlearn: -0.6059670\ttotal: 44.1s\tremaining: 5.5s\n",
            "889:\tlearn: -0.6059561\ttotal: 44.1s\tremaining: 5.45s\n",
            "890:\tlearn: -0.6059419\ttotal: 44.2s\tremaining: 5.4s\n",
            "891:\tlearn: -0.6059308\ttotal: 44.2s\tremaining: 5.35s\n",
            "892:\tlearn: -0.6059127\ttotal: 44.2s\tremaining: 5.3s\n",
            "893:\tlearn: -0.6058988\ttotal: 44.3s\tremaining: 5.25s\n",
            "894:\tlearn: -0.6058707\ttotal: 44.4s\tremaining: 5.2s\n",
            "895:\tlearn: -0.6058412\ttotal: 44.4s\tremaining: 5.15s\n",
            "896:\tlearn: -0.6058254\ttotal: 44.5s\tremaining: 5.1s\n",
            "897:\tlearn: -0.6058055\ttotal: 44.5s\tremaining: 5.05s\n",
            "898:\tlearn: -0.6057934\ttotal: 44.6s\tremaining: 5s\n",
            "899:\tlearn: -0.6057690\ttotal: 44.6s\tremaining: 4.96s\n",
            "900:\tlearn: -0.6057521\ttotal: 44.7s\tremaining: 4.91s\n",
            "901:\tlearn: -0.6057301\ttotal: 44.7s\tremaining: 4.86s\n",
            "902:\tlearn: -0.6057116\ttotal: 44.8s\tremaining: 4.81s\n",
            "903:\tlearn: -0.6056897\ttotal: 44.8s\tremaining: 4.76s\n",
            "904:\tlearn: -0.6056657\ttotal: 44.9s\tremaining: 4.71s\n",
            "905:\tlearn: -0.6056424\ttotal: 44.9s\tremaining: 4.66s\n",
            "906:\tlearn: -0.6056189\ttotal: 45s\tremaining: 4.61s\n",
            "907:\tlearn: -0.6056013\ttotal: 45s\tremaining: 4.56s\n",
            "908:\tlearn: -0.6055848\ttotal: 45.1s\tremaining: 4.51s\n",
            "909:\tlearn: -0.6055512\ttotal: 45.1s\tremaining: 4.46s\n",
            "910:\tlearn: -0.6055342\ttotal: 45.2s\tremaining: 4.41s\n",
            "911:\tlearn: -0.6055132\ttotal: 45.2s\tremaining: 4.36s\n",
            "912:\tlearn: -0.6054964\ttotal: 45.3s\tremaining: 4.31s\n",
            "913:\tlearn: -0.6054862\ttotal: 45.3s\tremaining: 4.26s\n",
            "914:\tlearn: -0.6054566\ttotal: 45.4s\tremaining: 4.21s\n",
            "915:\tlearn: -0.6054422\ttotal: 45.4s\tremaining: 4.16s\n",
            "916:\tlearn: -0.6054244\ttotal: 45.5s\tremaining: 4.11s\n",
            "917:\tlearn: -0.6054003\ttotal: 45.5s\tremaining: 4.06s\n",
            "918:\tlearn: -0.6053840\ttotal: 45.6s\tremaining: 4.01s\n",
            "919:\tlearn: -0.6053699\ttotal: 45.6s\tremaining: 3.97s\n",
            "920:\tlearn: -0.6053510\ttotal: 45.7s\tremaining: 3.92s\n",
            "921:\tlearn: -0.6053242\ttotal: 45.7s\tremaining: 3.87s\n",
            "922:\tlearn: -0.6053093\ttotal: 45.8s\tremaining: 3.82s\n",
            "923:\tlearn: -0.6053002\ttotal: 45.8s\tremaining: 3.77s\n",
            "924:\tlearn: -0.6052770\ttotal: 45.9s\tremaining: 3.72s\n",
            "925:\tlearn: -0.6052650\ttotal: 45.9s\tremaining: 3.67s\n",
            "926:\tlearn: -0.6052492\ttotal: 46s\tremaining: 3.62s\n",
            "927:\tlearn: -0.6052260\ttotal: 46s\tremaining: 3.57s\n",
            "928:\tlearn: -0.6052184\ttotal: 46.1s\tremaining: 3.52s\n",
            "929:\tlearn: -0.6052052\ttotal: 46.1s\tremaining: 3.47s\n",
            "930:\tlearn: -0.6051795\ttotal: 46.2s\tremaining: 3.42s\n",
            "931:\tlearn: -0.6051603\ttotal: 46.2s\tremaining: 3.37s\n",
            "932:\tlearn: -0.6051417\ttotal: 46.3s\tremaining: 3.32s\n",
            "933:\tlearn: -0.6051263\ttotal: 46.3s\tremaining: 3.27s\n",
            "934:\tlearn: -0.6050942\ttotal: 46.4s\tremaining: 3.22s\n",
            "935:\tlearn: -0.6050729\ttotal: 46.4s\tremaining: 3.17s\n",
            "936:\tlearn: -0.6050226\ttotal: 46.5s\tremaining: 3.12s\n",
            "937:\tlearn: -0.6050115\ttotal: 46.5s\tremaining: 3.07s\n",
            "938:\tlearn: -0.6049830\ttotal: 46.6s\tremaining: 3.02s\n",
            "939:\tlearn: -0.6049652\ttotal: 46.6s\tremaining: 2.97s\n",
            "940:\tlearn: -0.6049419\ttotal: 46.7s\tremaining: 2.92s\n",
            "941:\tlearn: -0.6049198\ttotal: 46.7s\tremaining: 2.88s\n",
            "942:\tlearn: -0.6048975\ttotal: 46.8s\tremaining: 2.83s\n",
            "943:\tlearn: -0.6048781\ttotal: 46.8s\tremaining: 2.78s\n",
            "944:\tlearn: -0.6048518\ttotal: 46.9s\tremaining: 2.73s\n",
            "945:\tlearn: -0.6048393\ttotal: 46.9s\tremaining: 2.68s\n",
            "946:\tlearn: -0.6048238\ttotal: 47s\tremaining: 2.63s\n",
            "947:\tlearn: -0.6048001\ttotal: 47s\tremaining: 2.58s\n",
            "948:\tlearn: -0.6047749\ttotal: 47.1s\tremaining: 2.53s\n",
            "949:\tlearn: -0.6047671\ttotal: 47.1s\tremaining: 2.48s\n",
            "950:\tlearn: -0.6047468\ttotal: 47.2s\tremaining: 2.43s\n",
            "951:\tlearn: -0.6047179\ttotal: 47.2s\tremaining: 2.38s\n",
            "952:\tlearn: -0.6046899\ttotal: 47.3s\tremaining: 2.33s\n",
            "953:\tlearn: -0.6046760\ttotal: 47.3s\tremaining: 2.28s\n",
            "954:\tlearn: -0.6046387\ttotal: 47.4s\tremaining: 2.23s\n",
            "955:\tlearn: -0.6046023\ttotal: 47.4s\tremaining: 2.18s\n",
            "956:\tlearn: -0.6045751\ttotal: 47.5s\tremaining: 2.13s\n",
            "957:\tlearn: -0.6045601\ttotal: 47.5s\tremaining: 2.08s\n",
            "958:\tlearn: -0.6045395\ttotal: 47.6s\tremaining: 2.03s\n",
            "959:\tlearn: -0.6045251\ttotal: 47.6s\tremaining: 1.98s\n",
            "960:\tlearn: -0.6045015\ttotal: 47.6s\tremaining: 1.93s\n",
            "961:\tlearn: -0.6044778\ttotal: 47.7s\tremaining: 1.88s\n",
            "962:\tlearn: -0.6044470\ttotal: 47.8s\tremaining: 1.83s\n",
            "963:\tlearn: -0.6044279\ttotal: 47.8s\tremaining: 1.78s\n",
            "964:\tlearn: -0.6044010\ttotal: 47.8s\tremaining: 1.74s\n",
            "965:\tlearn: -0.6043860\ttotal: 47.9s\tremaining: 1.69s\n",
            "966:\tlearn: -0.6043676\ttotal: 47.9s\tremaining: 1.64s\n",
            "967:\tlearn: -0.6043454\ttotal: 48s\tremaining: 1.59s\n",
            "968:\tlearn: -0.6043195\ttotal: 48s\tremaining: 1.54s\n",
            "969:\tlearn: -0.6043037\ttotal: 48.1s\tremaining: 1.49s\n",
            "970:\tlearn: -0.6042812\ttotal: 48.2s\tremaining: 1.44s\n",
            "971:\tlearn: -0.6042550\ttotal: 48.2s\tremaining: 1.39s\n",
            "972:\tlearn: -0.6042301\ttotal: 48.2s\tremaining: 1.34s\n",
            "973:\tlearn: -0.6042104\ttotal: 48.3s\tremaining: 1.29s\n",
            "974:\tlearn: -0.6041859\ttotal: 48.3s\tremaining: 1.24s\n",
            "975:\tlearn: -0.6041618\ttotal: 48.4s\tremaining: 1.19s\n",
            "976:\tlearn: -0.6041436\ttotal: 48.4s\tremaining: 1.14s\n",
            "977:\tlearn: -0.6041123\ttotal: 48.5s\tremaining: 1.09s\n",
            "978:\tlearn: -0.6040991\ttotal: 48.5s\tremaining: 1.04s\n",
            "979:\tlearn: -0.6040761\ttotal: 48.6s\tremaining: 992ms\n",
            "980:\tlearn: -0.6040542\ttotal: 48.6s\tremaining: 942ms\n",
            "981:\tlearn: -0.6040235\ttotal: 48.7s\tremaining: 893ms\n",
            "982:\tlearn: -0.6039879\ttotal: 48.7s\tremaining: 843ms\n",
            "983:\tlearn: -0.6039696\ttotal: 48.8s\tremaining: 793ms\n",
            "984:\tlearn: -0.6039411\ttotal: 48.8s\tremaining: 744ms\n",
            "985:\tlearn: -0.6039251\ttotal: 48.9s\tremaining: 694ms\n",
            "986:\tlearn: -0.6039069\ttotal: 48.9s\tremaining: 645ms\n",
            "987:\tlearn: -0.6038724\ttotal: 49s\tremaining: 595ms\n",
            "988:\tlearn: -0.6038551\ttotal: 49s\tremaining: 546ms\n",
            "989:\tlearn: -0.6038390\ttotal: 49.1s\tremaining: 496ms\n",
            "990:\tlearn: -0.6038166\ttotal: 49.2s\tremaining: 446ms\n",
            "991:\tlearn: -0.6037961\ttotal: 49.2s\tremaining: 397ms\n",
            "992:\tlearn: -0.6037707\ttotal: 49.3s\tremaining: 347ms\n",
            "993:\tlearn: -0.6037497\ttotal: 49.3s\tremaining: 298ms\n",
            "994:\tlearn: -0.6037355\ttotal: 49.4s\tremaining: 248ms\n",
            "995:\tlearn: -0.6037251\ttotal: 49.4s\tremaining: 198ms\n",
            "996:\tlearn: -0.6037047\ttotal: 49.4s\tremaining: 149ms\n",
            "997:\tlearn: -0.6036788\ttotal: 49.5s\tremaining: 99.2ms\n",
            "998:\tlearn: -0.6036639\ttotal: 49.5s\tremaining: 49.6ms\n",
            "999:\tlearn: -0.6036472\ttotal: 49.6s\tremaining: 0us\n",
            "catboost ::\n",
            " [[ 956   16 1569]\n",
            " [  38  896 1279]\n",
            " [ 589  421 8782]] \n",
            "\n",
            "0.7310600852468032\n"
          ],
          "name": "stdout"
        }
      ]
    },
    {
      "cell_type": "markdown",
      "metadata": {
        "id": "8jTYTMWWYB3s",
        "colab_type": "text"
      },
      "source": [
        "## 5.4 - Modellerin Değerlendirilmesi"
      ]
    },
    {
      "cell_type": "markdown",
      "metadata": {
        "id": "Vdo9LDJPYbo_",
        "colab_type": "text"
      },
      "source": [
        "### 5.4.1 - Accuracy score değerleri"
      ]
    },
    {
      "cell_type": "code",
      "metadata": {
        "id": "A83xcUBHNnII",
        "colab_type": "code",
        "colab": {}
      },
      "source": [
        "    \n",
        "scores = cross_val_score(logis,X_train,y_train,cv=5)\n",
        "print(\"Accuracy for logistic regresion: mean: {0:.2f} 2sd: {1:.2f}\".format(scores.mean(),scores.std() * 2))\n",
        "print(\"Scores::\",scores)\n",
        "print(\"\\n\")\n",
        "\n",
        "scores3 = cross_val_score(knn,X_train,y_train,cv=5)\n",
        "print(\"Accuracy for KNN: mean: {0:.2f} 2sd: {1:.2f}\".format(scores3.mean(),scores3.std() * 2))\n",
        "print(\"Scores::\",scores3)\n",
        "print(\"\\n\")\n",
        "\n",
        "scores4 = cross_val_score(dTmodel,X_train,y_train,cv=5)\n",
        "print(\"Accuracy for Decision Tree: mean: {0:.2f} 2sd: {1:.2f}\".format(scores4.mean(),scores4.std() * 2))\n",
        "print(\"Scores::\",scores4)\n",
        "print(\"\\n\")\n",
        "\n",
        "scores5 = cross_val_score(rForest,X_train,y_train,cv=5)\n",
        "print(\"Accuracy for Random Forest: mean: {0:.2f} 2sd: {1:.2f}\".format(scores5.mean(),scores5.std() * 2))\n",
        "print(\"Scores::\",scores5)\n",
        "print(\"\\n\")\n",
        "\n",
        "scores6 = cross_val_score(grBoosting,X_train,y_train,cv=5)\n",
        "print(\"Accuracy for Gradient Boosting: mean: {0:.2f} 2sd: {1:.2f}\".format(scores6.mean(),scores6.std() * 2))\n",
        "print(\"Scores::\",scores6)\n",
        "print(\"\\n\")\n",
        "\n",
        "scores7 = cross_val_score(xgboost,X_train,y_train,cv=5)\n",
        "print(\"Accuracy for xgboost: mean: {0:.2f} 2sd: {1:.2f}\".format(scores7.mean(),scores7.std() * 2))\n",
        "print(\"Scores::\",scores7)\n",
        "print(\"\\n\")\n",
        "\n"
      ],
      "execution_count": 0,
      "outputs": []
    },
    {
      "cell_type": "markdown",
      "metadata": {
        "id": "UZh3tVCsYipi",
        "colab_type": "text"
      },
      "source": [
        "### 5.4.2 - Model Başarısının Sınanması"
      ]
    },
    {
      "cell_type": "code",
      "metadata": {
        "id": "shQJHuc2PE-u",
        "colab_type": "code",
        "outputId": "9e9b986a-eab9-48a3-8d2c-36f56bdd34aa",
        "colab": {
          "base_uri": "https://localhost:8080/",
          "height": 131
        }
      },
      "source": [
        "models = []\n",
        "models.append(('LR', LogisticRegression()))\n",
        "models.append(('KNN', KNeighborsClassifier()))\n",
        "models.append(('CART', DecisionTreeClassifier()))\n",
        "models.append(('Random Forest', RandomForestClassifier()))\n",
        "models.append(('Gradient Boosting', GradientBoostingClassifier()))\n",
        "models.append(('XGBoost', XGBClassifier()))\n",
        "results = []\n",
        "names = []\n",
        "for name, model in models:\n",
        "    kfold = model_selection.KFold(n_splits=10, random_state=42)\n",
        "    cv_results = model_selection.cross_val_score(model, X_train, Y_train, cv=kfold, scoring=\"accuracy\")\n",
        "    results.append(cv_results)\n",
        "    names.append(name)\n",
        "    print(\"%s: %f (%f)\" % (name, cv_results.mean(), cv_results.std()))"
      ],
      "execution_count": 0,
      "outputs": [
        {
          "output_type": "stream",
          "text": [
            "LR: 0.678091 (0.007067)\n",
            "LDA: 0.676819 (0.006174)\n",
            "KNN: 0.686754 (0.003363)\n",
            "CART: 0.616542 (0.005026)\n",
            "Random Forest: 0.697926 (0.004549)\n",
            "Gradient Boosting: 0.732989 (0.005730)\n",
            "XGBoost: 0.732060 (0.005282)\n"
          ],
          "name": "stdout"
        }
      ]
    },
    {
      "cell_type": "markdown",
      "metadata": {
        "id": "3yMXjgeM8wkd",
        "colab_type": "text"
      },
      "source": [
        "### 5.4.3 - Model Tahmin Başarısı Değerlendirmesi"
      ]
    },
    {
      "cell_type": "markdown",
      "metadata": {
        "id": "ligPovbjQm5T",
        "colab_type": "text"
      },
      "source": [
        "### Aşağıdaki örnekte yalnızca randomForest algoritması için parametre belirleme işlemi gerçekleştirilmiştir. Diğer algoritmalar içinde aynı yöntemle parametreler belirlenebilir. "
      ]
    },
    {
      "cell_type": "code",
      "metadata": {
        "id": "5KWrkBfm8vs1",
        "colab_type": "code",
        "colab": {
          "base_uri": "https://localhost:8080/",
          "height": 34
        },
        "outputId": "51c5e520-6e3b-4769-ac74-afbffa65aca2"
      },
      "source": [
        "clf = RandomForestClassifier()\n",
        "param_grid = {\"max_depth\": [3, None],\n",
        "              \"max_features\": [1, 3, 4],\n",
        "              \"min_samples_split\": [2, 3, 4],\n",
        "              \"bootstrap\": [True, False],\n",
        "              \"criterion\": [\"gini\", \"entropy\"]}\n",
        "\n",
        "# run grid search\n",
        "grid_search = GridSearchCV(clf, param_grid=param_grid, cv=5)\n",
        "\n",
        "grid_search.fit(X_train, y_train)\n",
        "print(grid_search.best_params_)"
      ],
      "execution_count": 114,
      "outputs": [
        {
          "output_type": "stream",
          "text": [
            "{'bootstrap': True, 'criterion': 'gini', 'max_depth': None, 'max_features': 1, 'min_samples_split': 4}\n"
          ],
          "name": "stdout"
        }
      ]
    },
    {
      "cell_type": "code",
      "metadata": {
        "id": "y5ptY0Q-Amlf",
        "colab_type": "code",
        "colab": {
          "base_uri": "https://localhost:8080/",
          "height": 123
        },
        "outputId": "6b58dfca-4d6c-4030-c998-9eee43a64c66"
      },
      "source": [
        "rForest = RandomForestClassifier(bootstrap = True, criterion = 'entropy', max_depth = None, max_features = 1, min_samples_split = 4)\n",
        "rForest.fit(X_train,y_train)\n",
        "prediction=rForest.predict(X_test)\n",
        "print(\"RandomForest ::\\n\",confusion_matrix(y_test,prediction),\"\\n\")\n",
        "print(accuracy_score(y_test, prediction))"
      ],
      "execution_count": 113,
      "outputs": [
        {
          "output_type": "stream",
          "text": [
            "RandomForest ::\n",
            " [[ 922   25 1594]\n",
            " [  44  863 1306]\n",
            " [ 759  535 8498]] \n",
            "\n",
            "0.706929740134745\n"
          ],
          "name": "stdout"
        }
      ]
    },
    {
      "cell_type": "markdown",
      "metadata": {
        "id": "5Qt_cDNwQ2H8",
        "colab_type": "text"
      },
      "source": [
        "### Yapılan parametre belirleme işlemi sonucunda en iyi parametrelerle model tekrar kurulmuştur ve başarı oranı %71'e yükselmiştir. \n",
        "\n"
      ]
    },
    {
      "cell_type": "markdown",
      "metadata": {
        "id": "NErn9VH-Yq4R",
        "colab_type": "text"
      },
      "source": [
        "# 6- Sonuçların Görselleştirilmesi"
      ]
    },
    {
      "cell_type": "code",
      "metadata": {
        "id": "wccH32iBjnZo",
        "colab_type": "code",
        "outputId": "7cbabe06-d349-4f09-cea7-8fd9fdedea2c",
        "colab": {
          "base_uri": "https://localhost:8080/",
          "height": 562
        }
      },
      "source": [
        "methods = [\"Logistic Regression\",\"KNN\", \"Decision Tree\", \"Random Forest\", \"Gradient Boosting\", \"XGBoost\", \"CatBoost\"]\n",
        "accuracy = [scores.mean(), scores3.mean(), scores4.mean(), scores5.mean(), scores6.mean(), scores7.mean(), score8]\n",
        "\n",
        "sns.set()\n",
        "plt.figure(figsize=(16,9))\n",
        "plt.ylabel(\"Uygulanan Algoritmalar\")\n",
        "plt.xlabel(\"Başarı\")\n",
        "sns.barplot(x=accuracy, y=methods, palette=\"vlag\")\n",
        "\n",
        "\n",
        "for line in range(len(methods)):\n",
        "     plt.text(0.65, line-0.15, \"{:.2f}%\".format(accuracy[line]*100), horizontalalignment='left', size='large', color=\"black\")\n"
      ],
      "execution_count": 108,
      "outputs": [
        {
          "output_type": "display_data",
          "data": {
            "image/png": "[encoded data removed]",
            "text/plain": [
              "<Figure size 1152x648 with 1 Axes>"
            ]
          },
          "metadata": {
            "tags": []
          }
        }
      ]
    },
    {
      "cell_type": "markdown",
      "metadata": {
        "id": "QaTEEBYERKiI",
        "colab_type": "text"
      },
      "source": [
        "### Yapılan model değerlendirme işlemleri sonucunda en iyi model %73.36 ile Gradient Boosting olarak belirlenmiştir. "
      ]
    }
  ]
}